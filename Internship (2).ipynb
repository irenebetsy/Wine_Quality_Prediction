{
  "cells": [
    {
      "cell_type": "code",
      "source": [
        "from google.colab import drive\n",
        "drive.mount('/content/drive')"
      ],
      "metadata": {
        "colab": {
          "base_uri": "https://localhost:8080/"
        },
        "id": "VLtmf-Y2yDIc",
        "outputId": "1032df9a-aa5c-4786-977d-b8fc74d8def9"
      },
      "id": "VLtmf-Y2yDIc",
      "execution_count": null,
      "outputs": [
        {
          "output_type": "stream",
          "name": "stdout",
          "text": [
            "Drive already mounted at /content/drive; to attempt to forcibly remount, call drive.mount(\"/content/drive\", force_remount=True).\n"
          ]
        }
      ]
    },
    {
      "cell_type": "code",
      "execution_count": null,
      "id": "a83153b9",
      "metadata": {
        "id": "a83153b9"
      },
      "outputs": [],
      "source": [
        "import pandas as pd\n",
        "import numpy as np"
      ]
    },
    {
      "cell_type": "code",
      "execution_count": null,
      "id": "910ca405",
      "metadata": {
        "colab": {
          "base_uri": "https://localhost:8080/",
          "height": 267
        },
        "id": "910ca405",
        "outputId": "c7d772e2-89a9-4034-8e3c-a8f300a3c64a"
      },
      "outputs": [
        {
          "output_type": "execute_result",
          "data": {
            "text/plain": [
              "    type  fixed acidity  volatile acidity  citric acid  residual sugar  \\\n",
              "0  white            7.0              0.27         0.36            20.7   \n",
              "1  white            6.3              0.30         0.34             1.6   \n",
              "2  white            8.1              0.28         0.40             6.9   \n",
              "3  white            7.2              0.23         0.32             8.5   \n",
              "4  white            7.2              0.23         0.32             8.5   \n",
              "\n",
              "   chlorides  free sulfur dioxide  total sulfur dioxide  density    pH  \\\n",
              "0      0.045                 45.0                 170.0   1.0010  3.00   \n",
              "1      0.049                 14.0                 132.0   0.9940  3.30   \n",
              "2      0.050                 30.0                  97.0   0.9951  3.26   \n",
              "3      0.058                 47.0                 186.0   0.9956  3.19   \n",
              "4      0.058                 47.0                 186.0   0.9956  3.19   \n",
              "\n",
              "   sulphates  alcohol  quality  \n",
              "0       0.45      8.8        6  \n",
              "1       0.49      9.5        6  \n",
              "2       0.44     10.1        6  \n",
              "3       0.40      9.9        6  \n",
              "4       0.40      9.9        6  "
            ],
            "text/html": [
              "\n",
              "  <div id=\"df-f6e4fbda-d497-4326-a324-adb7b94c3801\">\n",
              "    <div class=\"colab-df-container\">\n",
              "      <div>\n",
              "<style scoped>\n",
              "    .dataframe tbody tr th:only-of-type {\n",
              "        vertical-align: middle;\n",
              "    }\n",
              "\n",
              "    .dataframe tbody tr th {\n",
              "        vertical-align: top;\n",
              "    }\n",
              "\n",
              "    .dataframe thead th {\n",
              "        text-align: right;\n",
              "    }\n",
              "</style>\n",
              "<table border=\"1\" class=\"dataframe\">\n",
              "  <thead>\n",
              "    <tr style=\"text-align: right;\">\n",
              "      <th></th>\n",
              "      <th>type</th>\n",
              "      <th>fixed acidity</th>\n",
              "      <th>volatile acidity</th>\n",
              "      <th>citric acid</th>\n",
              "      <th>residual sugar</th>\n",
              "      <th>chlorides</th>\n",
              "      <th>free sulfur dioxide</th>\n",
              "      <th>total sulfur dioxide</th>\n",
              "      <th>density</th>\n",
              "      <th>pH</th>\n",
              "      <th>sulphates</th>\n",
              "      <th>alcohol</th>\n",
              "      <th>quality</th>\n",
              "    </tr>\n",
              "  </thead>\n",
              "  <tbody>\n",
              "    <tr>\n",
              "      <th>0</th>\n",
              "      <td>white</td>\n",
              "      <td>7.0</td>\n",
              "      <td>0.27</td>\n",
              "      <td>0.36</td>\n",
              "      <td>20.7</td>\n",
              "      <td>0.045</td>\n",
              "      <td>45.0</td>\n",
              "      <td>170.0</td>\n",
              "      <td>1.0010</td>\n",
              "      <td>3.00</td>\n",
              "      <td>0.45</td>\n",
              "      <td>8.8</td>\n",
              "      <td>6</td>\n",
              "    </tr>\n",
              "    <tr>\n",
              "      <th>1</th>\n",
              "      <td>white</td>\n",
              "      <td>6.3</td>\n",
              "      <td>0.30</td>\n",
              "      <td>0.34</td>\n",
              "      <td>1.6</td>\n",
              "      <td>0.049</td>\n",
              "      <td>14.0</td>\n",
              "      <td>132.0</td>\n",
              "      <td>0.9940</td>\n",
              "      <td>3.30</td>\n",
              "      <td>0.49</td>\n",
              "      <td>9.5</td>\n",
              "      <td>6</td>\n",
              "    </tr>\n",
              "    <tr>\n",
              "      <th>2</th>\n",
              "      <td>white</td>\n",
              "      <td>8.1</td>\n",
              "      <td>0.28</td>\n",
              "      <td>0.40</td>\n",
              "      <td>6.9</td>\n",
              "      <td>0.050</td>\n",
              "      <td>30.0</td>\n",
              "      <td>97.0</td>\n",
              "      <td>0.9951</td>\n",
              "      <td>3.26</td>\n",
              "      <td>0.44</td>\n",
              "      <td>10.1</td>\n",
              "      <td>6</td>\n",
              "    </tr>\n",
              "    <tr>\n",
              "      <th>3</th>\n",
              "      <td>white</td>\n",
              "      <td>7.2</td>\n",
              "      <td>0.23</td>\n",
              "      <td>0.32</td>\n",
              "      <td>8.5</td>\n",
              "      <td>0.058</td>\n",
              "      <td>47.0</td>\n",
              "      <td>186.0</td>\n",
              "      <td>0.9956</td>\n",
              "      <td>3.19</td>\n",
              "      <td>0.40</td>\n",
              "      <td>9.9</td>\n",
              "      <td>6</td>\n",
              "    </tr>\n",
              "    <tr>\n",
              "      <th>4</th>\n",
              "      <td>white</td>\n",
              "      <td>7.2</td>\n",
              "      <td>0.23</td>\n",
              "      <td>0.32</td>\n",
              "      <td>8.5</td>\n",
              "      <td>0.058</td>\n",
              "      <td>47.0</td>\n",
              "      <td>186.0</td>\n",
              "      <td>0.9956</td>\n",
              "      <td>3.19</td>\n",
              "      <td>0.40</td>\n",
              "      <td>9.9</td>\n",
              "      <td>6</td>\n",
              "    </tr>\n",
              "  </tbody>\n",
              "</table>\n",
              "</div>\n",
              "      <button class=\"colab-df-convert\" onclick=\"convertToInteractive('df-f6e4fbda-d497-4326-a324-adb7b94c3801')\"\n",
              "              title=\"Convert this dataframe to an interactive table.\"\n",
              "              style=\"display:none;\">\n",
              "        \n",
              "  <svg xmlns=\"http://www.w3.org/2000/svg\" height=\"24px\"viewBox=\"0 0 24 24\"\n",
              "       width=\"24px\">\n",
              "    <path d=\"M0 0h24v24H0V0z\" fill=\"none\"/>\n",
              "    <path d=\"M18.56 5.44l.94 2.06.94-2.06 2.06-.94-2.06-.94-.94-2.06-.94 2.06-2.06.94zm-11 1L8.5 8.5l.94-2.06 2.06-.94-2.06-.94L8.5 2.5l-.94 2.06-2.06.94zm10 10l.94 2.06.94-2.06 2.06-.94-2.06-.94-.94-2.06-.94 2.06-2.06.94z\"/><path d=\"M17.41 7.96l-1.37-1.37c-.4-.4-.92-.59-1.43-.59-.52 0-1.04.2-1.43.59L10.3 9.45l-7.72 7.72c-.78.78-.78 2.05 0 2.83L4 21.41c.39.39.9.59 1.41.59.51 0 1.02-.2 1.41-.59l7.78-7.78 2.81-2.81c.8-.78.8-2.07 0-2.86zM5.41 20L4 18.59l7.72-7.72 1.47 1.35L5.41 20z\"/>\n",
              "  </svg>\n",
              "      </button>\n",
              "      \n",
              "  <style>\n",
              "    .colab-df-container {\n",
              "      display:flex;\n",
              "      flex-wrap:wrap;\n",
              "      gap: 12px;\n",
              "    }\n",
              "\n",
              "    .colab-df-convert {\n",
              "      background-color: #E8F0FE;\n",
              "      border: none;\n",
              "      border-radius: 50%;\n",
              "      cursor: pointer;\n",
              "      display: none;\n",
              "      fill: #1967D2;\n",
              "      height: 32px;\n",
              "      padding: 0 0 0 0;\n",
              "      width: 32px;\n",
              "    }\n",
              "\n",
              "    .colab-df-convert:hover {\n",
              "      background-color: #E2EBFA;\n",
              "      box-shadow: 0px 1px 2px rgba(60, 64, 67, 0.3), 0px 1px 3px 1px rgba(60, 64, 67, 0.15);\n",
              "      fill: #174EA6;\n",
              "    }\n",
              "\n",
              "    [theme=dark] .colab-df-convert {\n",
              "      background-color: #3B4455;\n",
              "      fill: #D2E3FC;\n",
              "    }\n",
              "\n",
              "    [theme=dark] .colab-df-convert:hover {\n",
              "      background-color: #434B5C;\n",
              "      box-shadow: 0px 1px 3px 1px rgba(0, 0, 0, 0.15);\n",
              "      filter: drop-shadow(0px 1px 2px rgba(0, 0, 0, 0.3));\n",
              "      fill: #FFFFFF;\n",
              "    }\n",
              "  </style>\n",
              "\n",
              "      <script>\n",
              "        const buttonEl =\n",
              "          document.querySelector('#df-f6e4fbda-d497-4326-a324-adb7b94c3801 button.colab-df-convert');\n",
              "        buttonEl.style.display =\n",
              "          google.colab.kernel.accessAllowed ? 'block' : 'none';\n",
              "\n",
              "        async function convertToInteractive(key) {\n",
              "          const element = document.querySelector('#df-f6e4fbda-d497-4326-a324-adb7b94c3801');\n",
              "          const dataTable =\n",
              "            await google.colab.kernel.invokeFunction('convertToInteractive',\n",
              "                                                     [key], {});\n",
              "          if (!dataTable) return;\n",
              "\n",
              "          const docLinkHtml = 'Like what you see? Visit the ' +\n",
              "            '<a target=\"_blank\" href=https://colab.research.google.com/notebooks/data_table.ipynb>data table notebook</a>'\n",
              "            + ' to learn more about interactive tables.';\n",
              "          element.innerHTML = '';\n",
              "          dataTable['output_type'] = 'display_data';\n",
              "          await google.colab.output.renderOutput(dataTable, element);\n",
              "          const docLink = document.createElement('div');\n",
              "          docLink.innerHTML = docLinkHtml;\n",
              "          element.appendChild(docLink);\n",
              "        }\n",
              "      </script>\n",
              "    </div>\n",
              "  </div>\n",
              "  "
            ]
          },
          "metadata": {},
          "execution_count": 58
        }
      ],
      "source": [
        "df = pd.read_csv('/content/drive/MyDrive/winequality.csv')\n",
        "df.head()"
      ]
    },
    {
      "cell_type": "code",
      "execution_count": null,
      "id": "7e86e61c",
      "metadata": {
        "colab": {
          "base_uri": "https://localhost:8080/"
        },
        "id": "7e86e61c",
        "outputId": "af5e25cf-c3a3-485f-a38c-52ca8b9c95ec"
      },
      "outputs": [
        {
          "output_type": "execute_result",
          "data": {
            "text/plain": [
              "type                     0\n",
              "fixed acidity           10\n",
              "volatile acidity         8\n",
              "citric acid              3\n",
              "residual sugar           2\n",
              "chlorides                2\n",
              "free sulfur dioxide      0\n",
              "total sulfur dioxide     0\n",
              "density                  0\n",
              "pH                       9\n",
              "sulphates                4\n",
              "alcohol                  0\n",
              "quality                  0\n",
              "dtype: int64"
            ]
          },
          "metadata": {},
          "execution_count": 59
        }
      ],
      "source": [
        "# check for null values\n",
        "df.isnull().sum()"
      ]
    },
    {
      "cell_type": "code",
      "execution_count": null,
      "id": "76a212fd",
      "metadata": {
        "id": "76a212fd"
      },
      "outputs": [],
      "source": [
        "df['fixed acidity'].fillna((df['fixed acidity'].mean()), inplace=True)\n",
        "df['volatile acidity'].fillna((df['volatile acidity'].mean()), inplace=True)\n",
        "df['citric acid'].fillna((df['citric acid'].mean()), inplace=True)\n",
        "df['residual sugar'].fillna((df['residual sugar'].mean()), inplace=True)\n",
        "df['chlorides'].fillna((df['chlorides'].mean()), inplace=True)\n",
        "df['pH'].fillna((df['pH'].mean()), inplace=True)\n",
        "df['sulphates'].fillna((df['sulphates'].mean()), inplace=True)"
      ]
    },
    {
      "cell_type": "code",
      "execution_count": null,
      "id": "ee8220cc",
      "metadata": {
        "scrolled": true,
        "colab": {
          "base_uri": "https://localhost:8080/"
        },
        "id": "ee8220cc",
        "outputId": "9b553600-7859-4b7d-b8c0-1cf65d31aa7e"
      },
      "outputs": [
        {
          "output_type": "execute_result",
          "data": {
            "text/plain": [
              "type                    0\n",
              "fixed acidity           0\n",
              "volatile acidity        0\n",
              "citric acid             0\n",
              "residual sugar          0\n",
              "chlorides               0\n",
              "free sulfur dioxide     0\n",
              "total sulfur dioxide    0\n",
              "density                 0\n",
              "pH                      0\n",
              "sulphates               0\n",
              "alcohol                 0\n",
              "quality                 0\n",
              "dtype: int64"
            ]
          },
          "metadata": {},
          "execution_count": 61
        }
      ],
      "source": [
        "df.isnull().sum()"
      ]
    },
    {
      "cell_type": "code",
      "source": [
        "# Encoding the target variable\n",
        "from sklearn import preprocessing\n",
        "label_encoder = preprocessing.LabelEncoder()\n",
        "df['type']= label_encoder.fit_transform(df.type)\n",
        "df"
      ],
      "metadata": {
        "colab": {
          "base_uri": "https://localhost:8080/",
          "height": 485
        },
        "id": "8kuBauIf0TOc",
        "outputId": "17df58e0-121c-44c9-ce7d-1b50f302b24f"
      },
      "id": "8kuBauIf0TOc",
      "execution_count": null,
      "outputs": [
        {
          "output_type": "execute_result",
          "data": {
            "text/plain": [
              "      type  fixed acidity  volatile acidity  citric acid  residual sugar  \\\n",
              "0        1            7.0             0.270         0.36            20.7   \n",
              "1        1            6.3             0.300         0.34             1.6   \n",
              "2        1            8.1             0.280         0.40             6.9   \n",
              "3        1            7.2             0.230         0.32             8.5   \n",
              "4        1            7.2             0.230         0.32             8.5   \n",
              "...    ...            ...               ...          ...             ...   \n",
              "6492     0            6.2             0.600         0.08             2.0   \n",
              "6493     0            5.9             0.550         0.10             2.2   \n",
              "6494     0            6.3             0.510         0.13             2.3   \n",
              "6495     0            5.9             0.645         0.12             2.0   \n",
              "6496     0            6.0             0.310         0.47             3.6   \n",
              "\n",
              "      chlorides  free sulfur dioxide  total sulfur dioxide  density    pH  \\\n",
              "0         0.045                 45.0                 170.0  1.00100  3.00   \n",
              "1         0.049                 14.0                 132.0  0.99400  3.30   \n",
              "2         0.050                 30.0                  97.0  0.99510  3.26   \n",
              "3         0.058                 47.0                 186.0  0.99560  3.19   \n",
              "4         0.058                 47.0                 186.0  0.99560  3.19   \n",
              "...         ...                  ...                   ...      ...   ...   \n",
              "6492      0.090                 32.0                  44.0  0.99490  3.45   \n",
              "6493      0.062                 39.0                  51.0  0.99512  3.52   \n",
              "6494      0.076                 29.0                  40.0  0.99574  3.42   \n",
              "6495      0.075                 32.0                  44.0  0.99547  3.57   \n",
              "6496      0.067                 18.0                  42.0  0.99549  3.39   \n",
              "\n",
              "      sulphates  alcohol  quality  \n",
              "0      0.450000      8.8        6  \n",
              "1      0.490000      9.5        6  \n",
              "2      0.440000     10.1        6  \n",
              "3      0.400000      9.9        6  \n",
              "4      0.400000      9.9        6  \n",
              "...         ...      ...      ...  \n",
              "6492   0.580000     10.5        5  \n",
              "6493   0.531215     11.2        6  \n",
              "6494   0.750000     11.0        6  \n",
              "6495   0.710000     10.2        5  \n",
              "6496   0.660000     11.0        6  \n",
              "\n",
              "[6497 rows x 13 columns]"
            ],
            "text/html": [
              "\n",
              "  <div id=\"df-a484755e-8034-427e-9835-51befd03a95f\">\n",
              "    <div class=\"colab-df-container\">\n",
              "      <div>\n",
              "<style scoped>\n",
              "    .dataframe tbody tr th:only-of-type {\n",
              "        vertical-align: middle;\n",
              "    }\n",
              "\n",
              "    .dataframe tbody tr th {\n",
              "        vertical-align: top;\n",
              "    }\n",
              "\n",
              "    .dataframe thead th {\n",
              "        text-align: right;\n",
              "    }\n",
              "</style>\n",
              "<table border=\"1\" class=\"dataframe\">\n",
              "  <thead>\n",
              "    <tr style=\"text-align: right;\">\n",
              "      <th></th>\n",
              "      <th>type</th>\n",
              "      <th>fixed acidity</th>\n",
              "      <th>volatile acidity</th>\n",
              "      <th>citric acid</th>\n",
              "      <th>residual sugar</th>\n",
              "      <th>chlorides</th>\n",
              "      <th>free sulfur dioxide</th>\n",
              "      <th>total sulfur dioxide</th>\n",
              "      <th>density</th>\n",
              "      <th>pH</th>\n",
              "      <th>sulphates</th>\n",
              "      <th>alcohol</th>\n",
              "      <th>quality</th>\n",
              "    </tr>\n",
              "  </thead>\n",
              "  <tbody>\n",
              "    <tr>\n",
              "      <th>0</th>\n",
              "      <td>1</td>\n",
              "      <td>7.0</td>\n",
              "      <td>0.270</td>\n",
              "      <td>0.36</td>\n",
              "      <td>20.7</td>\n",
              "      <td>0.045</td>\n",
              "      <td>45.0</td>\n",
              "      <td>170.0</td>\n",
              "      <td>1.00100</td>\n",
              "      <td>3.00</td>\n",
              "      <td>0.450000</td>\n",
              "      <td>8.8</td>\n",
              "      <td>6</td>\n",
              "    </tr>\n",
              "    <tr>\n",
              "      <th>1</th>\n",
              "      <td>1</td>\n",
              "      <td>6.3</td>\n",
              "      <td>0.300</td>\n",
              "      <td>0.34</td>\n",
              "      <td>1.6</td>\n",
              "      <td>0.049</td>\n",
              "      <td>14.0</td>\n",
              "      <td>132.0</td>\n",
              "      <td>0.99400</td>\n",
              "      <td>3.30</td>\n",
              "      <td>0.490000</td>\n",
              "      <td>9.5</td>\n",
              "      <td>6</td>\n",
              "    </tr>\n",
              "    <tr>\n",
              "      <th>2</th>\n",
              "      <td>1</td>\n",
              "      <td>8.1</td>\n",
              "      <td>0.280</td>\n",
              "      <td>0.40</td>\n",
              "      <td>6.9</td>\n",
              "      <td>0.050</td>\n",
              "      <td>30.0</td>\n",
              "      <td>97.0</td>\n",
              "      <td>0.99510</td>\n",
              "      <td>3.26</td>\n",
              "      <td>0.440000</td>\n",
              "      <td>10.1</td>\n",
              "      <td>6</td>\n",
              "    </tr>\n",
              "    <tr>\n",
              "      <th>3</th>\n",
              "      <td>1</td>\n",
              "      <td>7.2</td>\n",
              "      <td>0.230</td>\n",
              "      <td>0.32</td>\n",
              "      <td>8.5</td>\n",
              "      <td>0.058</td>\n",
              "      <td>47.0</td>\n",
              "      <td>186.0</td>\n",
              "      <td>0.99560</td>\n",
              "      <td>3.19</td>\n",
              "      <td>0.400000</td>\n",
              "      <td>9.9</td>\n",
              "      <td>6</td>\n",
              "    </tr>\n",
              "    <tr>\n",
              "      <th>4</th>\n",
              "      <td>1</td>\n",
              "      <td>7.2</td>\n",
              "      <td>0.230</td>\n",
              "      <td>0.32</td>\n",
              "      <td>8.5</td>\n",
              "      <td>0.058</td>\n",
              "      <td>47.0</td>\n",
              "      <td>186.0</td>\n",
              "      <td>0.99560</td>\n",
              "      <td>3.19</td>\n",
              "      <td>0.400000</td>\n",
              "      <td>9.9</td>\n",
              "      <td>6</td>\n",
              "    </tr>\n",
              "    <tr>\n",
              "      <th>...</th>\n",
              "      <td>...</td>\n",
              "      <td>...</td>\n",
              "      <td>...</td>\n",
              "      <td>...</td>\n",
              "      <td>...</td>\n",
              "      <td>...</td>\n",
              "      <td>...</td>\n",
              "      <td>...</td>\n",
              "      <td>...</td>\n",
              "      <td>...</td>\n",
              "      <td>...</td>\n",
              "      <td>...</td>\n",
              "      <td>...</td>\n",
              "    </tr>\n",
              "    <tr>\n",
              "      <th>6492</th>\n",
              "      <td>0</td>\n",
              "      <td>6.2</td>\n",
              "      <td>0.600</td>\n",
              "      <td>0.08</td>\n",
              "      <td>2.0</td>\n",
              "      <td>0.090</td>\n",
              "      <td>32.0</td>\n",
              "      <td>44.0</td>\n",
              "      <td>0.99490</td>\n",
              "      <td>3.45</td>\n",
              "      <td>0.580000</td>\n",
              "      <td>10.5</td>\n",
              "      <td>5</td>\n",
              "    </tr>\n",
              "    <tr>\n",
              "      <th>6493</th>\n",
              "      <td>0</td>\n",
              "      <td>5.9</td>\n",
              "      <td>0.550</td>\n",
              "      <td>0.10</td>\n",
              "      <td>2.2</td>\n",
              "      <td>0.062</td>\n",
              "      <td>39.0</td>\n",
              "      <td>51.0</td>\n",
              "      <td>0.99512</td>\n",
              "      <td>3.52</td>\n",
              "      <td>0.531215</td>\n",
              "      <td>11.2</td>\n",
              "      <td>6</td>\n",
              "    </tr>\n",
              "    <tr>\n",
              "      <th>6494</th>\n",
              "      <td>0</td>\n",
              "      <td>6.3</td>\n",
              "      <td>0.510</td>\n",
              "      <td>0.13</td>\n",
              "      <td>2.3</td>\n",
              "      <td>0.076</td>\n",
              "      <td>29.0</td>\n",
              "      <td>40.0</td>\n",
              "      <td>0.99574</td>\n",
              "      <td>3.42</td>\n",
              "      <td>0.750000</td>\n",
              "      <td>11.0</td>\n",
              "      <td>6</td>\n",
              "    </tr>\n",
              "    <tr>\n",
              "      <th>6495</th>\n",
              "      <td>0</td>\n",
              "      <td>5.9</td>\n",
              "      <td>0.645</td>\n",
              "      <td>0.12</td>\n",
              "      <td>2.0</td>\n",
              "      <td>0.075</td>\n",
              "      <td>32.0</td>\n",
              "      <td>44.0</td>\n",
              "      <td>0.99547</td>\n",
              "      <td>3.57</td>\n",
              "      <td>0.710000</td>\n",
              "      <td>10.2</td>\n",
              "      <td>5</td>\n",
              "    </tr>\n",
              "    <tr>\n",
              "      <th>6496</th>\n",
              "      <td>0</td>\n",
              "      <td>6.0</td>\n",
              "      <td>0.310</td>\n",
              "      <td>0.47</td>\n",
              "      <td>3.6</td>\n",
              "      <td>0.067</td>\n",
              "      <td>18.0</td>\n",
              "      <td>42.0</td>\n",
              "      <td>0.99549</td>\n",
              "      <td>3.39</td>\n",
              "      <td>0.660000</td>\n",
              "      <td>11.0</td>\n",
              "      <td>6</td>\n",
              "    </tr>\n",
              "  </tbody>\n",
              "</table>\n",
              "<p>6497 rows × 13 columns</p>\n",
              "</div>\n",
              "      <button class=\"colab-df-convert\" onclick=\"convertToInteractive('df-a484755e-8034-427e-9835-51befd03a95f')\"\n",
              "              title=\"Convert this dataframe to an interactive table.\"\n",
              "              style=\"display:none;\">\n",
              "        \n",
              "  <svg xmlns=\"http://www.w3.org/2000/svg\" height=\"24px\"viewBox=\"0 0 24 24\"\n",
              "       width=\"24px\">\n",
              "    <path d=\"M0 0h24v24H0V0z\" fill=\"none\"/>\n",
              "    <path d=\"M18.56 5.44l.94 2.06.94-2.06 2.06-.94-2.06-.94-.94-2.06-.94 2.06-2.06.94zm-11 1L8.5 8.5l.94-2.06 2.06-.94-2.06-.94L8.5 2.5l-.94 2.06-2.06.94zm10 10l.94 2.06.94-2.06 2.06-.94-2.06-.94-.94-2.06-.94 2.06-2.06.94z\"/><path d=\"M17.41 7.96l-1.37-1.37c-.4-.4-.92-.59-1.43-.59-.52 0-1.04.2-1.43.59L10.3 9.45l-7.72 7.72c-.78.78-.78 2.05 0 2.83L4 21.41c.39.39.9.59 1.41.59.51 0 1.02-.2 1.41-.59l7.78-7.78 2.81-2.81c.8-.78.8-2.07 0-2.86zM5.41 20L4 18.59l7.72-7.72 1.47 1.35L5.41 20z\"/>\n",
              "  </svg>\n",
              "      </button>\n",
              "      \n",
              "  <style>\n",
              "    .colab-df-container {\n",
              "      display:flex;\n",
              "      flex-wrap:wrap;\n",
              "      gap: 12px;\n",
              "    }\n",
              "\n",
              "    .colab-df-convert {\n",
              "      background-color: #E8F0FE;\n",
              "      border: none;\n",
              "      border-radius: 50%;\n",
              "      cursor: pointer;\n",
              "      display: none;\n",
              "      fill: #1967D2;\n",
              "      height: 32px;\n",
              "      padding: 0 0 0 0;\n",
              "      width: 32px;\n",
              "    }\n",
              "\n",
              "    .colab-df-convert:hover {\n",
              "      background-color: #E2EBFA;\n",
              "      box-shadow: 0px 1px 2px rgba(60, 64, 67, 0.3), 0px 1px 3px 1px rgba(60, 64, 67, 0.15);\n",
              "      fill: #174EA6;\n",
              "    }\n",
              "\n",
              "    [theme=dark] .colab-df-convert {\n",
              "      background-color: #3B4455;\n",
              "      fill: #D2E3FC;\n",
              "    }\n",
              "\n",
              "    [theme=dark] .colab-df-convert:hover {\n",
              "      background-color: #434B5C;\n",
              "      box-shadow: 0px 1px 3px 1px rgba(0, 0, 0, 0.15);\n",
              "      filter: drop-shadow(0px 1px 2px rgba(0, 0, 0, 0.3));\n",
              "      fill: #FFFFFF;\n",
              "    }\n",
              "  </style>\n",
              "\n",
              "      <script>\n",
              "        const buttonEl =\n",
              "          document.querySelector('#df-a484755e-8034-427e-9835-51befd03a95f button.colab-df-convert');\n",
              "        buttonEl.style.display =\n",
              "          google.colab.kernel.accessAllowed ? 'block' : 'none';\n",
              "\n",
              "        async function convertToInteractive(key) {\n",
              "          const element = document.querySelector('#df-a484755e-8034-427e-9835-51befd03a95f');\n",
              "          const dataTable =\n",
              "            await google.colab.kernel.invokeFunction('convertToInteractive',\n",
              "                                                     [key], {});\n",
              "          if (!dataTable) return;\n",
              "\n",
              "          const docLinkHtml = 'Like what you see? Visit the ' +\n",
              "            '<a target=\"_blank\" href=https://colab.research.google.com/notebooks/data_table.ipynb>data table notebook</a>'\n",
              "            + ' to learn more about interactive tables.';\n",
              "          element.innerHTML = '';\n",
              "          dataTable['output_type'] = 'display_data';\n",
              "          await google.colab.output.renderOutput(dataTable, element);\n",
              "          const docLink = document.createElement('div');\n",
              "          docLink.innerHTML = docLinkHtml;\n",
              "          element.appendChild(docLink);\n",
              "        }\n",
              "      </script>\n",
              "    </div>\n",
              "  </div>\n",
              "  "
            ]
          },
          "metadata": {},
          "execution_count": 62
        }
      ]
    },
    {
      "cell_type": "code",
      "source": [
        "import seaborn as sns\n",
        "import matplotlib.pyplot as plt\n",
        "sns.set(rc={'figure.figsize':(20,8.27)})\n",
        "sns.countplot(x ='type', data = df)\n",
        "plt.show()"
      ],
      "metadata": {
        "colab": {
          "base_uri": "https://localhost:8080/",
          "height": 517
        },
        "id": "pKQZifqVz-K7",
        "outputId": "2d6a7bdf-3358-46d2-847e-99c6eb7904ea"
      },
      "id": "pKQZifqVz-K7",
      "execution_count": null,
      "outputs": [
        {
          "output_type": "display_data",
          "data": {
            "text/plain": [
              "<Figure size 1440x595.44 with 1 Axes>"
            ],
            "image/png": "[encoded data removed]"
          },
          "metadata": {}
        }
      ]
    },
    {
      "cell_type": "code",
      "execution_count": null,
      "id": "c6d3c607",
      "metadata": {
        "colab": {
          "base_uri": "https://localhost:8080/",
          "height": 450
        },
        "id": "c6d3c607",
        "outputId": "bb1c171e-e063-49d1-9746-75dfc47b3b97"
      },
      "outputs": [
        {
          "output_type": "display_data",
          "data": {
            "text/plain": [
              "<Figure size 720x504 with 1 Axes>"
            ],
            "image/png": "[encoded data removed]"
          },
          "metadata": {}
        }
      ],
      "source": [
        "import matplotlib.pyplot as plt\n",
        "plt.figure(figsize=(10,7))\n",
        "plt.scatter(x=\"alcohol\",y=\"fixed acidity\",data =df,marker= 'o',color='purple')\n",
        "plt.xlabel(\"alcohol\",fontsize=15)\n",
        "plt.ylabel(\"fixed_acidity\",fontsize=15)\n",
        "plt.show()"
      ]
    },
    {
      "cell_type": "code",
      "execution_count": null,
      "id": "543efcca",
      "metadata": {
        "colab": {
          "base_uri": "https://localhost:8080/",
          "height": 594
        },
        "id": "543efcca",
        "outputId": "52c1babd-faa5-4974-ffab-4d0cf0e49016"
      },
      "outputs": [
        {
          "output_type": "display_data",
          "data": {
            "text/plain": [
              "<Figure size 1440x720 with 1 Axes>"
            ],
            "image/png": "[encoded data removed]"
          },
          "metadata": {}
        }
      ],
      "source": [
        "import seaborn as sns\n",
        "sns.set()\n",
        "plt.figure(figsize=(20,10))\n",
        "sns.boxplot(data=df,palette=\"Set3\")\n",
        "plt.show()"
      ]
    },
    {
      "cell_type": "code",
      "execution_count": null,
      "id": "b1364f37",
      "metadata": {
        "scrolled": true,
        "colab": {
          "base_uri": "https://localhost:8080/"
        },
        "id": "b1364f37",
        "outputId": "c2b9016f-4e6c-4f9b-f847-d25e61e75cb1"
      },
      "outputs": [
        {
          "output_type": "stream",
          "name": "stdout",
          "text": [
            "(array([   0,    7,   40,   41,  182,  191,  194,  195,  196,  207,  250,\n",
            "        251,  253,  292,  294,  325,  325,  372,  395,  405,  444,  445,\n",
            "        484,  531,  600,  659,  683,  687,  729,  740,  745,  774,  820,\n",
            "        827,  830,  834,  859,  873,  876,  946, 1034, 1034, 1051, 1158,\n",
            "       1163, 1217, 1229, 1250, 1255, 1257, 1272, 1369, 1385, 1417, 1417,\n",
            "       1454, 1476, 1484, 1526, 1551, 1598, 1599, 1605, 1608, 1638, 1653,\n",
            "       1653, 1663, 1663, 1681, 1688, 1688, 1722, 1775, 1835, 1842, 1856,\n",
            "       1865, 1900, 1925, 1926, 1931, 1931, 1931, 1951, 2024, 2026, 2036,\n",
            "       2050, 2050, 2127, 2154, 2186, 2186, 2321, 2334, 2336, 2349, 2373,\n",
            "       2403, 2441, 2465, 2466, 2489, 2492, 2575, 2620, 2625, 2654, 2668,\n",
            "       2704, 2705, 2711, 2728, 2735, 2748, 2750, 2771, 2781, 2781, 2781,\n",
            "       2785, 2787, 2820, 2849, 2872, 2874, 2893, 2964, 3014, 3023, 3025,\n",
            "       3043, 3050, 3064, 3066, 3072, 3087, 3152, 3152, 3265, 3283, 3288,\n",
            "       3307, 3307, 3379, 3387, 3409, 3420, 3461, 3470, 3497, 3497, 3520,\n",
            "       3523, 3547, 3619, 3620, 3623, 3730, 3737, 3810, 3848, 3848, 3861,\n",
            "       3862, 3863, 3868, 3869, 3871, 3911, 3918, 3937, 3972, 3998, 3999,\n",
            "       4000, 4012, 4039, 4107, 4109, 4173, 4173, 4239, 4259, 4299, 4300,\n",
            "       4344, 4346, 4470, 4473, 4480, 4497, 4582, 4591, 4626, 4632, 4698,\n",
            "       4745, 4745, 4745, 4793, 4794, 4841, 4886, 4899, 4901, 4911, 4912,\n",
            "       4913, 4915, 4915, 4917, 4917, 4936, 4936, 4940, 4941, 4943, 4944,\n",
            "       4977, 4979, 4979, 4981, 4981, 4984, 4986, 4989, 4990, 4992, 4992,\n",
            "       4993, 4996, 5004, 5004, 5018, 5018, 5024, 5025, 5032, 5045, 5049,\n",
            "       5049, 5049, 5058, 5059, 5067, 5067, 5068, 5079, 5079, 5095, 5096,\n",
            "       5097, 5099, 5103, 5104, 5110, 5124, 5124, 5132, 5137, 5138, 5138,\n",
            "       5139, 5141, 5142, 5156, 5156, 5156, 5159, 5162, 5163, 5164, 5167,\n",
            "       5169, 5175, 5178, 5179, 5179, 5184, 5187, 5189, 5192, 5201, 5205,\n",
            "       5206, 5224, 5226, 5233, 5236, 5236, 5237, 5237, 5238, 5238, 5242,\n",
            "       5245, 5248, 5251, 5251, 5254, 5256, 5257, 5260, 5261, 5262, 5264,\n",
            "       5267, 5270, 5272, 5273, 5274, 5274, 5275, 5276, 5276, 5279, 5288,\n",
            "       5289, 5292, 5293, 5293, 5295, 5296, 5300, 5301, 5305, 5306, 5307,\n",
            "       5313, 5316, 5319, 5320, 5322, 5323, 5327, 5327, 5330, 5331, 5333,\n",
            "       5338, 5339, 5340, 5340, 5344, 5347, 5348, 5349, 5349, 5353, 5357,\n",
            "       5357, 5362, 5366, 5368, 5370, 5375, 5380, 5381, 5386, 5401, 5402,\n",
            "       5404, 5405, 5407, 5408, 5413, 5414, 5415, 5415, 5420, 5429, 5430,\n",
            "       5436, 5437, 5441, 5442, 5446, 5447, 5451, 5451, 5452, 5453, 5455,\n",
            "       5457, 5458, 5462, 5463, 5464, 5465, 5466, 5468, 5473, 5478, 5479,\n",
            "       5480, 5481, 5482, 5484, 5486, 5494, 5495, 5497, 5498, 5499, 5500,\n",
            "       5501, 5509, 5512, 5515, 5516, 5517, 5531, 5533, 5534, 5535, 5536,\n",
            "       5537, 5545, 5549, 5550, 5550, 5555, 5557, 5562, 5564, 5565, 5567,\n",
            "       5570, 5578, 5582, 5587, 5588, 5588, 5589, 5590, 5590, 5593, 5597,\n",
            "       5598, 5603, 5608, 5621, 5622, 5627, 5628, 5629, 5630, 5633, 5634,\n",
            "       5641, 5652, 5652, 5653, 5654, 5655, 5656, 5673, 5674, 5675, 5678,\n",
            "       5693, 5693, 5706, 5709, 5712, 5719, 5730, 5731, 5750, 5756, 5759,\n",
            "       5780, 5787, 5797, 5797, 5835, 5844, 5877, 5879, 5882, 5894, 5895,\n",
            "       5896, 5910, 5918, 5919, 5935, 5938, 5949, 5949, 5958, 5979, 5986,\n",
            "       5987, 5996, 6007, 6009, 6044, 6056, 6063, 6063, 6064, 6074, 6076,\n",
            "       6087, 6089, 6089, 6091, 6091, 6122, 6158, 6158, 6159, 6183, 6186,\n",
            "       6187, 6197, 6197, 6198, 6199, 6210, 6214, 6217, 6217, 6219, 6229,\n",
            "       6232, 6232, 6242, 6256, 6257, 6259, 6260, 6265, 6268, 6268, 6269,\n",
            "       6270, 6270, 6272, 6272, 6274, 6275, 6301, 6306, 6308, 6332, 6333,\n",
            "       6334, 6335, 6352, 6353, 6365, 6367, 6367, 6372, 6374, 6376, 6376,\n",
            "       6382, 6386, 6389, 6396, 6403, 6412, 6413, 6440, 6446, 6452, 6454,\n",
            "       6455, 6456, 6468, 6472]), array([ 4,  4,  5,  5,  4,  4,  5,  5,  5,  3,  9, 12, 12,  4, 12,  6,  7,\n",
            "        2,  6,  6,  4, 12,  5,  5,  5,  6,  5,  5,  5, 12,  3, 12, 12, 12,\n",
            "        9,  9,  5, 12, 12,  3,  5, 12,  3,  5,  5,  5, 12,  9,  9,  6,  5,\n",
            "        5,  9,  7, 12,  4,  2, 12,  1,  3,  5,  5, 12,  4,  5,  4,  8,  4,\n",
            "        8,  9,  6, 12,  3,  3,  5,  6,  2,  5,  9,  5,  5,  6,  7, 12,  2,\n",
            "        5,  5,  9,  1, 12,  7,  2,  3,  5,  9,  6,  6,  5, 12, 10, 10,  3,\n",
            "        3,  4,  4,  6,  4,  6,  7, 10,  5,  5,  9,  6,  6,  6,  6,  9,  2,\n",
            "        4,  8,  4,  4,  3,  5,  6, 10,  6,  9,  4,  4,  9,  3,  6,  3,  3,\n",
            "        6, 12,  3,  7, 12,  5,  5,  6, 12,  6,  6, 12,  4,  6,  6,  3,  4,\n",
            "        6,  6,  4,  4,  6,  4,  4,  5, 12,  3,  5,  6,  6,  6,  6,  6,  6,\n",
            "        3, 11,  5,  5, 10, 10, 10, 10,  2,  4,  9,  3,  5, 10,  9,  5,  5,\n",
            "        5,  5,  9,  5,  4,  5, 10,  3,  3,  3,  5,  6,  7, 12,  5,  5,  6,\n",
            "       10,  2,  1, 10,  5,  5,  5, 10,  5, 10,  2,  5,  5, 10,  9,  2, 10,\n",
            "        5, 10,  5, 10, 10, 10, 10, 10,  2,  9,  9,  2,  5, 10,  2,  5,  2,\n",
            "        2,  2,  5,  3,  5, 10,  2, 10,  5, 10,  2,  5, 10,  1,  2,  2, 10,\n",
            "        1,  1,  1,  5, 10,  2,  2,  5, 10,  1,  1,  1,  3,  5, 10,  2,  1,\n",
            "        1,  2,  1,  1,  1,  1,  5, 10,  1,  1,  5,  1,  5,  5,  5,  1,  1,\n",
            "        1,  1, 10,  1, 10,  1, 10,  1,  1, 10,  1,  3,  1,  1,  1,  1,  1,\n",
            "        1,  1, 10, 10,  1,  1,  1, 10, 10,  1, 10,  1,  2,  1,  1,  1,  3,\n",
            "        1,  1,  1,  1,  1,  5,  1, 10,  1,  2,  2,  2,  2,  1,  2,  1,  1,\n",
            "        1,  1,  1,  1,  3,  1,  1,  1,  5, 10,  1,  1, 12,  1,  1,  1,  1,\n",
            "       10, 10, 10,  1, 10, 10, 10,  1,  1,  1, 10,  1,  5, 12, 10,  1,  1,\n",
            "        1,  1,  1,  1,  1,  5,  2,  9,  1,  1,  1,  1,  1,  1,  1,  5,  5,\n",
            "        5,  1,  1,  1,  1,  1,  1,  1, 10,  9,  1,  1,  1,  2,  1,  2,  1,\n",
            "        1, 10,  1,  1,  1,  2,  2,  2,  2,  2, 10,  2,  2,  1, 11,  1,  2,\n",
            "        1,  5,  1,  1,  2,  1,  2, 10,  2, 12,  2,  5, 10,  9,  1,  2,  2,\n",
            "        2, 10,  2,  2,  5,  2,  2,  2,  2,  1,  5, 10,  2,  2,  2,  2,  2,\n",
            "        5,  5,  5,  2, 10,  5,  1,  1,  9, 12,  1, 10,  1,  2,  5,  2,  2,\n",
            "       12,  1, 10,  1,  2,  1,  9,  9,  2,  2,  1,  1,  2,  2,  5, 10,  1,\n",
            "        7,  1,  1,  5,  5,  9,  5, 10,  5, 10, 10,  2,  2,  2,  2,  5,  2,\n",
            "        5,  1,  5, 10,  2,  1, 10, 10,  2, 12,  9,  2,  2,  9,  5, 10,  9,\n",
            "        2,  2,  5,  1,  5,  1,  2,  1, 10,  5, 10, 10,  5, 10,  5, 12,  2,\n",
            "        9, 10, 10,  2,  5,  5,  5,  2,  1,  2,  2,  2, 12,  5,  5,  2, 12,\n",
            "        2,  9,  9,  2, 12,  2,  2,  2,  1,  2,  2,  2,  5,  5,  3]))\n"
          ]
        }
      ],
      "source": [
        "from scipy import stats\n",
        "z=np.abs(stats.zscore(df))\n",
        "print(np.where(z>3))"
      ]
    },
    {
      "cell_type": "code",
      "execution_count": null,
      "id": "b6a1b9ff",
      "metadata": {
        "scrolled": true,
        "colab": {
          "base_uri": "https://localhost:8080/"
        },
        "id": "b6a1b9ff",
        "outputId": "a43ad290-fa6d-457b-d30d-e313116b4742"
      },
      "outputs": [
        {
          "output_type": "stream",
          "name": "stdout",
          "text": [
            "(6497, 13)\n",
            "(5989, 13)\n"
          ]
        }
      ],
      "source": [
        "df1=df[(z<3).all(axis=1)]\n",
        "print(df.shape)\n",
        "print(df1.shape)"
      ]
    },
    {
      "cell_type": "code",
      "execution_count": null,
      "id": "f0da6c70",
      "metadata": {
        "colab": {
          "base_uri": "https://localhost:8080/",
          "height": 267
        },
        "id": "f0da6c70",
        "outputId": "456789fb-e177-4960-c2dc-602d97a5798e"
      },
      "outputs": [
        {
          "output_type": "execute_result",
          "data": {
            "text/plain": [
              "   type  fixed acidity  volatile acidity  citric acid  residual sugar  \\\n",
              "1     1            6.3              0.30         0.34             1.6   \n",
              "2     1            8.1              0.28         0.40             6.9   \n",
              "3     1            7.2              0.23         0.32             8.5   \n",
              "4     1            7.2              0.23         0.32             8.5   \n",
              "5     1            8.1              0.28         0.40             6.9   \n",
              "\n",
              "   chlorides  free sulfur dioxide  total sulfur dioxide  density    pH  \\\n",
              "1      0.049                 14.0                 132.0   0.9940  3.30   \n",
              "2      0.050                 30.0                  97.0   0.9951  3.26   \n",
              "3      0.058                 47.0                 186.0   0.9956  3.19   \n",
              "4      0.058                 47.0                 186.0   0.9956  3.19   \n",
              "5      0.050                 30.0                  97.0   0.9951  3.26   \n",
              "\n",
              "   sulphates  alcohol  quality  \n",
              "1       0.49      9.5        6  \n",
              "2       0.44     10.1        6  \n",
              "3       0.40      9.9        6  \n",
              "4       0.40      9.9        6  \n",
              "5       0.44     10.1        6  "
            ],
            "text/html": [
              "\n",
              "  <div id=\"df-a65ae9d1-4932-421f-8f36-5a37a5498302\">\n",
              "    <div class=\"colab-df-container\">\n",
              "      <div>\n",
              "<style scoped>\n",
              "    .dataframe tbody tr th:only-of-type {\n",
              "        vertical-align: middle;\n",
              "    }\n",
              "\n",
              "    .dataframe tbody tr th {\n",
              "        vertical-align: top;\n",
              "    }\n",
              "\n",
              "    .dataframe thead th {\n",
              "        text-align: right;\n",
              "    }\n",
              "</style>\n",
              "<table border=\"1\" class=\"dataframe\">\n",
              "  <thead>\n",
              "    <tr style=\"text-align: right;\">\n",
              "      <th></th>\n",
              "      <th>type</th>\n",
              "      <th>fixed acidity</th>\n",
              "      <th>volatile acidity</th>\n",
              "      <th>citric acid</th>\n",
              "      <th>residual sugar</th>\n",
              "      <th>chlorides</th>\n",
              "      <th>free sulfur dioxide</th>\n",
              "      <th>total sulfur dioxide</th>\n",
              "      <th>density</th>\n",
              "      <th>pH</th>\n",
              "      <th>sulphates</th>\n",
              "      <th>alcohol</th>\n",
              "      <th>quality</th>\n",
              "    </tr>\n",
              "  </thead>\n",
              "  <tbody>\n",
              "    <tr>\n",
              "      <th>1</th>\n",
              "      <td>1</td>\n",
              "      <td>6.3</td>\n",
              "      <td>0.30</td>\n",
              "      <td>0.34</td>\n",
              "      <td>1.6</td>\n",
              "      <td>0.049</td>\n",
              "      <td>14.0</td>\n",
              "      <td>132.0</td>\n",
              "      <td>0.9940</td>\n",
              "      <td>3.30</td>\n",
              "      <td>0.49</td>\n",
              "      <td>9.5</td>\n",
              "      <td>6</td>\n",
              "    </tr>\n",
              "    <tr>\n",
              "      <th>2</th>\n",
              "      <td>1</td>\n",
              "      <td>8.1</td>\n",
              "      <td>0.28</td>\n",
              "      <td>0.40</td>\n",
              "      <td>6.9</td>\n",
              "      <td>0.050</td>\n",
              "      <td>30.0</td>\n",
              "      <td>97.0</td>\n",
              "      <td>0.9951</td>\n",
              "      <td>3.26</td>\n",
              "      <td>0.44</td>\n",
              "      <td>10.1</td>\n",
              "      <td>6</td>\n",
              "    </tr>\n",
              "    <tr>\n",
              "      <th>3</th>\n",
              "      <td>1</td>\n",
              "      <td>7.2</td>\n",
              "      <td>0.23</td>\n",
              "      <td>0.32</td>\n",
              "      <td>8.5</td>\n",
              "      <td>0.058</td>\n",
              "      <td>47.0</td>\n",
              "      <td>186.0</td>\n",
              "      <td>0.9956</td>\n",
              "      <td>3.19</td>\n",
              "      <td>0.40</td>\n",
              "      <td>9.9</td>\n",
              "      <td>6</td>\n",
              "    </tr>\n",
              "    <tr>\n",
              "      <th>4</th>\n",
              "      <td>1</td>\n",
              "      <td>7.2</td>\n",
              "      <td>0.23</td>\n",
              "      <td>0.32</td>\n",
              "      <td>8.5</td>\n",
              "      <td>0.058</td>\n",
              "      <td>47.0</td>\n",
              "      <td>186.0</td>\n",
              "      <td>0.9956</td>\n",
              "      <td>3.19</td>\n",
              "      <td>0.40</td>\n",
              "      <td>9.9</td>\n",
              "      <td>6</td>\n",
              "    </tr>\n",
              "    <tr>\n",
              "      <th>5</th>\n",
              "      <td>1</td>\n",
              "      <td>8.1</td>\n",
              "      <td>0.28</td>\n",
              "      <td>0.40</td>\n",
              "      <td>6.9</td>\n",
              "      <td>0.050</td>\n",
              "      <td>30.0</td>\n",
              "      <td>97.0</td>\n",
              "      <td>0.9951</td>\n",
              "      <td>3.26</td>\n",
              "      <td>0.44</td>\n",
              "      <td>10.1</td>\n",
              "      <td>6</td>\n",
              "    </tr>\n",
              "  </tbody>\n",
              "</table>\n",
              "</div>\n",
              "      <button class=\"colab-df-convert\" onclick=\"convertToInteractive('df-a65ae9d1-4932-421f-8f36-5a37a5498302')\"\n",
              "              title=\"Convert this dataframe to an interactive table.\"\n",
              "              style=\"display:none;\">\n",
              "        \n",
              "  <svg xmlns=\"http://www.w3.org/2000/svg\" height=\"24px\"viewBox=\"0 0 24 24\"\n",
              "       width=\"24px\">\n",
              "    <path d=\"M0 0h24v24H0V0z\" fill=\"none\"/>\n",
              "    <path d=\"M18.56 5.44l.94 2.06.94-2.06 2.06-.94-2.06-.94-.94-2.06-.94 2.06-2.06.94zm-11 1L8.5 8.5l.94-2.06 2.06-.94-2.06-.94L8.5 2.5l-.94 2.06-2.06.94zm10 10l.94 2.06.94-2.06 2.06-.94-2.06-.94-.94-2.06-.94 2.06-2.06.94z\"/><path d=\"M17.41 7.96l-1.37-1.37c-.4-.4-.92-.59-1.43-.59-.52 0-1.04.2-1.43.59L10.3 9.45l-7.72 7.72c-.78.78-.78 2.05 0 2.83L4 21.41c.39.39.9.59 1.41.59.51 0 1.02-.2 1.41-.59l7.78-7.78 2.81-2.81c.8-.78.8-2.07 0-2.86zM5.41 20L4 18.59l7.72-7.72 1.47 1.35L5.41 20z\"/>\n",
              "  </svg>\n",
              "      </button>\n",
              "      \n",
              "  <style>\n",
              "    .colab-df-container {\n",
              "      display:flex;\n",
              "      flex-wrap:wrap;\n",
              "      gap: 12px;\n",
              "    }\n",
              "\n",
              "    .colab-df-convert {\n",
              "      background-color: #E8F0FE;\n",
              "      border: none;\n",
              "      border-radius: 50%;\n",
              "      cursor: pointer;\n",
              "      display: none;\n",
              "      fill: #1967D2;\n",
              "      height: 32px;\n",
              "      padding: 0 0 0 0;\n",
              "      width: 32px;\n",
              "    }\n",
              "\n",
              "    .colab-df-convert:hover {\n",
              "      background-color: #E2EBFA;\n",
              "      box-shadow: 0px 1px 2px rgba(60, 64, 67, 0.3), 0px 1px 3px 1px rgba(60, 64, 67, 0.15);\n",
              "      fill: #174EA6;\n",
              "    }\n",
              "\n",
              "    [theme=dark] .colab-df-convert {\n",
              "      background-color: #3B4455;\n",
              "      fill: #D2E3FC;\n",
              "    }\n",
              "\n",
              "    [theme=dark] .colab-df-convert:hover {\n",
              "      background-color: #434B5C;\n",
              "      box-shadow: 0px 1px 3px 1px rgba(0, 0, 0, 0.15);\n",
              "      filter: drop-shadow(0px 1px 2px rgba(0, 0, 0, 0.3));\n",
              "      fill: #FFFFFF;\n",
              "    }\n",
              "  </style>\n",
              "\n",
              "      <script>\n",
              "        const buttonEl =\n",
              "          document.querySelector('#df-a65ae9d1-4932-421f-8f36-5a37a5498302 button.colab-df-convert');\n",
              "        buttonEl.style.display =\n",
              "          google.colab.kernel.accessAllowed ? 'block' : 'none';\n",
              "\n",
              "        async function convertToInteractive(key) {\n",
              "          const element = document.querySelector('#df-a65ae9d1-4932-421f-8f36-5a37a5498302');\n",
              "          const dataTable =\n",
              "            await google.colab.kernel.invokeFunction('convertToInteractive',\n",
              "                                                     [key], {});\n",
              "          if (!dataTable) return;\n",
              "\n",
              "          const docLinkHtml = 'Like what you see? Visit the ' +\n",
              "            '<a target=\"_blank\" href=https://colab.research.google.com/notebooks/data_table.ipynb>data table notebook</a>'\n",
              "            + ' to learn more about interactive tables.';\n",
              "          element.innerHTML = '';\n",
              "          dataTable['output_type'] = 'display_data';\n",
              "          await google.colab.output.renderOutput(dataTable, element);\n",
              "          const docLink = document.createElement('div');\n",
              "          docLink.innerHTML = docLinkHtml;\n",
              "          element.appendChild(docLink);\n",
              "        }\n",
              "      </script>\n",
              "    </div>\n",
              "  </div>\n",
              "  "
            ]
          },
          "metadata": {},
          "execution_count": 68
        }
      ],
      "source": [
        "df1.head()"
      ]
    },
    {
      "cell_type": "code",
      "execution_count": null,
      "id": "1745a622",
      "metadata": {
        "colab": {
          "base_uri": "https://localhost:8080/"
        },
        "id": "1745a622",
        "outputId": "a0c0b795-f2e5-43d2-ccc4-42c6f35ebe1c"
      },
      "outputs": [
        {
          "output_type": "execute_result",
          "data": {
            "text/plain": [
              "6    2836\n",
              "5    2138\n",
              "7    1079\n",
              "4     216\n",
              "8     193\n",
              "3      30\n",
              "9       5\n",
              "Name: quality, dtype: int64"
            ]
          },
          "metadata": {},
          "execution_count": 69
        }
      ],
      "source": [
        "df.quality.value_counts()"
      ]
    },
    {
      "cell_type": "code",
      "execution_count": null,
      "id": "6b0caca4",
      "metadata": {
        "id": "6b0caca4"
      },
      "outputs": [],
      "source": [
        "quality_mapping = { 3 : \"Low\",4 : \"Low\",5: \"Medium\",6 : \"Medium\",7: \"Medium\",8 : \"High\",9 : \"High\"}\n",
        "df[\"quality\"] =  df[\"quality\"].map(quality_mapping)"
      ]
    },
    {
      "cell_type": "code",
      "execution_count": null,
      "id": "9038e4a5",
      "metadata": {
        "colab": {
          "base_uri": "https://localhost:8080/"
        },
        "id": "9038e4a5",
        "outputId": "81266f3b-778f-45c6-e1d4-ec65f353adb7"
      },
      "outputs": [
        {
          "output_type": "execute_result",
          "data": {
            "text/plain": [
              "Medium    6053\n",
              "Low        246\n",
              "High       198\n",
              "Name: quality, dtype: int64"
            ]
          },
          "metadata": {},
          "execution_count": 71
        }
      ],
      "source": [
        "df.quality.value_counts()"
      ]
    },
    {
      "cell_type": "code",
      "execution_count": null,
      "id": "df0ef2a4",
      "metadata": {
        "id": "df0ef2a4"
      },
      "outputs": [],
      "source": [
        "mapping_quality = {\"Low\" : 0,\"Medium\": 1,\"High\" : 2}\n",
        "df[\"quality\"] =  df[\"quality\"].map(mapping_quality)"
      ]
    },
    {
      "cell_type": "code",
      "execution_count": null,
      "id": "d4a712a4",
      "metadata": {
        "scrolled": true,
        "colab": {
          "base_uri": "https://localhost:8080/",
          "height": 485
        },
        "id": "d4a712a4",
        "outputId": "891bb9e6-4c03-48d2-ce3e-f481dfca4b04"
      },
      "outputs": [
        {
          "output_type": "execute_result",
          "data": {
            "text/plain": [
              "      type  fixed acidity  volatile acidity  citric acid  residual sugar  \\\n",
              "0        1            7.0             0.270         0.36            20.7   \n",
              "1        1            6.3             0.300         0.34             1.6   \n",
              "2        1            8.1             0.280         0.40             6.9   \n",
              "3        1            7.2             0.230         0.32             8.5   \n",
              "4        1            7.2             0.230         0.32             8.5   \n",
              "...    ...            ...               ...          ...             ...   \n",
              "6492     0            6.2             0.600         0.08             2.0   \n",
              "6493     0            5.9             0.550         0.10             2.2   \n",
              "6494     0            6.3             0.510         0.13             2.3   \n",
              "6495     0            5.9             0.645         0.12             2.0   \n",
              "6496     0            6.0             0.310         0.47             3.6   \n",
              "\n",
              "      chlorides  free sulfur dioxide  total sulfur dioxide  density    pH  \\\n",
              "0         0.045                 45.0                 170.0  1.00100  3.00   \n",
              "1         0.049                 14.0                 132.0  0.99400  3.30   \n",
              "2         0.050                 30.0                  97.0  0.99510  3.26   \n",
              "3         0.058                 47.0                 186.0  0.99560  3.19   \n",
              "4         0.058                 47.0                 186.0  0.99560  3.19   \n",
              "...         ...                  ...                   ...      ...   ...   \n",
              "6492      0.090                 32.0                  44.0  0.99490  3.45   \n",
              "6493      0.062                 39.0                  51.0  0.99512  3.52   \n",
              "6494      0.076                 29.0                  40.0  0.99574  3.42   \n",
              "6495      0.075                 32.0                  44.0  0.99547  3.57   \n",
              "6496      0.067                 18.0                  42.0  0.99549  3.39   \n",
              "\n",
              "      sulphates  alcohol  quality  \n",
              "0      0.450000      8.8        1  \n",
              "1      0.490000      9.5        1  \n",
              "2      0.440000     10.1        1  \n",
              "3      0.400000      9.9        1  \n",
              "4      0.400000      9.9        1  \n",
              "...         ...      ...      ...  \n",
              "6492   0.580000     10.5        1  \n",
              "6493   0.531215     11.2        1  \n",
              "6494   0.750000     11.0        1  \n",
              "6495   0.710000     10.2        1  \n",
              "6496   0.660000     11.0        1  \n",
              "\n",
              "[6497 rows x 13 columns]"
            ],
            "text/html": [
              "\n",
              "  <div id=\"df-9a0242dc-65fa-4947-acf1-b2add83c346b\">\n",
              "    <div class=\"colab-df-container\">\n",
              "      <div>\n",
              "<style scoped>\n",
              "    .dataframe tbody tr th:only-of-type {\n",
              "        vertical-align: middle;\n",
              "    }\n",
              "\n",
              "    .dataframe tbody tr th {\n",
              "        vertical-align: top;\n",
              "    }\n",
              "\n",
              "    .dataframe thead th {\n",
              "        text-align: right;\n",
              "    }\n",
              "</style>\n",
              "<table border=\"1\" class=\"dataframe\">\n",
              "  <thead>\n",
              "    <tr style=\"text-align: right;\">\n",
              "      <th></th>\n",
              "      <th>type</th>\n",
              "      <th>fixed acidity</th>\n",
              "      <th>volatile acidity</th>\n",
              "      <th>citric acid</th>\n",
              "      <th>residual sugar</th>\n",
              "      <th>chlorides</th>\n",
              "      <th>free sulfur dioxide</th>\n",
              "      <th>total sulfur dioxide</th>\n",
              "      <th>density</th>\n",
              "      <th>pH</th>\n",
              "      <th>sulphates</th>\n",
              "      <th>alcohol</th>\n",
              "      <th>quality</th>\n",
              "    </tr>\n",
              "  </thead>\n",
              "  <tbody>\n",
              "    <tr>\n",
              "      <th>0</th>\n",
              "      <td>1</td>\n",
              "      <td>7.0</td>\n",
              "      <td>0.270</td>\n",
              "      <td>0.36</td>\n",
              "      <td>20.7</td>\n",
              "      <td>0.045</td>\n",
              "      <td>45.0</td>\n",
              "      <td>170.0</td>\n",
              "      <td>1.00100</td>\n",
              "      <td>3.00</td>\n",
              "      <td>0.450000</td>\n",
              "      <td>8.8</td>\n",
              "      <td>1</td>\n",
              "    </tr>\n",
              "    <tr>\n",
              "      <th>1</th>\n",
              "      <td>1</td>\n",
              "      <td>6.3</td>\n",
              "      <td>0.300</td>\n",
              "      <td>0.34</td>\n",
              "      <td>1.6</td>\n",
              "      <td>0.049</td>\n",
              "      <td>14.0</td>\n",
              "      <td>132.0</td>\n",
              "      <td>0.99400</td>\n",
              "      <td>3.30</td>\n",
              "      <td>0.490000</td>\n",
              "      <td>9.5</td>\n",
              "      <td>1</td>\n",
              "    </tr>\n",
              "    <tr>\n",
              "      <th>2</th>\n",
              "      <td>1</td>\n",
              "      <td>8.1</td>\n",
              "      <td>0.280</td>\n",
              "      <td>0.40</td>\n",
              "      <td>6.9</td>\n",
              "      <td>0.050</td>\n",
              "      <td>30.0</td>\n",
              "      <td>97.0</td>\n",
              "      <td>0.99510</td>\n",
              "      <td>3.26</td>\n",
              "      <td>0.440000</td>\n",
              "      <td>10.1</td>\n",
              "      <td>1</td>\n",
              "    </tr>\n",
              "    <tr>\n",
              "      <th>3</th>\n",
              "      <td>1</td>\n",
              "      <td>7.2</td>\n",
              "      <td>0.230</td>\n",
              "      <td>0.32</td>\n",
              "      <td>8.5</td>\n",
              "      <td>0.058</td>\n",
              "      <td>47.0</td>\n",
              "      <td>186.0</td>\n",
              "      <td>0.99560</td>\n",
              "      <td>3.19</td>\n",
              "      <td>0.400000</td>\n",
              "      <td>9.9</td>\n",
              "      <td>1</td>\n",
              "    </tr>\n",
              "    <tr>\n",
              "      <th>4</th>\n",
              "      <td>1</td>\n",
              "      <td>7.2</td>\n",
              "      <td>0.230</td>\n",
              "      <td>0.32</td>\n",
              "      <td>8.5</td>\n",
              "      <td>0.058</td>\n",
              "      <td>47.0</td>\n",
              "      <td>186.0</td>\n",
              "      <td>0.99560</td>\n",
              "      <td>3.19</td>\n",
              "      <td>0.400000</td>\n",
              "      <td>9.9</td>\n",
              "      <td>1</td>\n",
              "    </tr>\n",
              "    <tr>\n",
              "      <th>...</th>\n",
              "      <td>...</td>\n",
              "      <td>...</td>\n",
              "      <td>...</td>\n",
              "      <td>...</td>\n",
              "      <td>...</td>\n",
              "      <td>...</td>\n",
              "      <td>...</td>\n",
              "      <td>...</td>\n",
              "      <td>...</td>\n",
              "      <td>...</td>\n",
              "      <td>...</td>\n",
              "      <td>...</td>\n",
              "      <td>...</td>\n",
              "    </tr>\n",
              "    <tr>\n",
              "      <th>6492</th>\n",
              "      <td>0</td>\n",
              "      <td>6.2</td>\n",
              "      <td>0.600</td>\n",
              "      <td>0.08</td>\n",
              "      <td>2.0</td>\n",
              "      <td>0.090</td>\n",
              "      <td>32.0</td>\n",
              "      <td>44.0</td>\n",
              "      <td>0.99490</td>\n",
              "      <td>3.45</td>\n",
              "      <td>0.580000</td>\n",
              "      <td>10.5</td>\n",
              "      <td>1</td>\n",
              "    </tr>\n",
              "    <tr>\n",
              "      <th>6493</th>\n",
              "      <td>0</td>\n",
              "      <td>5.9</td>\n",
              "      <td>0.550</td>\n",
              "      <td>0.10</td>\n",
              "      <td>2.2</td>\n",
              "      <td>0.062</td>\n",
              "      <td>39.0</td>\n",
              "      <td>51.0</td>\n",
              "      <td>0.99512</td>\n",
              "      <td>3.52</td>\n",
              "      <td>0.531215</td>\n",
              "      <td>11.2</td>\n",
              "      <td>1</td>\n",
              "    </tr>\n",
              "    <tr>\n",
              "      <th>6494</th>\n",
              "      <td>0</td>\n",
              "      <td>6.3</td>\n",
              "      <td>0.510</td>\n",
              "      <td>0.13</td>\n",
              "      <td>2.3</td>\n",
              "      <td>0.076</td>\n",
              "      <td>29.0</td>\n",
              "      <td>40.0</td>\n",
              "      <td>0.99574</td>\n",
              "      <td>3.42</td>\n",
              "      <td>0.750000</td>\n",
              "      <td>11.0</td>\n",
              "      <td>1</td>\n",
              "    </tr>\n",
              "    <tr>\n",
              "      <th>6495</th>\n",
              "      <td>0</td>\n",
              "      <td>5.9</td>\n",
              "      <td>0.645</td>\n",
              "      <td>0.12</td>\n",
              "      <td>2.0</td>\n",
              "      <td>0.075</td>\n",
              "      <td>32.0</td>\n",
              "      <td>44.0</td>\n",
              "      <td>0.99547</td>\n",
              "      <td>3.57</td>\n",
              "      <td>0.710000</td>\n",
              "      <td>10.2</td>\n",
              "      <td>1</td>\n",
              "    </tr>\n",
              "    <tr>\n",
              "      <th>6496</th>\n",
              "      <td>0</td>\n",
              "      <td>6.0</td>\n",
              "      <td>0.310</td>\n",
              "      <td>0.47</td>\n",
              "      <td>3.6</td>\n",
              "      <td>0.067</td>\n",
              "      <td>18.0</td>\n",
              "      <td>42.0</td>\n",
              "      <td>0.99549</td>\n",
              "      <td>3.39</td>\n",
              "      <td>0.660000</td>\n",
              "      <td>11.0</td>\n",
              "      <td>1</td>\n",
              "    </tr>\n",
              "  </tbody>\n",
              "</table>\n",
              "<p>6497 rows × 13 columns</p>\n",
              "</div>\n",
              "      <button class=\"colab-df-convert\" onclick=\"convertToInteractive('df-9a0242dc-65fa-4947-acf1-b2add83c346b')\"\n",
              "              title=\"Convert this dataframe to an interactive table.\"\n",
              "              style=\"display:none;\">\n",
              "        \n",
              "  <svg xmlns=\"http://www.w3.org/2000/svg\" height=\"24px\"viewBox=\"0 0 24 24\"\n",
              "       width=\"24px\">\n",
              "    <path d=\"M0 0h24v24H0V0z\" fill=\"none\"/>\n",
              "    <path d=\"M18.56 5.44l.94 2.06.94-2.06 2.06-.94-2.06-.94-.94-2.06-.94 2.06-2.06.94zm-11 1L8.5 8.5l.94-2.06 2.06-.94-2.06-.94L8.5 2.5l-.94 2.06-2.06.94zm10 10l.94 2.06.94-2.06 2.06-.94-2.06-.94-.94-2.06-.94 2.06-2.06.94z\"/><path d=\"M17.41 7.96l-1.37-1.37c-.4-.4-.92-.59-1.43-.59-.52 0-1.04.2-1.43.59L10.3 9.45l-7.72 7.72c-.78.78-.78 2.05 0 2.83L4 21.41c.39.39.9.59 1.41.59.51 0 1.02-.2 1.41-.59l7.78-7.78 2.81-2.81c.8-.78.8-2.07 0-2.86zM5.41 20L4 18.59l7.72-7.72 1.47 1.35L5.41 20z\"/>\n",
              "  </svg>\n",
              "      </button>\n",
              "      \n",
              "  <style>\n",
              "    .colab-df-container {\n",
              "      display:flex;\n",
              "      flex-wrap:wrap;\n",
              "      gap: 12px;\n",
              "    }\n",
              "\n",
              "    .colab-df-convert {\n",
              "      background-color: #E8F0FE;\n",
              "      border: none;\n",
              "      border-radius: 50%;\n",
              "      cursor: pointer;\n",
              "      display: none;\n",
              "      fill: #1967D2;\n",
              "      height: 32px;\n",
              "      padding: 0 0 0 0;\n",
              "      width: 32px;\n",
              "    }\n",
              "\n",
              "    .colab-df-convert:hover {\n",
              "      background-color: #E2EBFA;\n",
              "      box-shadow: 0px 1px 2px rgba(60, 64, 67, 0.3), 0px 1px 3px 1px rgba(60, 64, 67, 0.15);\n",
              "      fill: #174EA6;\n",
              "    }\n",
              "\n",
              "    [theme=dark] .colab-df-convert {\n",
              "      background-color: #3B4455;\n",
              "      fill: #D2E3FC;\n",
              "    }\n",
              "\n",
              "    [theme=dark] .colab-df-convert:hover {\n",
              "      background-color: #434B5C;\n",
              "      box-shadow: 0px 1px 3px 1px rgba(0, 0, 0, 0.15);\n",
              "      filter: drop-shadow(0px 1px 2px rgba(0, 0, 0, 0.3));\n",
              "      fill: #FFFFFF;\n",
              "    }\n",
              "  </style>\n",
              "\n",
              "      <script>\n",
              "        const buttonEl =\n",
              "          document.querySelector('#df-9a0242dc-65fa-4947-acf1-b2add83c346b button.colab-df-convert');\n",
              "        buttonEl.style.display =\n",
              "          google.colab.kernel.accessAllowed ? 'block' : 'none';\n",
              "\n",
              "        async function convertToInteractive(key) {\n",
              "          const element = document.querySelector('#df-9a0242dc-65fa-4947-acf1-b2add83c346b');\n",
              "          const dataTable =\n",
              "            await google.colab.kernel.invokeFunction('convertToInteractive',\n",
              "                                                     [key], {});\n",
              "          if (!dataTable) return;\n",
              "\n",
              "          const docLinkHtml = 'Like what you see? Visit the ' +\n",
              "            '<a target=\"_blank\" href=https://colab.research.google.com/notebooks/data_table.ipynb>data table notebook</a>'\n",
              "            + ' to learn more about interactive tables.';\n",
              "          element.innerHTML = '';\n",
              "          dataTable['output_type'] = 'display_data';\n",
              "          await google.colab.output.renderOutput(dataTable, element);\n",
              "          const docLink = document.createElement('div');\n",
              "          docLink.innerHTML = docLinkHtml;\n",
              "          element.appendChild(docLink);\n",
              "        }\n",
              "      </script>\n",
              "    </div>\n",
              "  </div>\n",
              "  "
            ]
          },
          "metadata": {},
          "execution_count": 73
        }
      ],
      "source": [
        "df"
      ]
    },
    {
      "cell_type": "code",
      "execution_count": null,
      "id": "1205bfa7",
      "metadata": {
        "id": "1205bfa7"
      },
      "outputs": [],
      "source": [
        "x = df.drop(\"quality\",axis=True)\n",
        "y = df[\"quality\"]"
      ]
    },
    {
      "cell_type": "code",
      "execution_count": null,
      "id": "1adec167",
      "metadata": {
        "colab": {
          "base_uri": "https://localhost:8080/",
          "height": 74
        },
        "id": "1adec167",
        "outputId": "054a6325-bc4b-474c-bac8-b8793eb227d4"
      },
      "outputs": [
        {
          "output_type": "execute_result",
          "data": {
            "text/plain": [
              "ExtraTreesClassifier()"
            ],
            "text/html": [
              "<style>#sk-container-id-7 {color: black;background-color: white;}#sk-container-id-7 pre{padding: 0;}#sk-container-id-7 div.sk-toggleable {background-color: white;}#sk-container-id-7 label.sk-toggleable__label {cursor: pointer;display: block;width: 100%;margin-bottom: 0;padding: 0.3em;box-sizing: border-box;text-align: center;}#sk-container-id-7 label.sk-toggleable__label-arrow:before {content: \"▸\";float: left;margin-right: 0.25em;color: #696969;}#sk-container-id-7 label.sk-toggleable__label-arrow:hover:before {color: black;}#sk-container-id-7 div.sk-estimator:hover label.sk-toggleable__label-arrow:before {color: black;}#sk-container-id-7 div.sk-toggleable__content {max-height: 0;max-width: 0;overflow: hidden;text-align: left;background-color: #f0f8ff;}#sk-container-id-7 div.sk-toggleable__content pre {margin: 0.2em;color: black;border-radius: 0.25em;background-color: #f0f8ff;}#sk-container-id-7 input.sk-toggleable__control:checked~div.sk-toggleable__content {max-height: 200px;max-width: 100%;overflow: auto;}#sk-container-id-7 input.sk-toggleable__control:checked~label.sk-toggleable__label-arrow:before {content: \"▾\";}#sk-container-id-7 div.sk-estimator input.sk-toggleable__control:checked~label.sk-toggleable__label {background-color: #d4ebff;}#sk-container-id-7 div.sk-label input.sk-toggleable__control:checked~label.sk-toggleable__label {background-color: #d4ebff;}#sk-container-id-7 input.sk-hidden--visually {border: 0;clip: rect(1px 1px 1px 1px);clip: rect(1px, 1px, 1px, 1px);height: 1px;margin: -1px;overflow: hidden;padding: 0;position: absolute;width: 1px;}#sk-container-id-7 div.sk-estimator {font-family: monospace;background-color: #f0f8ff;border: 1px dotted black;border-radius: 0.25em;box-sizing: border-box;margin-bottom: 0.5em;}#sk-container-id-7 div.sk-estimator:hover {background-color: #d4ebff;}#sk-container-id-7 div.sk-parallel-item::after {content: \"\";width: 100%;border-bottom: 1px solid gray;flex-grow: 1;}#sk-container-id-7 div.sk-label:hover label.sk-toggleable__label {background-color: #d4ebff;}#sk-container-id-7 div.sk-serial::before {content: \"\";position: absolute;border-left: 1px solid gray;box-sizing: border-box;top: 0;bottom: 0;left: 50%;z-index: 0;}#sk-container-id-7 div.sk-serial {display: flex;flex-direction: column;align-items: center;background-color: white;padding-right: 0.2em;padding-left: 0.2em;position: relative;}#sk-container-id-7 div.sk-item {position: relative;z-index: 1;}#sk-container-id-7 div.sk-parallel {display: flex;align-items: stretch;justify-content: center;background-color: white;position: relative;}#sk-container-id-7 div.sk-item::before, #sk-container-id-7 div.sk-parallel-item::before {content: \"\";position: absolute;border-left: 1px solid gray;box-sizing: border-box;top: 0;bottom: 0;left: 50%;z-index: -1;}#sk-container-id-7 div.sk-parallel-item {display: flex;flex-direction: column;z-index: 1;position: relative;background-color: white;}#sk-container-id-7 div.sk-parallel-item:first-child::after {align-self: flex-end;width: 50%;}#sk-container-id-7 div.sk-parallel-item:last-child::after {align-self: flex-start;width: 50%;}#sk-container-id-7 div.sk-parallel-item:only-child::after {width: 0;}#sk-container-id-7 div.sk-dashed-wrapped {border: 1px dashed gray;margin: 0 0.4em 0.5em 0.4em;box-sizing: border-box;padding-bottom: 0.4em;background-color: white;}#sk-container-id-7 div.sk-label label {font-family: monospace;font-weight: bold;display: inline-block;line-height: 1.2em;}#sk-container-id-7 div.sk-label-container {text-align: center;}#sk-container-id-7 div.sk-container {/* jupyter's `normalize.less` sets `[hidden] { display: none; }` but bootstrap.min.css set `[hidden] { display: none !important; }` so we also need the `!important` here to be able to override the default hidden behavior on the sphinx rendered scikit-learn.org. See: https://github.com/scikit-learn/scikit-learn/issues/21755 */display: inline-block !important;position: relative;}#sk-container-id-7 div.sk-text-repr-fallback {display: none;}</style><div id=\"sk-container-id-7\" class=\"sk-top-container\"><div class=\"sk-text-repr-fallback\"><pre>ExtraTreesClassifier()</pre><b>In a Jupyter environment, please rerun this cell to show the HTML representation or trust the notebook. <br />On GitHub, the HTML representation is unable to render, please try loading this page with nbviewer.org.</b></div><div class=\"sk-container\" hidden><div class=\"sk-item\"><div class=\"sk-estimator sk-toggleable\"><input class=\"sk-toggleable__control sk-hidden--visually\" id=\"sk-estimator-id-7\" type=\"checkbox\" checked><label for=\"sk-estimator-id-7\" class=\"sk-toggleable__label sk-toggleable__label-arrow\">ExtraTreesClassifier</label><div class=\"sk-toggleable__content\"><pre>ExtraTreesClassifier()</pre></div></div></div></div></div>"
            ]
          },
          "metadata": {},
          "execution_count": 75
        }
      ],
      "source": [
        "from sklearn.ensemble import ExtraTreesClassifier\n",
        "model = ExtraTreesClassifier()\n",
        "model.fit(x,y)"
      ]
    },
    {
      "cell_type": "code",
      "execution_count": null,
      "id": "a5b437ac",
      "metadata": {
        "colab": {
          "base_uri": "https://localhost:8080/"
        },
        "id": "a5b437ac",
        "outputId": "4bc95a7e-df53-4a5a-ffc0-0a71a3a1fb0d"
      },
      "outputs": [
        {
          "output_type": "stream",
          "name": "stdout",
          "text": [
            "[0.00810157 0.08586066 0.10785006 0.08318634 0.08653129 0.08408291\n",
            " 0.10627907 0.08708904 0.08442558 0.08320519 0.08864217 0.09474612]\n"
          ]
        }
      ],
      "source": [
        "print(model.feature_importances_)"
      ]
    },
    {
      "cell_type": "code",
      "execution_count": null,
      "id": "15ef17a9",
      "metadata": {
        "colab": {
          "base_uri": "https://localhost:8080/",
          "height": 500
        },
        "id": "15ef17a9",
        "outputId": "e998c67a-512f-45d1-9593-accad5b6f510"
      },
      "outputs": [
        {
          "output_type": "display_data",
          "data": {
            "text/plain": [
              "<Figure size 1440x595.44 with 1 Axes>"
            ],
            "image/png": "[encoded data removed]"
          },
          "metadata": {}
        }
      ],
      "source": [
        "feat_importances = pd.Series(model.feature_importances_,index =x.columns)\n",
        "feat_importances.nlargest(9).plot(kind=\"barh\")\n",
        "plt.show()"
      ]
    },
    {
      "cell_type": "code",
      "source": [
        "from sklearn.model_selection import train_test_split\n",
        "x_train, x_test, y_train, y_test = train_test_split(x, y, test_size = 0.25, random_state = 0)"
      ],
      "metadata": {
        "id": "f8GnZMtNzS3T"
      },
      "id": "f8GnZMtNzS3T",
      "execution_count": null,
      "outputs": []
    },
    {
      "cell_type": "code",
      "source": [
        "from sklearn.preprocessing import StandardScaler\n",
        "sc = StandardScaler()\n",
        "x_train = sc.fit_transform(x_train)\n",
        "x_test = sc.fit_transform(x_test)"
      ],
      "metadata": {
        "id": "uYDBL8vuzWE9"
      },
      "id": "uYDBL8vuzWE9",
      "execution_count": null,
      "outputs": []
    },
    {
      "cell_type": "code",
      "execution_count": null,
      "id": "9373fc17",
      "metadata": {
        "id": "9373fc17"
      },
      "outputs": [],
      "source": [
        "from sklearn.tree import DecisionTreeClassifier\n",
        "from sklearn.ensemble import RandomForestClassifier\n",
        "from sklearn.naive_bayes import GaussianNB\n",
        "from sklearn.linear_model import LogisticRegression\n",
        "from sklearn.svm import SVC"
      ]
    },
    {
      "cell_type": "markdown",
      "source": [
        "# ***MODEL_1[LOGISTIC REGRESSION]***"
      ],
      "metadata": {
        "id": "zW_SrAcwy2AW"
      },
      "id": "zW_SrAcwy2AW"
    },
    {
      "cell_type": "code",
      "source": [
        "from sklearn.linear_model import LogisticRegression\n",
        "model1=LogisticRegression(random_state=0)\n",
        "model1.fit(x_train,y_train)"
      ],
      "metadata": {
        "colab": {
          "base_uri": "https://localhost:8080/",
          "height": 74
        },
        "id": "n51NNrhozCA8",
        "outputId": "48a6033d-3029-400f-935c-79acdac36b53"
      },
      "id": "n51NNrhozCA8",
      "execution_count": null,
      "outputs": [
        {
          "output_type": "execute_result",
          "data": {
            "text/plain": [
              "LogisticRegression(random_state=0)"
            ],
            "text/html": [
              "<style>#sk-container-id-8 {color: black;background-color: white;}#sk-container-id-8 pre{padding: 0;}#sk-container-id-8 div.sk-toggleable {background-color: white;}#sk-container-id-8 label.sk-toggleable__label {cursor: pointer;display: block;width: 100%;margin-bottom: 0;padding: 0.3em;box-sizing: border-box;text-align: center;}#sk-container-id-8 label.sk-toggleable__label-arrow:before {content: \"▸\";float: left;margin-right: 0.25em;color: #696969;}#sk-container-id-8 label.sk-toggleable__label-arrow:hover:before {color: black;}#sk-container-id-8 div.sk-estimator:hover label.sk-toggleable__label-arrow:before {color: black;}#sk-container-id-8 div.sk-toggleable__content {max-height: 0;max-width: 0;overflow: hidden;text-align: left;background-color: #f0f8ff;}#sk-container-id-8 div.sk-toggleable__content pre {margin: 0.2em;color: black;border-radius: 0.25em;background-color: #f0f8ff;}#sk-container-id-8 input.sk-toggleable__control:checked~div.sk-toggleable__content {max-height: 200px;max-width: 100%;overflow: auto;}#sk-container-id-8 input.sk-toggleable__control:checked~label.sk-toggleable__label-arrow:before {content: \"▾\";}#sk-container-id-8 div.sk-estimator input.sk-toggleable__control:checked~label.sk-toggleable__label {background-color: #d4ebff;}#sk-container-id-8 div.sk-label input.sk-toggleable__control:checked~label.sk-toggleable__label {background-color: #d4ebff;}#sk-container-id-8 input.sk-hidden--visually {border: 0;clip: rect(1px 1px 1px 1px);clip: rect(1px, 1px, 1px, 1px);height: 1px;margin: -1px;overflow: hidden;padding: 0;position: absolute;width: 1px;}#sk-container-id-8 div.sk-estimator {font-family: monospace;background-color: #f0f8ff;border: 1px dotted black;border-radius: 0.25em;box-sizing: border-box;margin-bottom: 0.5em;}#sk-container-id-8 div.sk-estimator:hover {background-color: #d4ebff;}#sk-container-id-8 div.sk-parallel-item::after {content: \"\";width: 100%;border-bottom: 1px solid gray;flex-grow: 1;}#sk-container-id-8 div.sk-label:hover label.sk-toggleable__label {background-color: #d4ebff;}#sk-container-id-8 div.sk-serial::before {content: \"\";position: absolute;border-left: 1px solid gray;box-sizing: border-box;top: 0;bottom: 0;left: 50%;z-index: 0;}#sk-container-id-8 div.sk-serial {display: flex;flex-direction: column;align-items: center;background-color: white;padding-right: 0.2em;padding-left: 0.2em;position: relative;}#sk-container-id-8 div.sk-item {position: relative;z-index: 1;}#sk-container-id-8 div.sk-parallel {display: flex;align-items: stretch;justify-content: center;background-color: white;position: relative;}#sk-container-id-8 div.sk-item::before, #sk-container-id-8 div.sk-parallel-item::before {content: \"\";position: absolute;border-left: 1px solid gray;box-sizing: border-box;top: 0;bottom: 0;left: 50%;z-index: -1;}#sk-container-id-8 div.sk-parallel-item {display: flex;flex-direction: column;z-index: 1;position: relative;background-color: white;}#sk-container-id-8 div.sk-parallel-item:first-child::after {align-self: flex-end;width: 50%;}#sk-container-id-8 div.sk-parallel-item:last-child::after {align-self: flex-start;width: 50%;}#sk-container-id-8 div.sk-parallel-item:only-child::after {width: 0;}#sk-container-id-8 div.sk-dashed-wrapped {border: 1px dashed gray;margin: 0 0.4em 0.5em 0.4em;box-sizing: border-box;padding-bottom: 0.4em;background-color: white;}#sk-container-id-8 div.sk-label label {font-family: monospace;font-weight: bold;display: inline-block;line-height: 1.2em;}#sk-container-id-8 div.sk-label-container {text-align: center;}#sk-container-id-8 div.sk-container {/* jupyter's `normalize.less` sets `[hidden] { display: none; }` but bootstrap.min.css set `[hidden] { display: none !important; }` so we also need the `!important` here to be able to override the default hidden behavior on the sphinx rendered scikit-learn.org. See: https://github.com/scikit-learn/scikit-learn/issues/21755 */display: inline-block !important;position: relative;}#sk-container-id-8 div.sk-text-repr-fallback {display: none;}</style><div id=\"sk-container-id-8\" class=\"sk-top-container\"><div class=\"sk-text-repr-fallback\"><pre>LogisticRegression(random_state=0)</pre><b>In a Jupyter environment, please rerun this cell to show the HTML representation or trust the notebook. <br />On GitHub, the HTML representation is unable to render, please try loading this page with nbviewer.org.</b></div><div class=\"sk-container\" hidden><div class=\"sk-item\"><div class=\"sk-estimator sk-toggleable\"><input class=\"sk-toggleable__control sk-hidden--visually\" id=\"sk-estimator-id-8\" type=\"checkbox\" checked><label for=\"sk-estimator-id-8\" class=\"sk-toggleable__label sk-toggleable__label-arrow\">LogisticRegression</label><div class=\"sk-toggleable__content\"><pre>LogisticRegression(random_state=0)</pre></div></div></div></div></div>"
            ]
          },
          "metadata": {},
          "execution_count": 81
        }
      ]
    },
    {
      "cell_type": "code",
      "source": [
        "y_pred1=model1.predict(x_test)\n",
        "y_pred1"
      ],
      "metadata": {
        "colab": {
          "base_uri": "https://localhost:8080/"
        },
        "id": "e_QH8Dct2COu",
        "outputId": "3995ce6e-6ead-4e98-d789-a58c4a39478a"
      },
      "id": "e_QH8Dct2COu",
      "execution_count": null,
      "outputs": [
        {
          "output_type": "execute_result",
          "data": {
            "text/plain": [
              "array([1, 1, 1, ..., 1, 1, 1])"
            ]
          },
          "metadata": {},
          "execution_count": 82
        }
      ]
    },
    {
      "cell_type": "code",
      "source": [
        "model1.score(x_train,y_train)"
      ],
      "metadata": {
        "colab": {
          "base_uri": "https://localhost:8080/"
        },
        "id": "kBXqw0bH2JS7",
        "outputId": "999cbcc3-3c9a-4b34-9200-f30a4fb5e406"
      },
      "id": "kBXqw0bH2JS7",
      "execution_count": null,
      "outputs": [
        {
          "output_type": "execute_result",
          "data": {
            "text/plain": [
              "0.9326765188834154"
            ]
          },
          "metadata": {},
          "execution_count": 83
        }
      ]
    },
    {
      "cell_type": "code",
      "source": [
        "b=model1.score(x_test,y_test)\n",
        "b"
      ],
      "metadata": {
        "colab": {
          "base_uri": "https://localhost:8080/"
        },
        "id": "9BzvOK3c2PQ0",
        "outputId": "0980dfb0-4a48-4d26-92ed-c807acc67327"
      },
      "id": "9BzvOK3c2PQ0",
      "execution_count": null,
      "outputs": [
        {
          "output_type": "execute_result",
          "data": {
            "text/plain": [
              "0.931076923076923"
            ]
          },
          "metadata": {},
          "execution_count": 84
        }
      ]
    },
    {
      "cell_type": "code",
      "source": [
        "from sklearn.metrics import confusion_matrix,accuracy_score\n",
        "cm=confusion_matrix(y_test,y_pred1)\n",
        "print(cm)\n",
        "accuracy_score(y_test,y_pred1)"
      ],
      "metadata": {
        "colab": {
          "base_uri": "https://localhost:8080/"
        },
        "id": "7VAjefes2XgK",
        "outputId": "e82cf57c-699f-4a90-b20b-cdacb7ed1db1"
      },
      "id": "7VAjefes2XgK",
      "execution_count": null,
      "outputs": [
        {
          "output_type": "stream",
          "name": "stdout",
          "text": [
            "[[   3   63    0]\n",
            " [   1 1510    1]\n",
            " [   0   47    0]]\n"
          ]
        },
        {
          "output_type": "execute_result",
          "data": {
            "text/plain": [
              "0.931076923076923"
            ]
          },
          "metadata": {},
          "execution_count": 85
        }
      ]
    },
    {
      "cell_type": "markdown",
      "source": [
        "# ***MODEL_2 [SVC]***"
      ],
      "metadata": {
        "id": "UxBFmOgl4Myb"
      },
      "id": "UxBFmOgl4Myb"
    },
    {
      "cell_type": "code",
      "source": [
        "from sklearn.svm import SVC\n",
        "model2=SVC(kernel='linear',random_state=0) \n",
        "model2.fit(x_train,y_train)  "
      ],
      "metadata": {
        "colab": {
          "base_uri": "https://localhost:8080/",
          "height": 74
        },
        "id": "CmxjL4242_V7",
        "outputId": "86ac28fb-4899-42ab-92b5-5f7c4d16504b"
      },
      "id": "CmxjL4242_V7",
      "execution_count": null,
      "outputs": [
        {
          "output_type": "execute_result",
          "data": {
            "text/plain": [
              "SVC(kernel='linear', random_state=0)"
            ],
            "text/html": [
              "<style>#sk-container-id-9 {color: black;background-color: white;}#sk-container-id-9 pre{padding: 0;}#sk-container-id-9 div.sk-toggleable {background-color: white;}#sk-container-id-9 label.sk-toggleable__label {cursor: pointer;display: block;width: 100%;margin-bottom: 0;padding: 0.3em;box-sizing: border-box;text-align: center;}#sk-container-id-9 label.sk-toggleable__label-arrow:before {content: \"▸\";float: left;margin-right: 0.25em;color: #696969;}#sk-container-id-9 label.sk-toggleable__label-arrow:hover:before {color: black;}#sk-container-id-9 div.sk-estimator:hover label.sk-toggleable__label-arrow:before {color: black;}#sk-container-id-9 div.sk-toggleable__content {max-height: 0;max-width: 0;overflow: hidden;text-align: left;background-color: #f0f8ff;}#sk-container-id-9 div.sk-toggleable__content pre {margin: 0.2em;color: black;border-radius: 0.25em;background-color: #f0f8ff;}#sk-container-id-9 input.sk-toggleable__control:checked~div.sk-toggleable__content {max-height: 200px;max-width: 100%;overflow: auto;}#sk-container-id-9 input.sk-toggleable__control:checked~label.sk-toggleable__label-arrow:before {content: \"▾\";}#sk-container-id-9 div.sk-estimator input.sk-toggleable__control:checked~label.sk-toggleable__label {background-color: #d4ebff;}#sk-container-id-9 div.sk-label input.sk-toggleable__control:checked~label.sk-toggleable__label {background-color: #d4ebff;}#sk-container-id-9 input.sk-hidden--visually {border: 0;clip: rect(1px 1px 1px 1px);clip: rect(1px, 1px, 1px, 1px);height: 1px;margin: -1px;overflow: hidden;padding: 0;position: absolute;width: 1px;}#sk-container-id-9 div.sk-estimator {font-family: monospace;background-color: #f0f8ff;border: 1px dotted black;border-radius: 0.25em;box-sizing: border-box;margin-bottom: 0.5em;}#sk-container-id-9 div.sk-estimator:hover {background-color: #d4ebff;}#sk-container-id-9 div.sk-parallel-item::after {content: \"\";width: 100%;border-bottom: 1px solid gray;flex-grow: 1;}#sk-container-id-9 div.sk-label:hover label.sk-toggleable__label {background-color: #d4ebff;}#sk-container-id-9 div.sk-serial::before {content: \"\";position: absolute;border-left: 1px solid gray;box-sizing: border-box;top: 0;bottom: 0;left: 50%;z-index: 0;}#sk-container-id-9 div.sk-serial {display: flex;flex-direction: column;align-items: center;background-color: white;padding-right: 0.2em;padding-left: 0.2em;position: relative;}#sk-container-id-9 div.sk-item {position: relative;z-index: 1;}#sk-container-id-9 div.sk-parallel {display: flex;align-items: stretch;justify-content: center;background-color: white;position: relative;}#sk-container-id-9 div.sk-item::before, #sk-container-id-9 div.sk-parallel-item::before {content: \"\";position: absolute;border-left: 1px solid gray;box-sizing: border-box;top: 0;bottom: 0;left: 50%;z-index: -1;}#sk-container-id-9 div.sk-parallel-item {display: flex;flex-direction: column;z-index: 1;position: relative;background-color: white;}#sk-container-id-9 div.sk-parallel-item:first-child::after {align-self: flex-end;width: 50%;}#sk-container-id-9 div.sk-parallel-item:last-child::after {align-self: flex-start;width: 50%;}#sk-container-id-9 div.sk-parallel-item:only-child::after {width: 0;}#sk-container-id-9 div.sk-dashed-wrapped {border: 1px dashed gray;margin: 0 0.4em 0.5em 0.4em;box-sizing: border-box;padding-bottom: 0.4em;background-color: white;}#sk-container-id-9 div.sk-label label {font-family: monospace;font-weight: bold;display: inline-block;line-height: 1.2em;}#sk-container-id-9 div.sk-label-container {text-align: center;}#sk-container-id-9 div.sk-container {/* jupyter's `normalize.less` sets `[hidden] { display: none; }` but bootstrap.min.css set `[hidden] { display: none !important; }` so we also need the `!important` here to be able to override the default hidden behavior on the sphinx rendered scikit-learn.org. See: https://github.com/scikit-learn/scikit-learn/issues/21755 */display: inline-block !important;position: relative;}#sk-container-id-9 div.sk-text-repr-fallback {display: none;}</style><div id=\"sk-container-id-9\" class=\"sk-top-container\"><div class=\"sk-text-repr-fallback\"><pre>SVC(kernel=&#x27;linear&#x27;, random_state=0)</pre><b>In a Jupyter environment, please rerun this cell to show the HTML representation or trust the notebook. <br />On GitHub, the HTML representation is unable to render, please try loading this page with nbviewer.org.</b></div><div class=\"sk-container\" hidden><div class=\"sk-item\"><div class=\"sk-estimator sk-toggleable\"><input class=\"sk-toggleable__control sk-hidden--visually\" id=\"sk-estimator-id-9\" type=\"checkbox\" checked><label for=\"sk-estimator-id-9\" class=\"sk-toggleable__label sk-toggleable__label-arrow\">SVC</label><div class=\"sk-toggleable__content\"><pre>SVC(kernel=&#x27;linear&#x27;, random_state=0)</pre></div></div></div></div></div>"
            ]
          },
          "metadata": {},
          "execution_count": 86
        }
      ]
    },
    {
      "cell_type": "code",
      "source": [
        "y_pred2=model2.predict(x_test)\n",
        "y_pred2"
      ],
      "metadata": {
        "colab": {
          "base_uri": "https://localhost:8080/"
        },
        "id": "QFZZO6S04aJD",
        "outputId": "77e91894-eb41-4b12-e495-de373458056a"
      },
      "id": "QFZZO6S04aJD",
      "execution_count": null,
      "outputs": [
        {
          "output_type": "execute_result",
          "data": {
            "text/plain": [
              "array([1, 1, 1, ..., 1, 1, 1])"
            ]
          },
          "metadata": {},
          "execution_count": 87
        }
      ]
    },
    {
      "cell_type": "code",
      "source": [
        "model2.score(x_train,y_train)"
      ],
      "metadata": {
        "colab": {
          "base_uri": "https://localhost:8080/"
        },
        "id": "E8EjWX934dDL",
        "outputId": "7a5dad70-5ded-4557-d3b6-0378f975edf6"
      },
      "id": "E8EjWX934dDL",
      "execution_count": null,
      "outputs": [
        {
          "output_type": "execute_result",
          "data": {
            "text/plain": [
              "0.9320607553366174"
            ]
          },
          "metadata": {},
          "execution_count": 88
        }
      ]
    },
    {
      "cell_type": "code",
      "source": [
        "c=model2.score(x_test,y_test)\n",
        "c"
      ],
      "metadata": {
        "colab": {
          "base_uri": "https://localhost:8080/"
        },
        "id": "wp2H5bsC4gcV",
        "outputId": "36fac5d1-70e1-4f28-ede0-cc6cd7a1c11b"
      },
      "id": "wp2H5bsC4gcV",
      "execution_count": null,
      "outputs": [
        {
          "output_type": "execute_result",
          "data": {
            "text/plain": [
              "0.9304615384615385"
            ]
          },
          "metadata": {},
          "execution_count": 89
        }
      ]
    },
    {
      "cell_type": "code",
      "source": [
        "from sklearn.metrics import confusion_matrix,accuracy_score\n",
        "cm=confusion_matrix(y_test,y_pred2)\n",
        "print(cm)\n",
        "accuracy_score(y_test,y_pred2)"
      ],
      "metadata": {
        "colab": {
          "base_uri": "https://localhost:8080/"
        },
        "id": "3MEUgdl24iuz",
        "outputId": "9e5990f6-59e4-4742-ded8-bfb1615d7522"
      },
      "id": "3MEUgdl24iuz",
      "execution_count": null,
      "outputs": [
        {
          "output_type": "stream",
          "name": "stdout",
          "text": [
            "[[   0   66    0]\n",
            " [   0 1512    0]\n",
            " [   0   47    0]]\n"
          ]
        },
        {
          "output_type": "execute_result",
          "data": {
            "text/plain": [
              "0.9304615384615385"
            ]
          },
          "metadata": {},
          "execution_count": 90
        }
      ]
    },
    {
      "cell_type": "markdown",
      "source": [
        "# ***MODEL_3 [Decision Tree]***"
      ],
      "metadata": {
        "id": "Qe8gV0aE53_A"
      },
      "id": "Qe8gV0aE53_A"
    },
    {
      "cell_type": "code",
      "source": [
        "from sklearn.tree import DecisionTreeClassifier\n",
        "model3=DecisionTreeClassifier(random_state=0)\n",
        "model3.fit(x_train,y_train)"
      ],
      "metadata": {
        "colab": {
          "base_uri": "https://localhost:8080/",
          "height": 74
        },
        "id": "49JbJg7i558k",
        "outputId": "53fca696-849e-477c-80b6-72d2d3ccc327"
      },
      "id": "49JbJg7i558k",
      "execution_count": null,
      "outputs": [
        {
          "output_type": "execute_result",
          "data": {
            "text/plain": [
              "DecisionTreeClassifier(random_state=0)"
            ],
            "text/html": [
              "<style>#sk-container-id-10 {color: black;background-color: white;}#sk-container-id-10 pre{padding: 0;}#sk-container-id-10 div.sk-toggleable {background-color: white;}#sk-container-id-10 label.sk-toggleable__label {cursor: pointer;display: block;width: 100%;margin-bottom: 0;padding: 0.3em;box-sizing: border-box;text-align: center;}#sk-container-id-10 label.sk-toggleable__label-arrow:before {content: \"▸\";float: left;margin-right: 0.25em;color: #696969;}#sk-container-id-10 label.sk-toggleable__label-arrow:hover:before {color: black;}#sk-container-id-10 div.sk-estimator:hover label.sk-toggleable__label-arrow:before {color: black;}#sk-container-id-10 div.sk-toggleable__content {max-height: 0;max-width: 0;overflow: hidden;text-align: left;background-color: #f0f8ff;}#sk-container-id-10 div.sk-toggleable__content pre {margin: 0.2em;color: black;border-radius: 0.25em;background-color: #f0f8ff;}#sk-container-id-10 input.sk-toggleable__control:checked~div.sk-toggleable__content {max-height: 200px;max-width: 100%;overflow: auto;}#sk-container-id-10 input.sk-toggleable__control:checked~label.sk-toggleable__label-arrow:before {content: \"▾\";}#sk-container-id-10 div.sk-estimator input.sk-toggleable__control:checked~label.sk-toggleable__label {background-color: #d4ebff;}#sk-container-id-10 div.sk-label input.sk-toggleable__control:checked~label.sk-toggleable__label {background-color: #d4ebff;}#sk-container-id-10 input.sk-hidden--visually {border: 0;clip: rect(1px 1px 1px 1px);clip: rect(1px, 1px, 1px, 1px);height: 1px;margin: -1px;overflow: hidden;padding: 0;position: absolute;width: 1px;}#sk-container-id-10 div.sk-estimator {font-family: monospace;background-color: #f0f8ff;border: 1px dotted black;border-radius: 0.25em;box-sizing: border-box;margin-bottom: 0.5em;}#sk-container-id-10 div.sk-estimator:hover {background-color: #d4ebff;}#sk-container-id-10 div.sk-parallel-item::after {content: \"\";width: 100%;border-bottom: 1px solid gray;flex-grow: 1;}#sk-container-id-10 div.sk-label:hover label.sk-toggleable__label {background-color: #d4ebff;}#sk-container-id-10 div.sk-serial::before {content: \"\";position: absolute;border-left: 1px solid gray;box-sizing: border-box;top: 0;bottom: 0;left: 50%;z-index: 0;}#sk-container-id-10 div.sk-serial {display: flex;flex-direction: column;align-items: center;background-color: white;padding-right: 0.2em;padding-left: 0.2em;position: relative;}#sk-container-id-10 div.sk-item {position: relative;z-index: 1;}#sk-container-id-10 div.sk-parallel {display: flex;align-items: stretch;justify-content: center;background-color: white;position: relative;}#sk-container-id-10 div.sk-item::before, #sk-container-id-10 div.sk-parallel-item::before {content: \"\";position: absolute;border-left: 1px solid gray;box-sizing: border-box;top: 0;bottom: 0;left: 50%;z-index: -1;}#sk-container-id-10 div.sk-parallel-item {display: flex;flex-direction: column;z-index: 1;position: relative;background-color: white;}#sk-container-id-10 div.sk-parallel-item:first-child::after {align-self: flex-end;width: 50%;}#sk-container-id-10 div.sk-parallel-item:last-child::after {align-self: flex-start;width: 50%;}#sk-container-id-10 div.sk-parallel-item:only-child::after {width: 0;}#sk-container-id-10 div.sk-dashed-wrapped {border: 1px dashed gray;margin: 0 0.4em 0.5em 0.4em;box-sizing: border-box;padding-bottom: 0.4em;background-color: white;}#sk-container-id-10 div.sk-label label {font-family: monospace;font-weight: bold;display: inline-block;line-height: 1.2em;}#sk-container-id-10 div.sk-label-container {text-align: center;}#sk-container-id-10 div.sk-container {/* jupyter's `normalize.less` sets `[hidden] { display: none; }` but bootstrap.min.css set `[hidden] { display: none !important; }` so we also need the `!important` here to be able to override the default hidden behavior on the sphinx rendered scikit-learn.org. See: https://github.com/scikit-learn/scikit-learn/issues/21755 */display: inline-block !important;position: relative;}#sk-container-id-10 div.sk-text-repr-fallback {display: none;}</style><div id=\"sk-container-id-10\" class=\"sk-top-container\"><div class=\"sk-text-repr-fallback\"><pre>DecisionTreeClassifier(random_state=0)</pre><b>In a Jupyter environment, please rerun this cell to show the HTML representation or trust the notebook. <br />On GitHub, the HTML representation is unable to render, please try loading this page with nbviewer.org.</b></div><div class=\"sk-container\" hidden><div class=\"sk-item\"><div class=\"sk-estimator sk-toggleable\"><input class=\"sk-toggleable__control sk-hidden--visually\" id=\"sk-estimator-id-10\" type=\"checkbox\" checked><label for=\"sk-estimator-id-10\" class=\"sk-toggleable__label sk-toggleable__label-arrow\">DecisionTreeClassifier</label><div class=\"sk-toggleable__content\"><pre>DecisionTreeClassifier(random_state=0)</pre></div></div></div></div></div>"
            ]
          },
          "metadata": {},
          "execution_count": 91
        }
      ]
    },
    {
      "cell_type": "code",
      "source": [
        "y_pred3=model3.predict(x_test)\n",
        "y_pred3"
      ],
      "metadata": {
        "colab": {
          "base_uri": "https://localhost:8080/"
        },
        "id": "nkzi_2lO6JdL",
        "outputId": "335d4128-b552-475e-81f4-1b8dae97beeb"
      },
      "id": "nkzi_2lO6JdL",
      "execution_count": null,
      "outputs": [
        {
          "output_type": "execute_result",
          "data": {
            "text/plain": [
              "array([1, 1, 1, ..., 1, 1, 1])"
            ]
          },
          "metadata": {},
          "execution_count": 92
        }
      ]
    },
    {
      "cell_type": "code",
      "source": [
        "model3.score(x_train,y_train)"
      ],
      "metadata": {
        "colab": {
          "base_uri": "https://localhost:8080/"
        },
        "id": "19i2yS7G6LYW",
        "outputId": "3834c73f-ad8c-48da-e175-504eed272c96"
      },
      "id": "19i2yS7G6LYW",
      "execution_count": null,
      "outputs": [
        {
          "output_type": "execute_result",
          "data": {
            "text/plain": [
              "1.0"
            ]
          },
          "metadata": {},
          "execution_count": 93
        }
      ]
    },
    {
      "cell_type": "code",
      "source": [
        "d=model3.score(x_test,y_test)\n",
        "d"
      ],
      "metadata": {
        "colab": {
          "base_uri": "https://localhost:8080/"
        },
        "id": "bNO81zrg6Nkc",
        "outputId": "48d01274-a4d3-4f2c-acad-e26b261fd2f5"
      },
      "id": "bNO81zrg6Nkc",
      "execution_count": null,
      "outputs": [
        {
          "output_type": "execute_result",
          "data": {
            "text/plain": [
              "0.8793846153846154"
            ]
          },
          "metadata": {},
          "execution_count": 94
        }
      ]
    },
    {
      "cell_type": "code",
      "source": [
        "from sklearn.metrics import confusion_matrix,accuracy_score\n",
        "cm=confusion_matrix(y_test,y_pred3)\n",
        "print(cm)\n",
        "accuracy_score(y_test,y_pred3)"
      ],
      "metadata": {
        "colab": {
          "base_uri": "https://localhost:8080/"
        },
        "id": "JuqaZJKZ6Pu9",
        "outputId": "f3fa64d9-3823-43c9-aa97-45cb73914d49"
      },
      "id": "JuqaZJKZ6Pu9",
      "execution_count": null,
      "outputs": [
        {
          "output_type": "stream",
          "name": "stdout",
          "text": [
            "[[  18   47    1]\n",
            " [  78 1392   42]\n",
            " [   0   28   19]]\n"
          ]
        },
        {
          "output_type": "execute_result",
          "data": {
            "text/plain": [
              "0.8793846153846154"
            ]
          },
          "metadata": {},
          "execution_count": 95
        }
      ]
    },
    {
      "cell_type": "code",
      "source": [
        "from sklearn import tree\n",
        "plt.figure(figsize=(20,15))\n",
        "tree.plot_tree(model3,filled=True)"
      ],
      "metadata": {
        "colab": {
          "base_uri": "https://localhost:8080/",
          "height": 1000
        },
        "id": "odnVVXbo6TP3",
        "outputId": "382d3042-d6b1-4756-c233-e640a2e629db"
      },
      "id": "odnVVXbo6TP3",
      "execution_count": null,
      "outputs": [
        {
          "output_type": "execute_result",
          "data": {
            "text/plain": [
              "[Text(0.758326358892224, 0.9833333333333333, 'x[11] <= 1.513\\ngini = 0.129\\nsamples = 4872\\nvalue = [180, 4541, 151]'),\n",
              " Text(0.6000331681120498, 0.95, 'x[2] <= 3.142\\ngini = 0.113\\nsamples = 4373\\nvalue = [175, 4113, 85]'),\n",
              " Text(0.40015280976652146, 0.9166666666666666, 'x[6] <= 5.845\\ngini = 0.107\\nsamples = 4315\\nvalue = [157, 4073, 85]'),\n",
              " Text(0.39589565075498057, 0.8833333333333333, 'x[6] <= -0.894\\ngini = 0.106\\nsamples = 4312\\nvalue = [154, 4073, 85]'),\n",
              " Text(0.17490936907573087, 0.85, 'x[0] <= -0.586\\ngini = 0.182\\nsamples = 868\\nvalue = [77, 781, 10]'),\n",
              " Text(0.07450028270196561, 0.8166666666666667, 'x[4] <= 1.374\\ngini = 0.098\\nsamples = 564\\nvalue = [24, 535, 5]'),\n",
              " Text(0.07024312369042472, 0.7833333333333333, 'x[10] <= -1.014\\ngini = 0.095\\nsamples = 563\\nvalue = [23, 535, 5]'),\n",
              " Text(0.06598596467888383, 0.75, 'gini = 0.0\\nsamples = 1\\nvalue = [1, 0, 0]'),\n",
              " Text(0.07450028270196561, 0.75, 'x[2] <= 2.481\\ngini = 0.092\\nsamples = 562\\nvalue = [22, 535, 5]'),\n",
              " Text(0.03405727209232714, 0.7166666666666667, 'x[11] <= -1.196\\ngini = 0.077\\nsamples = 530\\nvalue = [16, 509, 5]'),\n",
              " Text(0.012771477034622676, 0.6833333333333333, 'x[10] <= -0.114\\ngini = 0.332\\nsamples = 19\\nvalue = [4, 15, 0]'),\n",
              " Text(0.008514318023081785, 0.65, 'gini = 0.0\\nsamples = 2\\nvalue = [2, 0, 0]'),\n",
              " Text(0.01702863604616357, 0.65, 'x[7] <= -1.243\\ngini = 0.208\\nsamples = 17\\nvalue = [2, 15, 0]'),\n",
              " Text(0.012771477034622676, 0.6166666666666667, 'x[11] <= -1.641\\ngini = 0.117\\nsamples = 16\\nvalue = [1, 15, 0]'),\n",
              " Text(0.008514318023081785, 0.5833333333333334, 'x[8] <= 1.793\\ngini = 0.5\\nsamples = 2\\nvalue = [1, 1, 0]'),\n",
              " Text(0.004257159011540892, 0.55, 'gini = 0.0\\nsamples = 1\\nvalue = [1, 0, 0]'),\n",
              " Text(0.012771477034622676, 0.55, 'gini = 0.0\\nsamples = 1\\nvalue = [0, 1, 0]'),\n",
              " Text(0.01702863604616357, 0.5833333333333334, 'gini = 0.0\\nsamples = 14\\nvalue = [0, 14, 0]'),\n",
              " Text(0.02128579505770446, 0.6166666666666667, 'gini = 0.0\\nsamples = 1\\nvalue = [1, 0, 0]'),\n",
              " Text(0.055343067150031594, 0.6833333333333333, 'x[9] <= -2.053\\ngini = 0.065\\nsamples = 511\\nvalue = [12, 494, 5]'),\n",
              " Text(0.03831443110386803, 0.65, 'x[5] <= 0.618\\ngini = 0.5\\nsamples = 2\\nvalue = [0, 1, 1]'),\n",
              " Text(0.03405727209232714, 0.6166666666666667, 'gini = 0.0\\nsamples = 1\\nvalue = [0, 0, 1]'),\n",
              " Text(0.04257159011540892, 0.6166666666666667, 'gini = 0.0\\nsamples = 1\\nvalue = [0, 1, 0]'),\n",
              " Text(0.07237170319619517, 0.65, 'x[10] <= 3.582\\ngini = 0.061\\nsamples = 509\\nvalue = [12, 493, 4]'),\n",
              " Text(0.051085908138490704, 0.6166666666666667, 'x[10] <= 0.418\\ngini = 0.055\\nsamples = 498\\nvalue = [11, 484, 3]'),\n",
              " Text(0.025542954069245352, 0.5833333333333334, 'x[2] <= -0.63\\ngini = 0.094\\nsamples = 203\\nvalue = [10, 193, 0]'),\n",
              " Text(0.02128579505770446, 0.55, 'gini = 0.0\\nsamples = 1\\nvalue = [1, 0, 0]'),\n",
              " Text(0.029800113080786245, 0.55, 'x[4] <= -0.704\\ngini = 0.085\\nsamples = 202\\nvalue = [9, 193, 0]'),\n",
              " Text(0.025542954069245352, 0.5166666666666667, 'gini = 0.0\\nsamples = 98\\nvalue = [0, 98, 0]'),\n",
              " Text(0.03405727209232714, 0.5166666666666667, 'x[7] <= -1.901\\ngini = 0.158\\nsamples = 104\\nvalue = [9, 95, 0]'),\n",
              " Text(0.029800113080786245, 0.48333333333333334, 'gini = 0.0\\nsamples = 1\\nvalue = [1, 0, 0]'),\n",
              " Text(0.03831443110386803, 0.48333333333333334, 'x[9] <= 0.467\\ngini = 0.143\\nsamples = 103\\nvalue = [8, 95, 0]'),\n",
              " Text(0.025542954069245352, 0.45, 'x[7] <= -0.724\\ngini = 0.035\\nsamples = 56\\nvalue = [1, 55, 0]'),\n",
              " Text(0.02128579505770446, 0.4166666666666667, 'gini = 0.0\\nsamples = 53\\nvalue = [0, 53, 0]'),\n",
              " Text(0.029800113080786245, 0.4166666666666667, 'x[11] <= -0.964\\ngini = 0.444\\nsamples = 3\\nvalue = [1, 2, 0]'),\n",
              " Text(0.025542954069245352, 0.38333333333333336, 'gini = 0.0\\nsamples = 1\\nvalue = [1, 0, 0]'),\n",
              " Text(0.03405727209232714, 0.38333333333333336, 'gini = 0.0\\nsamples = 2\\nvalue = [0, 2, 0]'),\n",
              " Text(0.051085908138490704, 0.45, 'x[1] <= 1.785\\ngini = 0.254\\nsamples = 47\\nvalue = [7, 40, 0]'),\n",
              " Text(0.046828749126949815, 0.4166666666666667, 'x[2] <= 2.331\\ngini = 0.198\\nsamples = 45\\nvalue = [5, 40, 0]'),\n",
              " Text(0.04257159011540892, 0.38333333333333336, 'x[7] <= -1.858\\ngini = 0.165\\nsamples = 44\\nvalue = [4, 40, 0]'),\n",
              " Text(0.03192869258655669, 0.35, 'x[1] <= -0.326\\ngini = 0.5\\nsamples = 2\\nvalue = [1, 1, 0]'),\n",
              " Text(0.027671533575015797, 0.31666666666666665, 'gini = 0.0\\nsamples = 1\\nvalue = [0, 1, 0]'),\n",
              " Text(0.03618585159809758, 0.31666666666666665, 'gini = 0.0\\nsamples = 1\\nvalue = [1, 0, 0]'),\n",
              " Text(0.05321448764426115, 0.35, 'x[5] <= 1.799\\ngini = 0.133\\nsamples = 42\\nvalue = [3, 39, 0]'),\n",
              " Text(0.04470016962117936, 0.31666666666666665, 'x[4] <= -0.662\\ngini = 0.095\\nsamples = 40\\nvalue = [2, 38, 0]'),\n",
              " Text(0.04044301060963847, 0.2833333333333333, 'x[3] <= -2.175\\ngini = 0.346\\nsamples = 9\\nvalue = [2, 7, 0]'),\n",
              " Text(0.03618585159809758, 0.25, 'gini = 0.0\\nsamples = 1\\nvalue = [1, 0, 0]'),\n",
              " Text(0.04470016962117936, 0.25, 'x[7] <= -1.295\\ngini = 0.219\\nsamples = 8\\nvalue = [1, 7, 0]'),\n",
              " Text(0.04044301060963847, 0.21666666666666667, 'gini = 0.0\\nsamples = 7\\nvalue = [0, 7, 0]'),\n",
              " Text(0.04895732863272026, 0.21666666666666667, 'gini = 0.0\\nsamples = 1\\nvalue = [1, 0, 0]'),\n",
              " Text(0.04895732863272026, 0.2833333333333333, 'gini = 0.0\\nsamples = 31\\nvalue = [0, 31, 0]'),\n",
              " Text(0.061728805667342936, 0.31666666666666665, 'x[1] <= -0.441\\ngini = 0.5\\nsamples = 2\\nvalue = [1, 1, 0]'),\n",
              " Text(0.05747164665580204, 0.2833333333333333, 'gini = 0.0\\nsamples = 1\\nvalue = [1, 0, 0]'),\n",
              " Text(0.06598596467888383, 0.2833333333333333, 'gini = 0.0\\nsamples = 1\\nvalue = [0, 1, 0]'),\n",
              " Text(0.051085908138490704, 0.38333333333333336, 'gini = 0.0\\nsamples = 1\\nvalue = [1, 0, 0]'),\n",
              " Text(0.055343067150031594, 0.4166666666666667, 'gini = 0.0\\nsamples = 2\\nvalue = [2, 0, 0]'),\n",
              " Text(0.07662886220773606, 0.5833333333333334, 'x[1] <= -1.132\\ngini = 0.027\\nsamples = 295\\nvalue = [1, 291, 3]'),\n",
              " Text(0.06811454418465428, 0.55, 'x[2] <= 1.97\\ngini = 0.5\\nsamples = 2\\nvalue = [1, 1, 0]'),\n",
              " Text(0.06385738517311337, 0.5166666666666667, 'gini = 0.0\\nsamples = 1\\nvalue = [1, 0, 0]'),\n",
              " Text(0.07237170319619517, 0.5166666666666667, 'gini = 0.0\\nsamples = 1\\nvalue = [0, 1, 0]'),\n",
              " Text(0.08514318023081784, 0.55, 'x[7] <= -1.726\\ngini = 0.02\\nsamples = 293\\nvalue = [0, 290, 3]'),\n",
              " Text(0.08088602121927695, 0.5166666666666667, 'x[10] <= 2.516\\ngini = 0.068\\nsamples = 85\\nvalue = [0, 82, 3]'),\n",
              " Text(0.07237170319619517, 0.48333333333333334, 'x[5] <= 0.407\\ngini = 0.048\\nsamples = 81\\nvalue = [0, 79, 2]'),\n",
              " Text(0.06811454418465428, 0.45, 'x[5] <= 0.323\\ngini = 0.114\\nsamples = 33\\nvalue = [0, 31, 2]'),\n",
              " Text(0.06385738517311337, 0.4166666666666667, 'gini = 0.0\\nsamples = 26\\nvalue = [0, 26, 0]'),\n",
              " Text(0.07237170319619517, 0.4166666666666667, 'x[10] <= 0.751\\ngini = 0.408\\nsamples = 7\\nvalue = [0, 5, 2]'),\n",
              " Text(0.06811454418465428, 0.38333333333333336, 'gini = 0.0\\nsamples = 5\\nvalue = [0, 5, 0]'),\n",
              " Text(0.07662886220773606, 0.38333333333333336, 'gini = 0.0\\nsamples = 2\\nvalue = [0, 0, 2]'),\n",
              " Text(0.07662886220773606, 0.45, 'gini = 0.0\\nsamples = 48\\nvalue = [0, 48, 0]'),\n",
              " Text(0.08940033924235873, 0.48333333333333334, 'x[7] <= -1.743\\ngini = 0.375\\nsamples = 4\\nvalue = [0, 3, 1]'),\n",
              " Text(0.08514318023081784, 0.45, 'gini = 0.0\\nsamples = 3\\nvalue = [0, 3, 0]'),\n",
              " Text(0.09365749825389963, 0.45, 'gini = 0.0\\nsamples = 1\\nvalue = [0, 0, 1]'),\n",
              " Text(0.08940033924235873, 0.5166666666666667, 'gini = 0.0\\nsamples = 208\\nvalue = [0, 208, 0]'),\n",
              " Text(0.09365749825389963, 0.6166666666666667, 'x[6] <= -1.483\\ngini = 0.314\\nsamples = 11\\nvalue = [1, 9, 1]'),\n",
              " Text(0.08940033924235873, 0.5833333333333334, 'gini = 0.0\\nsamples = 1\\nvalue = [0, 0, 1]'),\n",
              " Text(0.09791465726544052, 0.5833333333333334, 'x[3] <= -1.375\\ngini = 0.18\\nsamples = 10\\nvalue = [1, 9, 0]'),\n",
              " Text(0.09365749825389963, 0.55, 'gini = 0.0\\nsamples = 1\\nvalue = [1, 0, 0]'),\n",
              " Text(0.10217181627698141, 0.55, 'gini = 0.0\\nsamples = 9\\nvalue = [0, 9, 0]'),\n",
              " Text(0.11494329331160408, 0.7166666666666667, 'x[7] <= -1.778\\ngini = 0.305\\nsamples = 32\\nvalue = [6, 26, 0]'),\n",
              " Text(0.10217181627698141, 0.6833333333333333, 'x[2] <= 2.722\\ngini = 0.5\\nsamples = 8\\nvalue = [4, 4, 0]'),\n",
              " Text(0.09791465726544052, 0.65, 'gini = 0.0\\nsamples = 3\\nvalue = [3, 0, 0]'),\n",
              " Text(0.1064289752885223, 0.65, 'x[11] <= 0.01\\ngini = 0.32\\nsamples = 5\\nvalue = [1, 4, 0]'),\n",
              " Text(0.10217181627698141, 0.6166666666666667, 'gini = 0.0\\nsamples = 4\\nvalue = [0, 4, 0]'),\n",
              " Text(0.11068613430006319, 0.6166666666666667, 'gini = 0.0\\nsamples = 1\\nvalue = [1, 0, 0]'),\n",
              " Text(0.12771477034622675, 0.6833333333333333, 'x[10] <= -0.148\\ngini = 0.153\\nsamples = 24\\nvalue = [2, 22, 0]'),\n",
              " Text(0.12345761133468587, 0.65, 'x[9] <= 0.959\\ngini = 0.444\\nsamples = 6\\nvalue = [2, 4, 0]'),\n",
              " Text(0.11920045232314498, 0.6166666666666667, 'gini = 0.0\\nsamples = 2\\nvalue = [2, 0, 0]'),\n",
              " Text(0.12771477034622675, 0.6166666666666667, 'gini = 0.0\\nsamples = 4\\nvalue = [0, 4, 0]'),\n",
              " Text(0.13197192935776766, 0.65, 'gini = 0.0\\nsamples = 18\\nvalue = [0, 18, 0]'),\n",
              " Text(0.0787574417135065, 0.7833333333333333, 'gini = 0.0\\nsamples = 1\\nvalue = [1, 0, 0]'),\n",
              " Text(0.2753184554494961, 0.8166666666666667, 'x[2] <= 1.053\\ngini = 0.315\\nsamples = 304\\nvalue = [53, 246, 5]'),\n",
              " Text(0.23241427478631058, 0.7833333333333333, 'x[6] <= -1.175\\ngini = 0.286\\nsamples = 290\\nvalue = [44, 241, 5]'),\n",
              " Text(0.20434363255396282, 0.75, 'x[5] <= -0.014\\ngini = 0.412\\nsamples = 102\\nvalue = [28, 73, 1]'),\n",
              " Text(0.18305783749625837, 0.7166666666666667, 'x[4] <= -0.158\\ngini = 0.377\\nsamples = 93\\nvalue = [22, 70, 1]'),\n",
              " Text(0.1617720424385539, 0.6833333333333333, 'x[9] <= -0.946\\ngini = 0.434\\nsamples = 66\\nvalue = [21, 45, 0]'),\n",
              " Text(0.14474340639239033, 0.65, 'x[9] <= -1.377\\ngini = 0.499\\nsamples = 19\\nvalue = [10, 9, 0]'),\n",
              " Text(0.13622908836930855, 0.6166666666666667, 'x[11] <= 0.518\\ngini = 0.397\\nsamples = 11\\nvalue = [3, 8, 0]'),\n",
              " Text(0.13197192935776766, 0.5833333333333334, 'x[4] <= -0.578\\ngini = 0.198\\nsamples = 9\\nvalue = [1, 8, 0]'),\n",
              " Text(0.12771477034622675, 0.55, 'gini = 0.0\\nsamples = 8\\nvalue = [0, 8, 0]'),\n",
              " Text(0.13622908836930855, 0.55, 'gini = 0.0\\nsamples = 1\\nvalue = [1, 0, 0]'),\n",
              " Text(0.14048624738084944, 0.5833333333333334, 'gini = 0.0\\nsamples = 2\\nvalue = [2, 0, 0]'),\n",
              " Text(0.1532577244154721, 0.6166666666666667, 'x[3] <= 0.954\\ngini = 0.219\\nsamples = 8\\nvalue = [7, 1, 0]'),\n",
              " Text(0.14900056540393122, 0.5833333333333334, 'gini = 0.0\\nsamples = 7\\nvalue = [7, 0, 0]'),\n",
              " Text(0.157514883427013, 0.5833333333333334, 'gini = 0.0\\nsamples = 1\\nvalue = [0, 1, 0]'),\n",
              " Text(0.17880067848471745, 0.65, 'x[2] <= 0.392\\ngini = 0.359\\nsamples = 47\\nvalue = [11, 36, 0]'),\n",
              " Text(0.17454351947317656, 0.6166666666666667, 'x[6] <= -1.343\\ngini = 0.32\\nsamples = 45\\nvalue = [9, 36, 0]'),\n",
              " Text(0.16602920145009478, 0.5833333333333334, 'x[4] <= -0.468\\ngini = 0.426\\nsamples = 26\\nvalue = [8, 18, 0]'),\n",
              " Text(0.1617720424385539, 0.55, 'x[5] <= -0.296\\ngini = 0.375\\nsamples = 24\\nvalue = [6, 18, 0]'),\n",
              " Text(0.157514883427013, 0.5166666666666667, 'x[5] <= -0.731\\ngini = 0.469\\nsamples = 16\\nvalue = [6, 10, 0]'),\n",
              " Text(0.1532577244154721, 0.48333333333333334, 'gini = 0.0\\nsamples = 6\\nvalue = [0, 6, 0]'),\n",
              " Text(0.1617720424385539, 0.48333333333333334, 'x[11] <= 0.687\\ngini = 0.48\\nsamples = 10\\nvalue = [6, 4, 0]'),\n",
              " Text(0.157514883427013, 0.45, 'gini = 0.0\\nsamples = 4\\nvalue = [4, 0, 0]'),\n",
              " Text(0.16602920145009478, 0.45, 'x[3] <= 0.259\\ngini = 0.444\\nsamples = 6\\nvalue = [2, 4, 0]'),\n",
              " Text(0.1617720424385539, 0.4166666666666667, 'gini = 0.0\\nsamples = 3\\nvalue = [0, 3, 0]'),\n",
              " Text(0.17028636046163567, 0.4166666666666667, 'x[5] <= -0.52\\ngini = 0.444\\nsamples = 3\\nvalue = [2, 1, 0]'),\n",
              " Text(0.16602920145009478, 0.38333333333333336, 'gini = 0.0\\nsamples = 2\\nvalue = [2, 0, 0]'),\n",
              " Text(0.17454351947317656, 0.38333333333333336, 'gini = 0.0\\nsamples = 1\\nvalue = [0, 1, 0]'),\n",
              " Text(0.16602920145009478, 0.5166666666666667, 'gini = 0.0\\nsamples = 8\\nvalue = [0, 8, 0]'),\n",
              " Text(0.17028636046163567, 0.55, 'gini = 0.0\\nsamples = 2\\nvalue = [2, 0, 0]'),\n",
              " Text(0.18305783749625837, 0.5833333333333334, 'x[3] <= 0.885\\ngini = 0.1\\nsamples = 19\\nvalue = [1, 18, 0]'),\n",
              " Text(0.17880067848471745, 0.55, 'gini = 0.0\\nsamples = 18\\nvalue = [0, 18, 0]'),\n",
              " Text(0.18731499650779926, 0.55, 'gini = 0.0\\nsamples = 1\\nvalue = [1, 0, 0]'),\n",
              " Text(0.18305783749625837, 0.6166666666666667, 'gini = 0.0\\nsamples = 2\\nvalue = [2, 0, 0]'),\n",
              " Text(0.20434363255396282, 0.6833333333333333, 'x[7] <= 0.4\\ngini = 0.14\\nsamples = 27\\nvalue = [1, 25, 1]'),\n",
              " Text(0.20008647354242193, 0.65, 'x[8] <= -0.692\\ngini = 0.074\\nsamples = 26\\nvalue = [0, 25, 1]'),\n",
              " Text(0.19582931453088104, 0.6166666666666667, 'x[4] <= 0.199\\ngini = 0.375\\nsamples = 4\\nvalue = [0, 3, 1]'),\n",
              " Text(0.19157215551934015, 0.5833333333333334, 'gini = 0.0\\nsamples = 3\\nvalue = [0, 3, 0]'),\n",
              " Text(0.20008647354242193, 0.5833333333333334, 'gini = 0.0\\nsamples = 1\\nvalue = [0, 0, 1]'),\n",
              " Text(0.20434363255396282, 0.6166666666666667, 'gini = 0.0\\nsamples = 22\\nvalue = [0, 22, 0]'),\n",
              " Text(0.2086007915655037, 0.65, 'gini = 0.0\\nsamples = 1\\nvalue = [1, 0, 0]'),\n",
              " Text(0.22562942761166727, 0.7166666666666667, 'x[1] <= -0.326\\ngini = 0.444\\nsamples = 9\\nvalue = [6, 3, 0]'),\n",
              " Text(0.22137226860012638, 0.6833333333333333, 'x[8] <= -0.715\\ngini = 0.245\\nsamples = 7\\nvalue = [6, 1, 0]'),\n",
              " Text(0.2171151095885855, 0.65, 'gini = 0.0\\nsamples = 1\\nvalue = [0, 1, 0]'),\n",
              " Text(0.22562942761166727, 0.65, 'gini = 0.0\\nsamples = 6\\nvalue = [6, 0, 0]'),\n",
              " Text(0.22988658662320816, 0.6833333333333333, 'gini = 0.0\\nsamples = 2\\nvalue = [0, 2, 0]'),\n",
              " Text(0.26048491701865834, 0.75, 'x[11] <= -1.218\\ngini = 0.194\\nsamples = 188\\nvalue = [16, 168, 4]'),\n",
              " Text(0.24265806365783085, 0.7166666666666667, 'x[3] <= -0.367\\ngini = 0.444\\nsamples = 3\\nvalue = [2, 1, 0]'),\n",
              " Text(0.23840090464628996, 0.6833333333333333, 'gini = 0.0\\nsamples = 1\\nvalue = [0, 1, 0]'),\n",
              " Text(0.24691522266937174, 0.6833333333333333, 'gini = 0.0\\nsamples = 2\\nvalue = [2, 0, 0]'),\n",
              " Text(0.2783117703794858, 0.7166666666666667, 'x[9] <= 1.45\\ngini = 0.179\\nsamples = 185\\nvalue = [14, 167, 4]'),\n",
              " Text(0.2554295406924535, 0.6833333333333333, 'x[10] <= 1.917\\ngini = 0.153\\nsamples = 171\\nvalue = [10, 157, 4]'),\n",
              " Text(0.2352080353876343, 0.65, 'x[8] <= -0.341\\ngini = 0.135\\nsamples = 167\\nvalue = [9, 155, 3]'),\n",
              " Text(0.21605081983570026, 0.6166666666666667, 'x[6] <= -0.95\\ngini = 0.073\\nsamples = 107\\nvalue = [2, 103, 2]'),\n",
              " Text(0.21179366082415937, 0.5833333333333334, 'gini = 0.0\\nsamples = 78\\nvalue = [0, 78, 0]'),\n",
              " Text(0.22030797884724115, 0.5833333333333334, 'x[2] <= -0.93\\ngini = 0.247\\nsamples = 29\\nvalue = [2, 25, 2]'),\n",
              " Text(0.21179366082415937, 0.55, 'x[9] <= 0.098\\ngini = 0.444\\nsamples = 6\\nvalue = [0, 4, 2]'),\n",
              " Text(0.20753650181261848, 0.5166666666666667, 'gini = 0.0\\nsamples = 4\\nvalue = [0, 4, 0]'),\n",
              " Text(0.21605081983570026, 0.5166666666666667, 'gini = 0.0\\nsamples = 2\\nvalue = [0, 0, 2]'),\n",
              " Text(0.22882229687032293, 0.55, 'x[4] <= -0.872\\ngini = 0.159\\nsamples = 23\\nvalue = [2, 21, 0]'),\n",
              " Text(0.22456513785878204, 0.5166666666666667, 'x[5] <= -0.324\\ngini = 0.48\\nsamples = 5\\nvalue = [2, 3, 0]'),\n",
              " Text(0.22030797884724115, 0.48333333333333334, 'x[1] <= 1.363\\ngini = 0.444\\nsamples = 3\\nvalue = [2, 1, 0]'),\n",
              " Text(0.21605081983570026, 0.45, 'gini = 0.0\\nsamples = 2\\nvalue = [2, 0, 0]'),\n",
              " Text(0.22456513785878204, 0.45, 'gini = 0.0\\nsamples = 1\\nvalue = [0, 1, 0]'),\n",
              " Text(0.22882229687032293, 0.48333333333333334, 'gini = 0.0\\nsamples = 2\\nvalue = [0, 2, 0]'),\n",
              " Text(0.23307945588186385, 0.5166666666666667, 'gini = 0.0\\nsamples = 18\\nvalue = [0, 18, 0]'),\n",
              " Text(0.2543652509395683, 0.6166666666666667, 'x[8] <= -0.311\\ngini = 0.235\\nsamples = 60\\nvalue = [7, 52, 1]'),\n",
              " Text(0.2501080919280274, 0.5833333333333334, 'gini = 0.0\\nsamples = 1\\nvalue = [1, 0, 0]'),\n",
              " Text(0.2586224099511092, 0.5833333333333334, 'x[9] <= -1.254\\ngini = 0.213\\nsamples = 59\\nvalue = [6, 52, 1]'),\n",
              " Text(0.24585093291648652, 0.55, 'x[9] <= -1.5\\ngini = 0.54\\nsamples = 10\\nvalue = [3, 6, 1]'),\n",
              " Text(0.24159377390494563, 0.5166666666666667, 'gini = 0.0\\nsamples = 5\\nvalue = [0, 5, 0]'),\n",
              " Text(0.2501080919280274, 0.5166666666666667, 'x[1] <= 0.442\\ngini = 0.56\\nsamples = 5\\nvalue = [3, 1, 1]'),\n",
              " Text(0.24585093291648652, 0.48333333333333334, 'x[5] <= -0.844\\ngini = 0.375\\nsamples = 4\\nvalue = [3, 1, 0]'),\n",
              " Text(0.24159377390494563, 0.45, 'gini = 0.0\\nsamples = 1\\nvalue = [0, 1, 0]'),\n",
              " Text(0.2501080919280274, 0.45, 'gini = 0.0\\nsamples = 3\\nvalue = [3, 0, 0]'),\n",
              " Text(0.2543652509395683, 0.48333333333333334, 'gini = 0.0\\nsamples = 1\\nvalue = [0, 0, 1]'),\n",
              " Text(0.27139388698573186, 0.55, 'x[4] <= -0.809\\ngini = 0.115\\nsamples = 49\\nvalue = [3, 46, 0]'),\n",
              " Text(0.26713672797419097, 0.5166666666666667, 'x[7] <= 0.259\\ngini = 0.42\\nsamples = 10\\nvalue = [3, 7, 0]'),\n",
              " Text(0.2628795689626501, 0.48333333333333334, 'x[10] <= -0.081\\ngini = 0.48\\nsamples = 5\\nvalue = [3, 2, 0]'),\n",
              " Text(0.2586224099511092, 0.45, 'gini = 0.0\\nsamples = 3\\nvalue = [3, 0, 0]'),\n",
              " Text(0.26713672797419097, 0.45, 'gini = 0.0\\nsamples = 2\\nvalue = [0, 2, 0]'),\n",
              " Text(0.27139388698573186, 0.48333333333333334, 'gini = 0.0\\nsamples = 5\\nvalue = [0, 5, 0]'),\n",
              " Text(0.27565104599727275, 0.5166666666666667, 'gini = 0.0\\nsamples = 39\\nvalue = [0, 39, 0]'),\n",
              " Text(0.27565104599727275, 0.65, 'x[1] <= -0.173\\ngini = 0.625\\nsamples = 4\\nvalue = [1, 2, 1]'),\n",
              " Text(0.27139388698573186, 0.6166666666666667, 'x[3] <= -0.297\\ngini = 0.5\\nsamples = 2\\nvalue = [1, 0, 1]'),\n",
              " Text(0.26713672797419097, 0.5833333333333334, 'gini = 0.0\\nsamples = 1\\nvalue = [1, 0, 0]'),\n",
              " Text(0.27565104599727275, 0.5833333333333334, 'gini = 0.0\\nsamples = 1\\nvalue = [0, 0, 1]'),\n",
              " Text(0.27990820500881364, 0.6166666666666667, 'gini = 0.0\\nsamples = 2\\nvalue = [0, 2, 0]'),\n",
              " Text(0.3011940000665181, 0.6833333333333333, 'x[7] <= -0.689\\ngini = 0.408\\nsamples = 14\\nvalue = [4, 10, 0]'),\n",
              " Text(0.2926796820434363, 0.65, 'x[9] <= 1.911\\ngini = 0.444\\nsamples = 3\\nvalue = [2, 1, 0]'),\n",
              " Text(0.2884225230318954, 0.6166666666666667, 'gini = 0.0\\nsamples = 2\\nvalue = [2, 0, 0]'),\n",
              " Text(0.2969368410549772, 0.6166666666666667, 'gini = 0.0\\nsamples = 1\\nvalue = [0, 1, 0]'),\n",
              " Text(0.3097083180895999, 0.65, 'x[8] <= -0.107\\ngini = 0.298\\nsamples = 11\\nvalue = [2, 9, 0]'),\n",
              " Text(0.305451159078059, 0.6166666666666667, 'gini = 0.0\\nsamples = 8\\nvalue = [0, 8, 0]'),\n",
              " Text(0.3139654771011408, 0.6166666666666667, 'x[10] <= 0.585\\ngini = 0.444\\nsamples = 3\\nvalue = [2, 1, 0]'),\n",
              " Text(0.3097083180895999, 0.5833333333333334, 'gini = 0.0\\nsamples = 2\\nvalue = [2, 0, 0]'),\n",
              " Text(0.3182226361126817, 0.5833333333333334, 'gini = 0.0\\nsamples = 1\\nvalue = [0, 1, 0]'),\n",
              " Text(0.3182226361126817, 0.7833333333333333, 'x[7] <= -0.601\\ngini = 0.459\\nsamples = 14\\nvalue = [9, 5, 0]'),\n",
              " Text(0.3097083180895999, 0.75, 'x[9] <= 1.02\\ngini = 0.219\\nsamples = 8\\nvalue = [7, 1, 0]'),\n",
              " Text(0.305451159078059, 0.7166666666666667, 'gini = 0.0\\nsamples = 6\\nvalue = [6, 0, 0]'),\n",
              " Text(0.3139654771011408, 0.7166666666666667, 'x[6] <= -1.231\\ngini = 0.5\\nsamples = 2\\nvalue = [1, 1, 0]'),\n",
              " Text(0.3097083180895999, 0.6833333333333333, 'gini = 0.0\\nsamples = 1\\nvalue = [0, 1, 0]'),\n",
              " Text(0.3182226361126817, 0.6833333333333333, 'gini = 0.0\\nsamples = 1\\nvalue = [1, 0, 0]'),\n",
              " Text(0.3267369541357635, 0.75, 'x[5] <= -0.296\\ngini = 0.444\\nsamples = 6\\nvalue = [2, 4, 0]'),\n",
              " Text(0.3224797951242226, 0.7166666666666667, 'gini = 0.0\\nsamples = 4\\nvalue = [0, 4, 0]'),\n",
              " Text(0.33099411314730437, 0.7166666666666667, 'gini = 0.0\\nsamples = 2\\nvalue = [2, 0, 0]'),\n",
              " Text(0.6168819324342302, 0.85, 'x[11] <= 0.836\\ngini = 0.085\\nsamples = 3444\\nvalue = [77, 3292, 75]'),\n",
              " Text(0.49491396298267204, 0.8166666666666667, 'x[3] <= 3.84\\ngini = 0.075\\nsamples = 3030\\nvalue = [73, 2913, 44]'),\n",
              " Text(0.48639964495959026, 0.7833333333333333, 'x[1] <= -2.207\\ngini = 0.074\\nsamples = 3027\\nvalue = [71, 2912, 44]'),\n",
              " Text(0.48214248594804937, 0.75, 'gini = 0.0\\nsamples = 1\\nvalue = [1, 0, 0]'),\n",
              " Text(0.49065680397113115, 0.75, 'x[7] <= 4.208\\ngini = 0.073\\nsamples = 3026\\nvalue = [70, 2912, 44]'),\n",
              " Text(0.48639964495959026, 0.7166666666666667, 'x[4] <= -0.956\\ngini = 0.073\\nsamples = 3025\\nvalue = [69, 2912, 44]'),\n",
              " Text(0.40915704925666013, 0.6833333333333333, 'x[2] <= -0.72\\ngini = 0.42\\nsamples = 10\\nvalue = [3, 7, 0]'),\n",
              " Text(0.40489989024511924, 0.65, 'gini = 0.0\\nsamples = 6\\nvalue = [0, 6, 0]'),\n",
              " Text(0.413414208268201, 0.65, 'x[1] <= -0.979\\ngini = 0.375\\nsamples = 4\\nvalue = [3, 1, 0]'),\n",
              " Text(0.40915704925666013, 0.6166666666666667, 'gini = 0.0\\nsamples = 1\\nvalue = [0, 1, 0]'),\n",
              " Text(0.4176713672797419, 0.6166666666666667, 'gini = 0.0\\nsamples = 3\\nvalue = [3, 0, 0]'),\n",
              " Text(0.5636422406625203, 0.6833333333333333, 'x[6] <= 4.066\\ngini = 0.071\\nsamples = 3015\\nvalue = [66, 2905, 44]'),\n",
              " Text(0.49872160508198354, 0.65, 'x[5] <= -0.099\\ngini = 0.069\\nsamples = 3007\\nvalue = [65, 2900, 42]'),\n",
              " Text(0.4261856853028237, 0.6166666666666667, 'x[2] <= 1.549\\ngini = 0.053\\nsamples = 1939\\nvalue = [26, 1887, 26]'),\n",
              " Text(0.37912828017427747, 0.5833333333333334, 'x[1] <= 3.09\\ngini = 0.048\\nsamples = 1923\\nvalue = [21, 1876, 26]'),\n",
              " Text(0.3748711211627366, 0.55, 'x[7] <= 0.259\\ngini = 0.047\\nsamples = 1922\\nvalue = [20, 1876, 26]'),\n",
              " Text(0.29352778794026674, 0.5166666666666667, 'x[10] <= -1.646\\ngini = 0.086\\nsamples = 742\\nvalue = [11, 709, 22]'),\n",
              " Text(0.28927062892872585, 0.48333333333333334, 'gini = 0.0\\nsamples = 1\\nvalue = [1, 0, 0]'),\n",
              " Text(0.2977849469518076, 0.48333333333333334, 'x[1] <= 1.632\\ngini = 0.083\\nsamples = 741\\nvalue = [10, 709, 22]'),\n",
              " Text(0.27565104599727275, 0.45, 'x[6] <= -0.166\\ngini = 0.081\\nsamples = 739\\nvalue = [9, 708, 22]'),\n",
              " Text(0.24415472112282569, 0.4166666666666667, 'x[1] <= -0.134\\ngini = 0.038\\nsamples = 359\\nvalue = [5, 352, 2]'),\n",
              " Text(0.22765822995310472, 0.38333333333333336, 'x[2] <= 0.227\\ngini = 0.009\\nsamples = 229\\nvalue = [1, 228, 0]'),\n",
              " Text(0.22340107094156383, 0.35, 'gini = 0.0\\nsamples = 204\\nvalue = [0, 204, 0]'),\n",
              " Text(0.2319153889646456, 0.35, 'x[4] <= -0.872\\ngini = 0.077\\nsamples = 25\\nvalue = [1, 24, 0]'),\n",
              " Text(0.22765822995310472, 0.31666666666666665, 'x[3] <= -1.028\\ngini = 0.5\\nsamples = 2\\nvalue = [1, 1, 0]'),\n",
              " Text(0.22340107094156383, 0.2833333333333333, 'gini = 0.0\\nsamples = 1\\nvalue = [0, 1, 0]'),\n",
              " Text(0.2319153889646456, 0.2833333333333333, 'gini = 0.0\\nsamples = 1\\nvalue = [1, 0, 0]'),\n",
              " Text(0.2361725479761865, 0.31666666666666665, 'gini = 0.0\\nsamples = 23\\nvalue = [0, 23, 0]'),\n",
              " Text(0.2606512122925466, 0.38333333333333336, 'x[8] <= -1.356\\ngini = 0.089\\nsamples = 130\\nvalue = [4, 124, 2]'),\n",
              " Text(0.2489440250108092, 0.35, 'x[2] <= -1.02\\ngini = 0.5\\nsamples = 2\\nvalue = [0, 1, 1]'),\n",
              " Text(0.2446868659992683, 0.31666666666666665, 'gini = 0.0\\nsamples = 1\\nvalue = [0, 0, 1]'),\n",
              " Text(0.2532011840223501, 0.31666666666666665, 'gini = 0.0\\nsamples = 1\\nvalue = [0, 1, 0]'),\n",
              " Text(0.2723583995742841, 0.35, 'x[1] <= -0.057\\ngini = 0.076\\nsamples = 128\\nvalue = [4, 123, 1]'),\n",
              " Text(0.26171550204543187, 0.31666666666666665, 'x[9] <= 0.467\\ngini = 0.278\\nsamples = 12\\nvalue = [2, 10, 0]'),\n",
              " Text(0.257458343033891, 0.2833333333333333, 'gini = 0.0\\nsamples = 10\\nvalue = [0, 10, 0]'),\n",
              " Text(0.26597266105697276, 0.2833333333333333, 'gini = 0.0\\nsamples = 2\\nvalue = [2, 0, 0]'),\n",
              " Text(0.2830012971031363, 0.31666666666666665, 'x[9] <= -2.022\\ngini = 0.051\\nsamples = 116\\nvalue = [2, 113, 1]'),\n",
              " Text(0.27448697908005454, 0.2833333333333333, 'x[11] <= -0.329\\ngini = 0.375\\nsamples = 4\\nvalue = [1, 3, 0]'),\n",
              " Text(0.27022982006851365, 0.25, 'gini = 0.0\\nsamples = 3\\nvalue = [0, 3, 0]'),\n",
              " Text(0.27874413809159543, 0.25, 'gini = 0.0\\nsamples = 1\\nvalue = [1, 0, 0]'),\n",
              " Text(0.2915156151262181, 0.2833333333333333, 'x[11] <= 0.476\\ngini = 0.035\\nsamples = 112\\nvalue = [1, 110, 1]'),\n",
              " Text(0.2872584561146772, 0.25, 'gini = 0.0\\nsamples = 97\\nvalue = [0, 97, 0]'),\n",
              " Text(0.295772774137759, 0.25, 'x[5] <= -0.197\\ngini = 0.24\\nsamples = 15\\nvalue = [1, 13, 1]'),\n",
              " Text(0.2915156151262181, 0.21666666666666667, 'x[3] <= 0.78\\ngini = 0.133\\nsamples = 14\\nvalue = [0, 13, 1]'),\n",
              " Text(0.2872584561146772, 0.18333333333333332, 'gini = 0.0\\nsamples = 13\\nvalue = [0, 13, 0]'),\n",
              " Text(0.295772774137759, 0.18333333333333332, 'gini = 0.0\\nsamples = 1\\nvalue = [0, 0, 1]'),\n",
              " Text(0.3000299331492999, 0.21666666666666667, 'gini = 0.0\\nsamples = 1\\nvalue = [1, 0, 0]'),\n",
              " Text(0.30714737087171984, 0.4166666666666667, 'x[7] <= -0.777\\ngini = 0.119\\nsamples = 380\\nvalue = [4, 356, 20]'),\n",
              " Text(0.2915156151262181, 0.38333333333333336, 'x[9] <= -0.455\\ngini = 0.5\\nsamples = 2\\nvalue = [1, 1, 0]'),\n",
              " Text(0.2872584561146772, 0.35, 'gini = 0.0\\nsamples = 1\\nvalue = [1, 0, 0]'),\n",
              " Text(0.295772774137759, 0.35, 'gini = 0.0\\nsamples = 1\\nvalue = [0, 1, 0]'),\n",
              " Text(0.3227791266172215, 0.38333333333333336, 'x[3] <= -2.001\\ngini = 0.115\\nsamples = 378\\nvalue = [3, 355, 20]'),\n",
              " Text(0.30428709216084077, 0.35, 'x[2] <= 0.993\\ngini = 0.5\\nsamples = 2\\nvalue = [1, 1, 0]'),\n",
              " Text(0.3000299331492999, 0.31666666666666665, 'gini = 0.0\\nsamples = 1\\nvalue = [1, 0, 0]'),\n",
              " Text(0.30854425117238166, 0.31666666666666665, 'gini = 0.0\\nsamples = 1\\nvalue = [0, 1, 0]'),\n",
              " Text(0.3412711610736023, 0.35, 'x[9] <= -0.332\\ngini = 0.111\\nsamples = 376\\nvalue = [2, 354, 20]'),\n",
              " Text(0.3170585691954635, 0.31666666666666665, 'x[2] <= -1.111\\ngini = 0.037\\nsamples = 161\\nvalue = [1, 158, 2]'),\n",
              " Text(0.30854425117238166, 0.2833333333333333, 'x[10] <= -0.747\\ngini = 0.278\\nsamples = 12\\nvalue = [0, 10, 2]'),\n",
              " Text(0.30428709216084077, 0.25, 'gini = 0.0\\nsamples = 2\\nvalue = [0, 0, 2]'),\n",
              " Text(0.31280141018392255, 0.25, 'gini = 0.0\\nsamples = 10\\nvalue = [0, 10, 0]'),\n",
              " Text(0.32557288721854527, 0.2833333333333333, 'x[3] <= -0.645\\ngini = 0.013\\nsamples = 149\\nvalue = [1, 148, 0]'),\n",
              " Text(0.3213157282070044, 0.25, 'x[10] <= -1.38\\ngini = 0.278\\nsamples = 6\\nvalue = [1, 5, 0]'),\n",
              " Text(0.3170585691954635, 0.21666666666666667, 'gini = 0.0\\nsamples = 1\\nvalue = [1, 0, 0]'),\n",
              " Text(0.32557288721854527, 0.21666666666666667, 'gini = 0.0\\nsamples = 5\\nvalue = [0, 5, 0]'),\n",
              " Text(0.32983004623008616, 0.25, 'gini = 0.0\\nsamples = 143\\nvalue = [0, 143, 0]'),\n",
              " Text(0.3654837529517411, 0.31666666666666665, 'x[1] <= 1.286\\ngini = 0.162\\nsamples = 215\\nvalue = [1, 196, 18]'),\n",
              " Text(0.36122659394020024, 0.2833333333333333, 'x[1] <= -0.518\\ngini = 0.155\\nsamples = 214\\nvalue = [1, 196, 17]'),\n",
              " Text(0.34260152326470883, 0.25, 'x[10] <= -1.08\\ngini = 0.055\\nsamples = 106\\nvalue = [0, 103, 3]'),\n",
              " Text(0.33408720524162705, 0.21666666666666667, 'x[4] <= -0.032\\ngini = 0.375\\nsamples = 4\\nvalue = [0, 3, 1]'),\n",
              " Text(0.32983004623008616, 0.18333333333333332, 'gini = 0.0\\nsamples = 3\\nvalue = [0, 3, 0]'),\n",
              " Text(0.33834436425316794, 0.18333333333333332, 'gini = 0.0\\nsamples = 1\\nvalue = [0, 0, 1]'),\n",
              " Text(0.3511158412877906, 0.21666666666666667, 'x[4] <= 1.196\\ngini = 0.038\\nsamples = 102\\nvalue = [0, 100, 2]'),\n",
              " Text(0.3468586822762497, 0.18333333333333332, 'gini = 0.0\\nsamples = 84\\nvalue = [0, 84, 0]'),\n",
              " Text(0.3553730002993315, 0.18333333333333332, 'x[8] <= 0.428\\ngini = 0.198\\nsamples = 18\\nvalue = [0, 16, 2]'),\n",
              " Text(0.3511158412877906, 0.15, 'gini = 0.0\\nsamples = 2\\nvalue = [0, 0, 2]'),\n",
              " Text(0.3596301593108724, 0.15, 'gini = 0.0\\nsamples = 16\\nvalue = [0, 16, 0]'),\n",
              " Text(0.37985166461569164, 0.25, 'x[4] <= -0.914\\ngini = 0.242\\nsamples = 108\\nvalue = [1, 93, 14]'),\n",
              " Text(0.37559450560415075, 0.21666666666666667, 'gini = 0.0\\nsamples = 1\\nvalue = [1, 0, 0]'),\n",
              " Text(0.38410882362723253, 0.21666666666666667, 'x[2] <= -0.81\\ngini = 0.227\\nsamples = 107\\nvalue = [0, 93, 14]'),\n",
              " Text(0.37240163634549506, 0.18333333333333332, 'x[9] <= -0.147\\ngini = 0.087\\nsamples = 44\\nvalue = [0, 42, 2]'),\n",
              " Text(0.36814447733395417, 0.15, 'gini = 0.0\\nsamples = 2\\nvalue = [0, 0, 2]'),\n",
              " Text(0.37665879535703595, 0.15, 'gini = 0.0\\nsamples = 42\\nvalue = [0, 42, 0]'),\n",
              " Text(0.39581601090896995, 0.18333333333333332, 'x[4] <= -0.641\\ngini = 0.308\\nsamples = 63\\nvalue = [0, 51, 12]'),\n",
              " Text(0.3851731133801177, 0.15, 'x[5] <= -0.591\\ngini = 0.437\\nsamples = 31\\nvalue = [0, 21, 10]'),\n",
              " Text(0.37665879535703595, 0.11666666666666667, 'x[9] <= 0.713\\ngini = 0.32\\nsamples = 5\\nvalue = [0, 1, 4]'),\n",
              " Text(0.37240163634549506, 0.08333333333333333, 'gini = 0.0\\nsamples = 4\\nvalue = [0, 0, 4]'),\n",
              " Text(0.38091595436857684, 0.08333333333333333, 'gini = 0.0\\nsamples = 1\\nvalue = [0, 1, 0]'),\n",
              " Text(0.3936874314031995, 0.11666666666666667, 'x[1] <= -0.364\\ngini = 0.355\\nsamples = 26\\nvalue = [0, 20, 6]'),\n",
              " Text(0.3894302723916586, 0.08333333333333333, 'gini = 0.0\\nsamples = 2\\nvalue = [0, 0, 2]'),\n",
              " Text(0.3979445904147404, 0.08333333333333333, 'x[7] <= 0.101\\ngini = 0.278\\nsamples = 24\\nvalue = [0, 20, 4]'),\n",
              " Text(0.3936874314031995, 0.05, 'gini = 0.0\\nsamples = 16\\nvalue = [0, 16, 0]'),\n",
              " Text(0.4022017494262813, 0.05, 'x[11] <= -0.032\\ngini = 0.5\\nsamples = 8\\nvalue = [0, 4, 4]'),\n",
              " Text(0.3979445904147404, 0.016666666666666666, 'gini = 0.0\\nsamples = 4\\nvalue = [0, 4, 0]'),\n",
              " Text(0.4064589084378222, 0.016666666666666666, 'gini = 0.0\\nsamples = 4\\nvalue = [0, 0, 4]'),\n",
              " Text(0.4064589084378222, 0.15, 'x[11] <= 0.476\\ngini = 0.117\\nsamples = 32\\nvalue = [0, 30, 2]'),\n",
              " Text(0.4022017494262813, 0.11666666666666667, 'gini = 0.0\\nsamples = 25\\nvalue = [0, 25, 0]'),\n",
              " Text(0.41071606744936306, 0.11666666666666667, 'x[5] <= -0.661\\ngini = 0.408\\nsamples = 7\\nvalue = [0, 5, 2]'),\n",
              " Text(0.4064589084378222, 0.08333333333333333, 'gini = 0.0\\nsamples = 5\\nvalue = [0, 5, 0]'),\n",
              " Text(0.41497322646090395, 0.08333333333333333, 'gini = 0.0\\nsamples = 2\\nvalue = [0, 0, 2]'),\n",
              " Text(0.369740911963282, 0.2833333333333333, 'gini = 0.0\\nsamples = 1\\nvalue = [0, 0, 1]'),\n",
              " Text(0.3199188479063425, 0.45, 'x[2] <= -0.69\\ngini = 0.5\\nsamples = 2\\nvalue = [1, 1, 0]'),\n",
              " Text(0.3156616888948016, 0.4166666666666667, 'gini = 0.0\\nsamples = 1\\nvalue = [0, 1, 0]'),\n",
              " Text(0.3241760069178834, 0.4166666666666667, 'gini = 0.0\\nsamples = 1\\nvalue = [1, 0, 0]'),\n",
              " Text(0.45621445438520636, 0.5166666666666667, 'x[3] <= 1.024\\ngini = 0.022\\nsamples = 1180\\nvalue = [9, 1167, 4]'),\n",
              " Text(0.4282768483719693, 0.48333333333333334, 'x[9] <= 1.205\\ngini = 0.014\\nsamples = 971\\nvalue = [3, 964, 4]'),\n",
              " Text(0.4085874879435926, 0.45, 'x[10] <= 1.617\\ngini = 0.009\\nsamples = 892\\nvalue = [2, 888, 2]'),\n",
              " Text(0.39475172115608476, 0.4166666666666667, 'x[4] <= -0.893\\ngini = 0.007\\nsamples = 870\\nvalue = [1, 867, 2]'),\n",
              " Text(0.37985166461569164, 0.38333333333333336, 'x[8] <= -0.429\\ngini = 0.087\\nsamples = 22\\nvalue = [0, 21, 1]'),\n",
              " Text(0.37559450560415075, 0.35, 'gini = 0.0\\nsamples = 20\\nvalue = [0, 20, 0]'),\n",
              " Text(0.38410882362723253, 0.35, 'x[7] <= 0.584\\ngini = 0.5\\nsamples = 2\\nvalue = [0, 1, 1]'),\n",
              " Text(0.37985166461569164, 0.31666666666666665, 'gini = 0.0\\nsamples = 1\\nvalue = [0, 0, 1]'),\n",
              " Text(0.3883659826387734, 0.31666666666666665, 'gini = 0.0\\nsamples = 1\\nvalue = [0, 1, 0]'),\n",
              " Text(0.40965177769647787, 0.38333333333333336, 'x[11] <= 0.56\\ngini = 0.005\\nsamples = 848\\nvalue = [1, 846, 1]'),\n",
              " Text(0.4011374596733961, 0.35, 'x[1] <= -0.825\\ngini = 0.003\\nsamples = 789\\nvalue = [1, 788, 0]'),\n",
              " Text(0.3968803006618552, 0.31666666666666665, 'x[2] <= -0.81\\ngini = 0.02\\nsamples = 100\\nvalue = [1, 99, 0]'),\n",
              " Text(0.3926231416503143, 0.2833333333333333, 'x[2] <= -0.87\\ngini = 0.18\\nsamples = 10\\nvalue = [1, 9, 0]'),\n",
              " Text(0.3883659826387734, 0.25, 'gini = 0.0\\nsamples = 9\\nvalue = [0, 9, 0]'),\n",
              " Text(0.3968803006618552, 0.25, 'gini = 0.0\\nsamples = 1\\nvalue = [1, 0, 0]'),\n",
              " Text(0.4011374596733961, 0.2833333333333333, 'gini = 0.0\\nsamples = 90\\nvalue = [0, 90, 0]'),\n",
              " Text(0.405394618684937, 0.31666666666666665, 'gini = 0.0\\nsamples = 689\\nvalue = [0, 689, 0]'),\n",
              " Text(0.41816609571955965, 0.35, 'x[8] <= -0.233\\ngini = 0.033\\nsamples = 59\\nvalue = [0, 58, 1]'),\n",
              " Text(0.41390893670801876, 0.31666666666666665, 'gini = 0.0\\nsamples = 54\\nvalue = [0, 54, 0]'),\n",
              " Text(0.42242325473110054, 0.31666666666666665, 'x[8] <= -0.167\\ngini = 0.32\\nsamples = 5\\nvalue = [0, 4, 1]'),\n",
              " Text(0.41816609571955965, 0.2833333333333333, 'gini = 0.0\\nsamples = 1\\nvalue = [0, 0, 1]'),\n",
              " Text(0.42668041374264143, 0.2833333333333333, 'gini = 0.0\\nsamples = 4\\nvalue = [0, 4, 0]'),\n",
              " Text(0.42242325473110054, 0.4166666666666667, 'x[3] <= -0.367\\ngini = 0.087\\nsamples = 22\\nvalue = [1, 21, 0]'),\n",
              " Text(0.41816609571955965, 0.38333333333333336, 'gini = 0.0\\nsamples = 1\\nvalue = [1, 0, 0]'),\n",
              " Text(0.42668041374264143, 0.38333333333333336, 'gini = 0.0\\nsamples = 21\\nvalue = [0, 21, 0]'),\n",
              " Text(0.4479662088003459, 0.45, 'x[1] <= 0.48\\ngini = 0.074\\nsamples = 79\\nvalue = [1, 76, 2]'),\n",
              " Text(0.4394518907772641, 0.4166666666666667, 'x[9] <= 1.266\\ngini = 0.026\\nsamples = 76\\nvalue = [0, 75, 1]'),\n",
              " Text(0.4351947317657232, 0.38333333333333336, 'x[5] <= -0.492\\ngini = 0.32\\nsamples = 5\\nvalue = [0, 4, 1]'),\n",
              " Text(0.4309375727541823, 0.35, 'gini = 0.0\\nsamples = 1\\nvalue = [0, 0, 1]'),\n",
              " Text(0.4394518907772641, 0.35, 'gini = 0.0\\nsamples = 4\\nvalue = [0, 4, 0]'),\n",
              " Text(0.443709049788805, 0.38333333333333336, 'gini = 0.0\\nsamples = 71\\nvalue = [0, 71, 0]'),\n",
              " Text(0.45648052682342766, 0.4166666666666667, 'x[9] <= 1.481\\ngini = 0.667\\nsamples = 3\\nvalue = [1, 1, 1]'),\n",
              " Text(0.45222336781188677, 0.38333333333333336, 'x[11] <= -0.456\\ngini = 0.5\\nsamples = 2\\nvalue = [0, 1, 1]'),\n",
              " Text(0.4479662088003459, 0.35, 'gini = 0.0\\nsamples = 1\\nvalue = [0, 1, 0]'),\n",
              " Text(0.45648052682342766, 0.35, 'gini = 0.0\\nsamples = 1\\nvalue = [0, 0, 1]'),\n",
              " Text(0.46073768583496855, 0.38333333333333336, 'gini = 0.0\\nsamples = 1\\nvalue = [1, 0, 0]'),\n",
              " Text(0.4841520603984435, 0.48333333333333334, 'x[10] <= -1.247\\ngini = 0.056\\nsamples = 209\\nvalue = [6, 203, 0]'),\n",
              " Text(0.4692520038580504, 0.45, 'x[8] <= 0.331\\ngini = 0.26\\nsamples = 13\\nvalue = [2, 11, 0]'),\n",
              " Text(0.46499484484650944, 0.4166666666666667, 'gini = 0.0\\nsamples = 10\\nvalue = [0, 10, 0]'),\n",
              " Text(0.47350916286959127, 0.4166666666666667, 'x[2] <= -0.329\\ngini = 0.444\\nsamples = 3\\nvalue = [2, 1, 0]'),\n",
              " Text(0.4692520038580504, 0.38333333333333336, 'gini = 0.0\\nsamples = 2\\nvalue = [2, 0, 0]'),\n",
              " Text(0.47776632188113216, 0.38333333333333336, 'gini = 0.0\\nsamples = 1\\nvalue = [0, 1, 0]'),\n",
              " Text(0.4990521169388366, 0.45, 'x[1] <= -0.672\\ngini = 0.04\\nsamples = 196\\nvalue = [4, 192, 0]'),\n",
              " Text(0.49053779891575483, 0.4166666666666667, 'x[7] <= 1.366\\ngini = 0.124\\nsamples = 30\\nvalue = [2, 28, 0]'),\n",
              " Text(0.48628063990421394, 0.38333333333333336, 'gini = 0.0\\nsamples = 22\\nvalue = [0, 22, 0]'),\n",
              " Text(0.4947949579272957, 0.38333333333333336, 'x[10] <= -0.081\\ngini = 0.375\\nsamples = 8\\nvalue = [2, 6, 0]'),\n",
              " Text(0.49053779891575483, 0.35, 'gini = 0.0\\nsamples = 6\\nvalue = [0, 6, 0]'),\n",
              " Text(0.4990521169388366, 0.35, 'gini = 0.0\\nsamples = 2\\nvalue = [2, 0, 0]'),\n",
              " Text(0.5075664349619183, 0.4166666666666667, 'x[6] <= 1.516\\ngini = 0.024\\nsamples = 166\\nvalue = [2, 164, 0]'),\n",
              " Text(0.5033092759503774, 0.38333333333333336, 'gini = 0.0\\nsamples = 124\\nvalue = [0, 124, 0]'),\n",
              " Text(0.5118235939734592, 0.38333333333333336, 'x[6] <= 1.572\\ngini = 0.091\\nsamples = 42\\nvalue = [2, 40, 0]'),\n",
              " Text(0.5075664349619183, 0.35, 'x[2] <= -0.269\\ngini = 0.444\\nsamples = 6\\nvalue = [2, 4, 0]'),\n",
              " Text(0.5033092759503774, 0.31666666666666665, 'gini = 0.0\\nsamples = 2\\nvalue = [2, 0, 0]'),\n",
              " Text(0.5118235939734592, 0.31666666666666665, 'gini = 0.0\\nsamples = 4\\nvalue = [0, 4, 0]'),\n",
              " Text(0.5160807529850001, 0.35, 'gini = 0.0\\nsamples = 36\\nvalue = [0, 36, 0]'),\n",
              " Text(0.38338543918581836, 0.55, 'gini = 0.0\\nsamples = 1\\nvalue = [1, 0, 0]'),\n",
              " Text(0.4732430904313699, 0.5833333333333334, 'x[10] <= 0.385\\ngini = 0.43\\nsamples = 16\\nvalue = [5, 11, 0]'),\n",
              " Text(0.468985931419829, 0.55, 'x[4] <= -0.725\\ngini = 0.26\\nsamples = 13\\nvalue = [2, 11, 0]'),\n",
              " Text(0.46472877240828814, 0.5166666666666667, 'gini = 0.0\\nsamples = 2\\nvalue = [2, 0, 0]'),\n",
              " Text(0.4732430904313699, 0.5166666666666667, 'gini = 0.0\\nsamples = 11\\nvalue = [0, 11, 0]'),\n",
              " Text(0.4775002494429108, 0.55, 'gini = 0.0\\nsamples = 3\\nvalue = [3, 0, 0]'),\n",
              " Text(0.5712575248611435, 0.6166666666666667, 'x[11] <= -1.302\\ngini = 0.099\\nsamples = 1068\\nvalue = [39, 1013, 16]'),\n",
              " Text(0.5309808095253933, 0.5833333333333334, 'x[2] <= -0.75\\ngini = 0.309\\nsamples = 76\\nvalue = [2, 62, 12]'),\n",
              " Text(0.5203379119965411, 0.55, 'x[3] <= -0.193\\ngini = 0.485\\nsamples = 29\\nvalue = [0, 17, 12]'),\n",
              " Text(0.5160807529850001, 0.5166666666666667, 'gini = 0.0\\nsamples = 7\\nvalue = [0, 0, 7]'),\n",
              " Text(0.524595071008082, 0.5166666666666667, 'x[7] <= 1.449\\ngini = 0.351\\nsamples = 22\\nvalue = [0, 17, 5]'),\n",
              " Text(0.5160807529850001, 0.48333333333333334, 'x[8] <= 1.926\\ngini = 0.111\\nsamples = 17\\nvalue = [0, 16, 1]'),\n",
              " Text(0.5118235939734592, 0.45, 'gini = 0.0\\nsamples = 14\\nvalue = [0, 14, 0]'),\n",
              " Text(0.5203379119965411, 0.45, 'x[10] <= 1.584\\ngini = 0.444\\nsamples = 3\\nvalue = [0, 2, 1]'),\n",
              " Text(0.5160807529850001, 0.4166666666666667, 'gini = 0.0\\nsamples = 1\\nvalue = [0, 0, 1]'),\n",
              " Text(0.524595071008082, 0.4166666666666667, 'gini = 0.0\\nsamples = 2\\nvalue = [0, 2, 0]'),\n",
              " Text(0.5331093890311638, 0.48333333333333334, 'x[1] <= -0.134\\ngini = 0.32\\nsamples = 5\\nvalue = [0, 1, 4]'),\n",
              " Text(0.5288522300196229, 0.45, 'gini = 0.0\\nsamples = 1\\nvalue = [0, 1, 0]'),\n",
              " Text(0.5373665480427047, 0.45, 'gini = 0.0\\nsamples = 4\\nvalue = [0, 0, 4]'),\n",
              " Text(0.5416237070542456, 0.55, 'x[4] <= -0.893\\ngini = 0.081\\nsamples = 47\\nvalue = [2, 45, 0]'),\n",
              " Text(0.5373665480427047, 0.5166666666666667, 'gini = 0.0\\nsamples = 1\\nvalue = [1, 0, 0]'),\n",
              " Text(0.5458808660657865, 0.5166666666666667, 'x[3] <= -1.514\\ngini = 0.043\\nsamples = 46\\nvalue = [1, 45, 0]'),\n",
              " Text(0.5416237070542456, 0.48333333333333334, 'gini = 0.0\\nsamples = 1\\nvalue = [1, 0, 0]'),\n",
              " Text(0.5501380250773273, 0.48333333333333334, 'gini = 0.0\\nsamples = 45\\nvalue = [0, 45, 0]'),\n",
              " Text(0.6115342401968936, 0.5833333333333334, 'x[7] <= 0.611\\ngini = 0.08\\nsamples = 992\\nvalue = [37, 951, 4]'),\n",
              " Text(0.5835301160741012, 0.55, 'x[10] <= -0.914\\ngini = 0.04\\nsamples = 681\\nvalue = [11, 667, 3]'),\n",
              " Text(0.56290950211195, 0.5166666666666667, 'x[3] <= -0.819\\ngini = 0.15\\nsamples = 49\\nvalue = [4, 45, 0]'),\n",
              " Text(0.5586523431004091, 0.48333333333333334, 'x[9] <= -1.039\\ngini = 0.32\\nsamples = 5\\nvalue = [4, 1, 0]'),\n",
              " Text(0.5543951840888682, 0.45, 'gini = 0.0\\nsamples = 1\\nvalue = [0, 1, 0]'),\n",
              " Text(0.56290950211195, 0.45, 'gini = 0.0\\nsamples = 4\\nvalue = [4, 0, 0]'),\n",
              " Text(0.5671666611234909, 0.48333333333333334, 'gini = 0.0\\nsamples = 44\\nvalue = [0, 44, 0]'),\n",
              " Text(0.6041507300362524, 0.5166666666666667, 'x[5] <= 2.46\\ngini = 0.031\\nsamples = 632\\nvalue = [7, 622, 3]'),\n",
              " Text(0.588984601057638, 0.48333333333333334, 'x[11] <= 0.645\\ngini = 0.023\\nsamples = 595\\nvalue = [4, 588, 3]'),\n",
              " Text(0.5714238201350318, 0.45, 'x[1] <= 4.011\\ngini = 0.017\\nsamples = 572\\nvalue = [4, 567, 1]'),\n",
              " Text(0.5575880533475238, 0.4166666666666667, 'x[5] <= -0.014\\ngini = 0.014\\nsamples = 565\\nvalue = [3, 561, 1]'),\n",
              " Text(0.5426879968071308, 0.38333333333333336, 'x[8] <= 1.189\\ngini = 0.081\\nsamples = 72\\nvalue = [2, 69, 1]'),\n",
              " Text(0.534173678784049, 0.35, 'x[8] <= -0.476\\ngini = 0.057\\nsamples = 69\\nvalue = [1, 67, 1]'),\n",
              " Text(0.5299165197725081, 0.31666666666666665, 'x[4] <= 0.104\\ngini = 0.227\\nsamples = 16\\nvalue = [1, 14, 1]'),\n",
              " Text(0.5256593607609672, 0.2833333333333333, 'x[1] <= -0.863\\ngini = 0.124\\nsamples = 15\\nvalue = [1, 14, 0]'),\n",
              " Text(0.5214022017494263, 0.25, 'x[9] <= 0.406\\ngini = 0.5\\nsamples = 2\\nvalue = [1, 1, 0]'),\n",
              " Text(0.5171450427378854, 0.21666666666666667, 'gini = 0.0\\nsamples = 1\\nvalue = [1, 0, 0]'),\n",
              " Text(0.5256593607609672, 0.21666666666666667, 'gini = 0.0\\nsamples = 1\\nvalue = [0, 1, 0]'),\n",
              " Text(0.5299165197725081, 0.25, 'gini = 0.0\\nsamples = 13\\nvalue = [0, 13, 0]'),\n",
              " Text(0.534173678784049, 0.2833333333333333, 'gini = 0.0\\nsamples = 1\\nvalue = [0, 0, 1]'),\n",
              " Text(0.5384308377955899, 0.31666666666666665, 'gini = 0.0\\nsamples = 53\\nvalue = [0, 53, 0]'),\n",
              " Text(0.5512023148302125, 0.35, 'x[3] <= -0.402\\ngini = 0.444\\nsamples = 3\\nvalue = [1, 2, 0]'),\n",
              " Text(0.5469451558186716, 0.31666666666666665, 'gini = 0.0\\nsamples = 1\\nvalue = [1, 0, 0]'),\n",
              " Text(0.5554594738417534, 0.31666666666666665, 'gini = 0.0\\nsamples = 2\\nvalue = [0, 2, 0]'),\n",
              " Text(0.572488109887917, 0.38333333333333336, 'x[11] <= -0.964\\ngini = 0.004\\nsamples = 493\\nvalue = [1, 492, 0]'),\n",
              " Text(0.5682309508763761, 0.35, 'x[1] <= 1.133\\ngini = 0.027\\nsamples = 72\\nvalue = [1, 71, 0]'),\n",
              " Text(0.5639737918648352, 0.31666666666666665, 'gini = 0.0\\nsamples = 63\\nvalue = [0, 63, 0]'),\n",
              " Text(0.572488109887917, 0.31666666666666665, 'x[6] <= -0.698\\ngini = 0.198\\nsamples = 9\\nvalue = [1, 8, 0]'),\n",
              " Text(0.5682309508763761, 0.2833333333333333, 'gini = 0.0\\nsamples = 1\\nvalue = [1, 0, 0]'),\n",
              " Text(0.5767452688994579, 0.2833333333333333, 'gini = 0.0\\nsamples = 8\\nvalue = [0, 8, 0]'),\n",
              " Text(0.5767452688994579, 0.35, 'gini = 0.0\\nsamples = 421\\nvalue = [0, 421, 0]'),\n",
              " Text(0.5852595869225397, 0.4166666666666667, 'x[3] <= 1.302\\ngini = 0.245\\nsamples = 7\\nvalue = [1, 6, 0]'),\n",
              " Text(0.5810024279109988, 0.38333333333333336, 'gini = 0.0\\nsamples = 1\\nvalue = [1, 0, 0]'),\n",
              " Text(0.5895167459340805, 0.38333333333333336, 'gini = 0.0\\nsamples = 6\\nvalue = [0, 6, 0]'),\n",
              " Text(0.6065453819802441, 0.45, 'x[7] <= -1.497\\ngini = 0.159\\nsamples = 23\\nvalue = [0, 21, 2]'),\n",
              " Text(0.6022882229687032, 0.4166666666666667, 'x[8] <= 0.033\\ngini = 0.408\\nsamples = 7\\nvalue = [0, 5, 2]'),\n",
              " Text(0.5980310639571623, 0.38333333333333336, 'x[3] <= -0.019\\ngini = 0.444\\nsamples = 3\\nvalue = [0, 1, 2]'),\n",
              " Text(0.5937739049456214, 0.35, 'gini = 0.0\\nsamples = 2\\nvalue = [0, 0, 2]'),\n",
              " Text(0.6022882229687032, 0.35, 'gini = 0.0\\nsamples = 1\\nvalue = [0, 1, 0]'),\n",
              " Text(0.6065453819802441, 0.38333333333333336, 'gini = 0.0\\nsamples = 4\\nvalue = [0, 4, 0]'),\n",
              " Text(0.610802540991785, 0.4166666666666667, 'gini = 0.0\\nsamples = 16\\nvalue = [0, 16, 0]'),\n",
              " Text(0.6193168590148668, 0.48333333333333334, 'x[9] <= 0.498\\ngini = 0.149\\nsamples = 37\\nvalue = [3, 34, 0]'),\n",
              " Text(0.6150597000033259, 0.45, 'gini = 0.0\\nsamples = 34\\nvalue = [0, 34, 0]'),\n",
              " Text(0.6235740180264077, 0.45, 'gini = 0.0\\nsamples = 3\\nvalue = [3, 0, 0]'),\n",
              " Text(0.639538364319686, 0.55, 'x[3] <= -1.34\\ngini = 0.159\\nsamples = 311\\nvalue = [26, 284, 1]'),\n",
              " Text(0.6352812053081451, 0.5166666666666667, 'gini = 0.0\\nsamples = 4\\nvalue = [4, 0, 0]'),\n",
              " Text(0.6437955233312269, 0.5166666666666667, 'x[1] <= 1.478\\ngini = 0.139\\nsamples = 307\\nvalue = [22, 284, 1]'),\n",
              " Text(0.639538364319686, 0.48333333333333334, 'x[9] <= 2.587\\ngini = 0.129\\nsamples = 305\\nvalue = [20, 284, 1]'),\n",
              " Text(0.6352812053081451, 0.45, 'x[3] <= -0.784\\ngini = 0.118\\nsamples = 303\\nvalue = [18, 284, 1]'),\n",
              " Text(0.6193168590148668, 0.4166666666666667, 'x[8] <= 1.003\\ngini = 0.397\\nsamples = 22\\nvalue = [6, 16, 0]'),\n",
              " Text(0.6150597000033259, 0.38333333333333336, 'x[6] <= -0.418\\ngini = 0.198\\nsamples = 18\\nvalue = [2, 16, 0]'),\n",
              " Text(0.610802540991785, 0.35, 'x[10] <= 0.485\\ngini = 0.5\\nsamples = 4\\nvalue = [2, 2, 0]'),\n",
              " Text(0.6065453819802441, 0.31666666666666665, 'gini = 0.0\\nsamples = 2\\nvalue = [0, 2, 0]'),\n",
              " Text(0.6150597000033259, 0.31666666666666665, 'gini = 0.0\\nsamples = 2\\nvalue = [2, 0, 0]'),\n",
              " Text(0.6193168590148668, 0.35, 'gini = 0.0\\nsamples = 14\\nvalue = [0, 14, 0]'),\n",
              " Text(0.6235740180264077, 0.38333333333333336, 'gini = 0.0\\nsamples = 4\\nvalue = [4, 0, 0]'),\n",
              " Text(0.6512455516014235, 0.4166666666666667, 'x[6] <= 0.115\\ngini = 0.089\\nsamples = 281\\nvalue = [12, 268, 1]'),\n",
              " Text(0.6320883360494894, 0.38333333333333336, 'x[2] <= -0.99\\ngini = 0.228\\nsamples = 62\\nvalue = [7, 54, 1]'),\n",
              " Text(0.6278311770379486, 0.35, 'gini = 0.0\\nsamples = 1\\nvalue = [0, 0, 1]'),\n",
              " Text(0.6363454950610303, 0.35, 'x[8] <= 1.86\\ngini = 0.203\\nsamples = 61\\nvalue = [7, 54, 0]'),\n",
              " Text(0.6320883360494894, 0.31666666666666665, 'x[2] <= 1.805\\ngini = 0.18\\nsamples = 60\\nvalue = [6, 54, 0]'),\n",
              " Text(0.6278311770379486, 0.2833333333333333, 'x[5] <= -0.042\\ngini = 0.155\\nsamples = 59\\nvalue = [5, 54, 0]'),\n",
              " Text(0.6129311204975555, 0.25, 'x[6] <= -0.278\\ngini = 0.332\\nsamples = 19\\nvalue = [4, 15, 0]'),\n",
              " Text(0.6044168024744737, 0.21666666666666667, 'x[11] <= -0.244\\ngini = 0.375\\nsamples = 4\\nvalue = [3, 1, 0]'),\n",
              " Text(0.6001596434629328, 0.18333333333333332, 'gini = 0.0\\nsamples = 3\\nvalue = [3, 0, 0]'),\n",
              " Text(0.6086739614860146, 0.18333333333333332, 'gini = 0.0\\nsamples = 1\\nvalue = [0, 1, 0]'),\n",
              " Text(0.6214454385206373, 0.21666666666666667, 'x[9] <= 0.836\\ngini = 0.124\\nsamples = 15\\nvalue = [1, 14, 0]'),\n",
              " Text(0.6171882795090964, 0.18333333333333332, 'gini = 0.0\\nsamples = 13\\nvalue = [0, 13, 0]'),\n",
              " Text(0.6257025975321782, 0.18333333333333332, 'x[8] <= 0.087\\ngini = 0.5\\nsamples = 2\\nvalue = [1, 1, 0]'),\n",
              " Text(0.6214454385206373, 0.15, 'gini = 0.0\\nsamples = 1\\nvalue = [0, 1, 0]'),\n",
              " Text(0.629959756543719, 0.15, 'gini = 0.0\\nsamples = 1\\nvalue = [1, 0, 0]'),\n",
              " Text(0.6427312335783417, 0.25, 'x[3] <= -0.332\\ngini = 0.049\\nsamples = 40\\nvalue = [1, 39, 0]'),\n",
              " Text(0.6384740745668008, 0.21666666666666667, 'x[8] <= 1.398\\ngini = 0.444\\nsamples = 3\\nvalue = [1, 2, 0]'),\n",
              " Text(0.6342169155552599, 0.18333333333333332, 'gini = 0.0\\nsamples = 1\\nvalue = [1, 0, 0]'),\n",
              " Text(0.6427312335783417, 0.18333333333333332, 'gini = 0.0\\nsamples = 2\\nvalue = [0, 2, 0]'),\n",
              " Text(0.6469883925898826, 0.21666666666666667, 'gini = 0.0\\nsamples = 37\\nvalue = [0, 37, 0]'),\n",
              " Text(0.6363454950610303, 0.2833333333333333, 'gini = 0.0\\nsamples = 1\\nvalue = [1, 0, 0]'),\n",
              " Text(0.6406026540725712, 0.31666666666666665, 'gini = 0.0\\nsamples = 1\\nvalue = [1, 0, 0]'),\n",
              " Text(0.6704027671533574, 0.38333333333333336, 'x[4] <= 1.989\\ngini = 0.045\\nsamples = 219\\nvalue = [5, 214, 0]'),\n",
              " Text(0.6597598696245053, 0.35, 'x[8] <= 1.378\\ngini = 0.021\\nsamples = 191\\nvalue = [2, 189, 0]'),\n",
              " Text(0.6512455516014235, 0.31666666666666665, 'x[2] <= 0.633\\ngini = 0.011\\nsamples = 185\\nvalue = [1, 184, 0]'),\n",
              " Text(0.6469883925898826, 0.2833333333333333, 'gini = 0.0\\nsamples = 173\\nvalue = [0, 173, 0]'),\n",
              " Text(0.6555027106129644, 0.2833333333333333, 'x[6] <= 1.796\\ngini = 0.153\\nsamples = 12\\nvalue = [1, 11, 0]'),\n",
              " Text(0.6512455516014235, 0.25, 'gini = 0.0\\nsamples = 10\\nvalue = [0, 10, 0]'),\n",
              " Text(0.6597598696245053, 0.25, 'x[11] <= -0.837\\ngini = 0.5\\nsamples = 2\\nvalue = [1, 1, 0]'),\n",
              " Text(0.6555027106129644, 0.21666666666666667, 'gini = 0.0\\nsamples = 1\\nvalue = [0, 1, 0]'),\n",
              " Text(0.6640170286360462, 0.21666666666666667, 'gini = 0.0\\nsamples = 1\\nvalue = [1, 0, 0]'),\n",
              " Text(0.6682741876475871, 0.31666666666666665, 'x[10] <= -0.214\\ngini = 0.278\\nsamples = 6\\nvalue = [1, 5, 0]'),\n",
              " Text(0.6640170286360462, 0.2833333333333333, 'gini = 0.0\\nsamples = 5\\nvalue = [0, 5, 0]'),\n",
              " Text(0.672531346659128, 0.2833333333333333, 'gini = 0.0\\nsamples = 1\\nvalue = [1, 0, 0]'),\n",
              " Text(0.6810456646822097, 0.35, 'x[4] <= 2.01\\ngini = 0.191\\nsamples = 28\\nvalue = [3, 25, 0]'),\n",
              " Text(0.6767885056706688, 0.31666666666666665, 'gini = 0.0\\nsamples = 1\\nvalue = [1, 0, 0]'),\n",
              " Text(0.6853028236937506, 0.31666666666666665, 'x[8] <= 0.828\\ngini = 0.137\\nsamples = 27\\nvalue = [2, 25, 0]'),\n",
              " Text(0.6810456646822097, 0.2833333333333333, 'gini = 0.0\\nsamples = 1\\nvalue = [1, 0, 0]'),\n",
              " Text(0.6895599827052915, 0.2833333333333333, 'x[3] <= -0.715\\ngini = 0.074\\nsamples = 26\\nvalue = [1, 25, 0]'),\n",
              " Text(0.6853028236937506, 0.25, 'x[8] <= 1.14\\ngini = 0.444\\nsamples = 3\\nvalue = [1, 2, 0]'),\n",
              " Text(0.6810456646822097, 0.21666666666666667, 'gini = 0.0\\nsamples = 1\\nvalue = [1, 0, 0]'),\n",
              " Text(0.6895599827052915, 0.21666666666666667, 'gini = 0.0\\nsamples = 2\\nvalue = [0, 2, 0]'),\n",
              " Text(0.6938171417168324, 0.25, 'gini = 0.0\\nsamples = 23\\nvalue = [0, 23, 0]'),\n",
              " Text(0.6437955233312269, 0.45, 'gini = 0.0\\nsamples = 2\\nvalue = [2, 0, 0]'),\n",
              " Text(0.6480526823427678, 0.48333333333333334, 'gini = 0.0\\nsamples = 2\\nvalue = [2, 0, 0]'),\n",
              " Text(0.6285628762430572, 0.65, 'x[4] <= -0.226\\ngini = 0.531\\nsamples = 8\\nvalue = [1, 5, 2]'),\n",
              " Text(0.6243057172315163, 0.6166666666666667, 'x[2] <= -0.449\\ngini = 0.444\\nsamples = 3\\nvalue = [1, 0, 2]'),\n",
              " Text(0.6200485582199754, 0.5833333333333334, 'gini = 0.0\\nsamples = 2\\nvalue = [0, 0, 2]'),\n",
              " Text(0.6285628762430572, 0.5833333333333334, 'gini = 0.0\\nsamples = 1\\nvalue = [1, 0, 0]'),\n",
              " Text(0.6328200352545981, 0.6166666666666667, 'gini = 0.0\\nsamples = 5\\nvalue = [0, 5, 0]'),\n",
              " Text(0.49491396298267204, 0.7166666666666667, 'gini = 0.0\\nsamples = 1\\nvalue = [1, 0, 0]'),\n",
              " Text(0.5034282810057538, 0.7833333333333333, 'x[8] <= 1.635\\ngini = 0.444\\nsamples = 3\\nvalue = [2, 1, 0]'),\n",
              " Text(0.49917112199421293, 0.75, 'gini = 0.0\\nsamples = 2\\nvalue = [2, 0, 0]'),\n",
              " Text(0.5076854400172947, 0.75, 'gini = 0.0\\nsamples = 1\\nvalue = [0, 1, 0]'),\n",
              " Text(0.7388499018857884, 0.8166666666666667, 'x[6] <= 2.048\\ngini = 0.156\\nsamples = 414\\nvalue = [4, 379, 31]'),\n",
              " Text(0.7043935211361293, 0.7833333333333333, 'x[4] <= 0.97\\ngini = 0.138\\nsamples = 406\\nvalue = [3, 376, 27]'),\n",
              " Text(0.6610237137060565, 0.75, 'x[4] <= -0.914\\ngini = 0.111\\nsamples = 375\\nvalue = [2, 353, 20]'),\n",
              " Text(0.6455915122892207, 0.7166666666666667, 'x[2] <= 0.002\\ngini = 0.287\\nsamples = 23\\nvalue = [0, 19, 4]'),\n",
              " Text(0.6413343532776798, 0.6833333333333333, 'x[8] <= -1.225\\ngini = 0.095\\nsamples = 20\\nvalue = [0, 19, 1]'),\n",
              " Text(0.637077194266139, 0.65, 'gini = 0.0\\nsamples = 19\\nvalue = [0, 19, 0]'),\n",
              " Text(0.6455915122892207, 0.65, 'gini = 0.0\\nsamples = 1\\nvalue = [0, 0, 1]'),\n",
              " Text(0.6498486713007616, 0.6833333333333333, 'gini = 0.0\\nsamples = 3\\nvalue = [0, 0, 3]'),\n",
              " Text(0.6764559151228922, 0.7166666666666667, 'x[5] <= -1.167\\ngini = 0.098\\nsamples = 352\\nvalue = [2, 334, 16]'),\n",
              " Text(0.6583629893238434, 0.6833333333333333, 'x[8] <= -1.3\\ngini = 0.444\\nsamples = 3\\nvalue = [1, 2, 0]'),\n",
              " Text(0.6541058303123025, 0.65, 'gini = 0.0\\nsamples = 2\\nvalue = [0, 2, 0]'),\n",
              " Text(0.6626201483353843, 0.65, 'gini = 0.0\\nsamples = 1\\nvalue = [1, 0, 0]'),\n",
              " Text(0.694548840921941, 0.6833333333333333, 'x[6] <= -0.166\\ngini = 0.093\\nsamples = 349\\nvalue = [1, 332, 16]'),\n",
              " Text(0.6711344663584661, 0.65, 'x[2] <= -1.306\\ngini = 0.031\\nsamples = 126\\nvalue = [1, 124, 1]'),\n",
              " Text(0.6626201483353843, 0.6166666666666667, 'x[3] <= 0.189\\ngini = 0.375\\nsamples = 4\\nvalue = [0, 3, 1]'),\n",
              " Text(0.6583629893238434, 0.5833333333333334, 'gini = 0.0\\nsamples = 3\\nvalue = [0, 3, 0]'),\n",
              " Text(0.6668773073469252, 0.5833333333333334, 'gini = 0.0\\nsamples = 1\\nvalue = [0, 0, 1]'),\n",
              " Text(0.6796487843815479, 0.6166666666666667, 'x[4] <= -0.872\\ngini = 0.016\\nsamples = 122\\nvalue = [1, 121, 0]'),\n",
              " Text(0.675391625370007, 0.5833333333333334, 'x[7] <= -0.812\\ngini = 0.198\\nsamples = 9\\nvalue = [1, 8, 0]'),\n",
              " Text(0.6711344663584661, 0.55, 'gini = 0.0\\nsamples = 1\\nvalue = [1, 0, 0]'),\n",
              " Text(0.6796487843815479, 0.55, 'gini = 0.0\\nsamples = 8\\nvalue = [0, 8, 0]'),\n",
              " Text(0.6839059433930887, 0.5833333333333334, 'gini = 0.0\\nsamples = 113\\nvalue = [0, 113, 0]'),\n",
              " Text(0.7179632154854159, 0.65, 'x[9] <= 0.16\\ngini = 0.125\\nsamples = 223\\nvalue = [0, 208, 15]'),\n",
              " Text(0.7009345794392523, 0.6166666666666667, 'x[2] <= -1.111\\ngini = 0.061\\nsamples = 128\\nvalue = [0, 124, 4]'),\n",
              " Text(0.6924202614161705, 0.5833333333333334, 'x[8] <= -1.017\\ngini = 0.444\\nsamples = 3\\nvalue = [0, 2, 1]'),\n",
              " Text(0.6881631024046296, 0.55, 'gini = 0.0\\nsamples = 2\\nvalue = [0, 2, 0]'),\n",
              " Text(0.6966774204277114, 0.55, 'gini = 0.0\\nsamples = 1\\nvalue = [0, 0, 1]'),\n",
              " Text(0.7094488974623341, 0.5833333333333334, 'x[9] <= -1.192\\ngini = 0.047\\nsamples = 125\\nvalue = [0, 122, 3]'),\n",
              " Text(0.7051917384507932, 0.55, 'x[0] <= -0.586\\ngini = 0.175\\nsamples = 31\\nvalue = [0, 28, 3]'),\n",
              " Text(0.7009345794392523, 0.5166666666666667, 'gini = 0.0\\nsamples = 1\\nvalue = [0, 0, 1]'),\n",
              " Text(0.7094488974623341, 0.5166666666666667, 'x[4] <= 0.178\\ngini = 0.124\\nsamples = 30\\nvalue = [0, 28, 2]'),\n",
              " Text(0.7051917384507932, 0.48333333333333334, 'gini = 0.0\\nsamples = 24\\nvalue = [0, 24, 0]'),\n",
              " Text(0.713706056473875, 0.48333333333333334, 'x[1] <= -0.249\\ngini = 0.444\\nsamples = 6\\nvalue = [0, 4, 2]'),\n",
              " Text(0.7094488974623341, 0.45, 'gini = 0.0\\nsamples = 2\\nvalue = [0, 0, 2]'),\n",
              " Text(0.7179632154854159, 0.45, 'gini = 0.0\\nsamples = 4\\nvalue = [0, 4, 0]'),\n",
              " Text(0.713706056473875, 0.55, 'gini = 0.0\\nsamples = 94\\nvalue = [0, 94, 0]'),\n",
              " Text(0.7349918515315794, 0.6166666666666667, 'x[6] <= 0.002\\ngini = 0.205\\nsamples = 95\\nvalue = [0, 84, 11]'),\n",
              " Text(0.7264775335084976, 0.5833333333333334, 'x[1] <= -0.441\\ngini = 0.459\\nsamples = 14\\nvalue = [0, 9, 5]'),\n",
              " Text(0.7222203744969568, 0.55, 'gini = 0.0\\nsamples = 8\\nvalue = [0, 8, 0]'),\n",
              " Text(0.7307346925200385, 0.55, 'x[5] <= -0.647\\ngini = 0.278\\nsamples = 6\\nvalue = [0, 1, 5]'),\n",
              " Text(0.7264775335084976, 0.5166666666666667, 'gini = 0.0\\nsamples = 1\\nvalue = [0, 1, 0]'),\n",
              " Text(0.7349918515315794, 0.5166666666666667, 'gini = 0.0\\nsamples = 5\\nvalue = [0, 0, 5]'),\n",
              " Text(0.7435061695546613, 0.5833333333333334, 'x[8] <= -1.755\\ngini = 0.137\\nsamples = 81\\nvalue = [0, 75, 6]'),\n",
              " Text(0.7392490105431203, 0.55, 'gini = 0.0\\nsamples = 1\\nvalue = [0, 0, 1]'),\n",
              " Text(0.7477633285662022, 0.55, 'x[9] <= 0.836\\ngini = 0.117\\nsamples = 80\\nvalue = [0, 75, 5]'),\n",
              " Text(0.7435061695546613, 0.5166666666666667, 'x[3] <= -1.062\\ngini = 0.177\\nsamples = 51\\nvalue = [0, 46, 5]'),\n",
              " Text(0.732863272025809, 0.48333333333333334, 'x[1] <= -0.979\\ngini = 0.5\\nsamples = 2\\nvalue = [0, 1, 1]'),\n",
              " Text(0.7286061130142681, 0.45, 'gini = 0.0\\nsamples = 1\\nvalue = [0, 0, 1]'),\n",
              " Text(0.7371204310373499, 0.45, 'gini = 0.0\\nsamples = 1\\nvalue = [0, 1, 0]'),\n",
              " Text(0.7541490670835135, 0.48333333333333334, 'x[5] <= -0.464\\ngini = 0.15\\nsamples = 49\\nvalue = [0, 45, 4]'),\n",
              " Text(0.7456347490604317, 0.45, 'x[4] <= 0.325\\ngini = 0.059\\nsamples = 33\\nvalue = [0, 32, 1]'),\n",
              " Text(0.7413775900488908, 0.4166666666666667, 'gini = 0.0\\nsamples = 30\\nvalue = [0, 30, 0]'),\n",
              " Text(0.7498919080719726, 0.4166666666666667, 'x[7] <= 0.005\\ngini = 0.444\\nsamples = 3\\nvalue = [0, 2, 1]'),\n",
              " Text(0.7456347490604317, 0.38333333333333336, 'gini = 0.0\\nsamples = 1\\nvalue = [0, 0, 1]'),\n",
              " Text(0.7541490670835135, 0.38333333333333336, 'gini = 0.0\\nsamples = 2\\nvalue = [0, 2, 0]'),\n",
              " Text(0.7626633851065953, 0.45, 'x[11] <= 0.899\\ngini = 0.305\\nsamples = 16\\nvalue = [0, 13, 3]'),\n",
              " Text(0.7584062260950544, 0.4166666666666667, 'gini = 0.0\\nsamples = 1\\nvalue = [0, 0, 1]'),\n",
              " Text(0.7669205441181361, 0.4166666666666667, 'x[10] <= -0.847\\ngini = 0.231\\nsamples = 15\\nvalue = [0, 13, 2]'),\n",
              " Text(0.7626633851065953, 0.38333333333333336, 'gini = 0.0\\nsamples = 1\\nvalue = [0, 0, 1]'),\n",
              " Text(0.771177703129677, 0.38333333333333336, 'x[2] <= -0.029\\ngini = 0.133\\nsamples = 14\\nvalue = [0, 13, 1]'),\n",
              " Text(0.7669205441181361, 0.35, 'gini = 0.0\\nsamples = 11\\nvalue = [0, 11, 0]'),\n",
              " Text(0.7754348621412179, 0.35, 'x[1] <= -0.249\\ngini = 0.444\\nsamples = 3\\nvalue = [0, 2, 1]'),\n",
              " Text(0.771177703129677, 0.31666666666666665, 'gini = 0.0\\nsamples = 1\\nvalue = [0, 0, 1]'),\n",
              " Text(0.7796920211527588, 0.31666666666666665, 'gini = 0.0\\nsamples = 2\\nvalue = [0, 2, 0]'),\n",
              " Text(0.7520204875777431, 0.5166666666666667, 'gini = 0.0\\nsamples = 29\\nvalue = [0, 29, 0]'),\n",
              " Text(0.7477633285662022, 0.75, 'x[5] <= -0.324\\ngini = 0.398\\nsamples = 31\\nvalue = [1, 23, 7]'),\n",
              " Text(0.7392490105431203, 0.7166666666666667, 'x[7] <= -0.821\\ngini = 0.226\\nsamples = 24\\nvalue = [1, 21, 2]'),\n",
              " Text(0.7349918515315794, 0.6833333333333333, 'gini = 0.0\\nsamples = 1\\nvalue = [1, 0, 0]'),\n",
              " Text(0.7435061695546613, 0.6833333333333333, 'x[2] <= -0.96\\ngini = 0.159\\nsamples = 23\\nvalue = [0, 21, 2]'),\n",
              " Text(0.7392490105431203, 0.65, 'gini = 0.0\\nsamples = 1\\nvalue = [0, 0, 1]'),\n",
              " Text(0.7477633285662022, 0.65, 'x[5] <= -0.844\\ngini = 0.087\\nsamples = 22\\nvalue = [0, 21, 1]'),\n",
              " Text(0.7435061695546613, 0.6166666666666667, 'gini = 0.0\\nsamples = 1\\nvalue = [0, 0, 1]'),\n",
              " Text(0.7520204875777431, 0.6166666666666667, 'gini = 0.0\\nsamples = 21\\nvalue = [0, 21, 0]'),\n",
              " Text(0.756277646589284, 0.7166666666666667, 'x[7] <= 0.76\\ngini = 0.408\\nsamples = 7\\nvalue = [0, 2, 5]'),\n",
              " Text(0.7520204875777431, 0.6833333333333333, 'gini = 0.0\\nsamples = 5\\nvalue = [0, 0, 5]'),\n",
              " Text(0.7605348056008249, 0.6833333333333333, 'gini = 0.0\\nsamples = 2\\nvalue = [0, 2, 0]'),\n",
              " Text(0.7733062826354475, 0.7833333333333333, 'x[11] <= 1.195\\ngini = 0.594\\nsamples = 8\\nvalue = [1, 3, 4]'),\n",
              " Text(0.7690491236239066, 0.75, 'x[11] <= 0.899\\ngini = 0.32\\nsamples = 5\\nvalue = [1, 0, 4]'),\n",
              " Text(0.7647919646123658, 0.7166666666666667, 'gini = 0.0\\nsamples = 1\\nvalue = [1, 0, 0]'),\n",
              " Text(0.7733062826354475, 0.7166666666666667, 'gini = 0.0\\nsamples = 4\\nvalue = [0, 0, 4]'),\n",
              " Text(0.7775634416469884, 0.75, 'gini = 0.0\\nsamples = 3\\nvalue = [0, 3, 0]'),\n",
              " Text(0.40440996877806235, 0.8833333333333333, 'gini = 0.0\\nsamples = 3\\nvalue = [3, 0, 0]'),\n",
              " Text(0.7999135264575781, 0.9166666666666666, 'x[7] <= -1.831\\ngini = 0.428\\nsamples = 58\\nvalue = [18, 40, 0]'),\n",
              " Text(0.7860777596700702, 0.8833333333333333, 'x[11] <= -0.117\\ngini = 0.32\\nsamples = 5\\nvalue = [4, 1, 0]'),\n",
              " Text(0.7818206006585293, 0.85, 'x[2] <= 3.323\\ngini = 0.5\\nsamples = 2\\nvalue = [1, 1, 0]'),\n",
              " Text(0.7775634416469884, 0.8166666666666667, 'gini = 0.0\\nsamples = 1\\nvalue = [1, 0, 0]'),\n",
              " Text(0.7860777596700702, 0.8166666666666667, 'gini = 0.0\\nsamples = 1\\nvalue = [0, 1, 0]'),\n",
              " Text(0.7903349186816111, 0.85, 'gini = 0.0\\nsamples = 3\\nvalue = [3, 0, 0]'),\n",
              " Text(0.8137492932450859, 0.8833333333333333, 'x[6] <= 0.143\\ngini = 0.389\\nsamples = 53\\nvalue = [14, 39, 0]'),\n",
              " Text(0.8031063957162338, 0.85, 'x[4] <= -0.494\\ngini = 0.33\\nsamples = 48\\nvalue = [10, 38, 0]'),\n",
              " Text(0.794592077693152, 0.8166666666666667, 'x[4] <= -0.683\\ngini = 0.229\\nsamples = 38\\nvalue = [5, 33, 0]'),\n",
              " Text(0.7903349186816111, 0.7833333333333333, 'x[5] <= 0.084\\ngini = 0.375\\nsamples = 20\\nvalue = [5, 15, 0]'),\n",
              " Text(0.7860777596700702, 0.75, 'gini = 0.0\\nsamples = 8\\nvalue = [0, 8, 0]'),\n",
              " Text(0.794592077693152, 0.75, 'x[2] <= 4.239\\ngini = 0.486\\nsamples = 12\\nvalue = [5, 7, 0]'),\n",
              " Text(0.7903349186816111, 0.7166666666666667, 'x[9] <= 0.16\\ngini = 0.469\\nsamples = 8\\nvalue = [5, 3, 0]'),\n",
              " Text(0.7860777596700702, 0.6833333333333333, 'gini = 0.0\\nsamples = 2\\nvalue = [0, 2, 0]'),\n",
              " Text(0.794592077693152, 0.6833333333333333, 'x[8] <= -0.238\\ngini = 0.278\\nsamples = 6\\nvalue = [5, 1, 0]'),\n",
              " Text(0.7903349186816111, 0.65, 'gini = 0.0\\nsamples = 1\\nvalue = [0, 1, 0]'),\n",
              " Text(0.7988492367046929, 0.65, 'gini = 0.0\\nsamples = 5\\nvalue = [5, 0, 0]'),\n",
              " Text(0.7988492367046929, 0.7166666666666667, 'gini = 0.0\\nsamples = 4\\nvalue = [0, 4, 0]'),\n",
              " Text(0.7988492367046929, 0.7833333333333333, 'gini = 0.0\\nsamples = 18\\nvalue = [0, 18, 0]'),\n",
              " Text(0.8116207137393155, 0.8166666666666667, 'x[3] <= -1.34\\ngini = 0.5\\nsamples = 10\\nvalue = [5, 5, 0]'),\n",
              " Text(0.8073635547277747, 0.7833333333333333, 'gini = 0.0\\nsamples = 4\\nvalue = [4, 0, 0]'),\n",
              " Text(0.8158778727508564, 0.7833333333333333, 'x[4] <= -0.378\\ngini = 0.278\\nsamples = 6\\nvalue = [1, 5, 0]'),\n",
              " Text(0.8116207137393155, 0.75, 'gini = 0.0\\nsamples = 1\\nvalue = [1, 0, 0]'),\n",
              " Text(0.8201350317623973, 0.75, 'gini = 0.0\\nsamples = 5\\nvalue = [0, 5, 0]'),\n",
              " Text(0.8243921907739382, 0.85, 'x[5] <= 0.309\\ngini = 0.32\\nsamples = 5\\nvalue = [4, 1, 0]'),\n",
              " Text(0.8201350317623973, 0.8166666666666667, 'gini = 0.0\\nsamples = 4\\nvalue = [4, 0, 0]'),\n",
              " Text(0.8286493497854791, 0.8166666666666667, 'gini = 0.0\\nsamples = 1\\nvalue = [0, 1, 0]'),\n",
              " Text(0.9166195496723983, 0.95, 'x[6] <= 1.264\\ngini = 0.247\\nsamples = 499\\nvalue = [5, 428, 66]'),\n",
              " Text(0.884058935045066, 0.9166666666666666, 'x[2] <= -1.231\\ngini = 0.232\\nsamples = 485\\nvalue = [5, 421, 59]'),\n",
              " Text(0.8798017760335252, 0.8833333333333333, 'gini = 0.0\\nsamples = 2\\nvalue = [0, 0, 2]'),\n",
              " Text(0.8883160940566069, 0.8833333333333333, 'x[6] <= -0.222\\ngini = 0.226\\nsamples = 483\\nvalue = [5, 421, 57]'),\n",
              " Text(0.861642332124921, 0.85, 'x[2] <= 2.962\\ngini = 0.15\\nsamples = 237\\nvalue = [5, 218, 14]'),\n",
              " Text(0.8509994345960687, 0.8166666666666667, 'x[8] <= 0.813\\ngini = 0.136\\nsamples = 235\\nvalue = [4, 218, 13]'),\n",
              " Text(0.842485116572987, 0.7833333333333333, 'x[5] <= -1.181\\ngini = 0.117\\nsamples = 228\\nvalue = [4, 214, 10]'),\n",
              " Text(0.8382279575614461, 0.75, 'gini = 0.0\\nsamples = 1\\nvalue = [1, 0, 0]'),\n",
              " Text(0.8467422755845279, 0.75, 'x[7] <= 0.576\\ngini = 0.109\\nsamples = 227\\nvalue = [3, 214, 10]'),\n",
              " Text(0.8307779292912495, 0.7166666666666667, 'x[8] <= -1.499\\ngini = 0.102\\nsamples = 225\\nvalue = [3, 213, 9]'),\n",
              " Text(0.8116207137393155, 0.6833333333333333, 'x[9] <= 2.003\\ngini = 0.186\\nsamples = 78\\nvalue = [1, 70, 7]'),\n",
              " Text(0.8073635547277747, 0.65, 'x[6] <= -0.502\\ngini = 0.167\\nsamples = 77\\nvalue = [1, 70, 6]'),\n",
              " Text(0.7924634981873815, 0.6166666666666667, 'x[2] <= 1.685\\ngini = 0.043\\nsamples = 46\\nvalue = [1, 45, 0]'),\n",
              " Text(0.7882063391758406, 0.5833333333333334, 'gini = 0.0\\nsamples = 44\\nvalue = [0, 44, 0]'),\n",
              " Text(0.7967206571989224, 0.5833333333333334, 'x[8] <= -1.668\\ngini = 0.5\\nsamples = 2\\nvalue = [1, 1, 0]'),\n",
              " Text(0.7924634981873815, 0.55, 'gini = 0.0\\nsamples = 1\\nvalue = [1, 0, 0]'),\n",
              " Text(0.8009778162104633, 0.55, 'gini = 0.0\\nsamples = 1\\nvalue = [0, 1, 0]'),\n",
              " Text(0.8222636112681677, 0.6166666666666667, 'x[4] <= -0.683\\ngini = 0.312\\nsamples = 31\\nvalue = [0, 25, 6]'),\n",
              " Text(0.8137492932450859, 0.5833333333333334, 'x[9] <= 1.082\\ngini = 0.095\\nsamples = 20\\nvalue = [0, 19, 1]'),\n",
              " Text(0.809492134233545, 0.55, 'gini = 0.0\\nsamples = 19\\nvalue = [0, 19, 0]'),\n",
              " Text(0.8180064522566268, 0.55, 'gini = 0.0\\nsamples = 1\\nvalue = [0, 0, 1]'),\n",
              " Text(0.8307779292912495, 0.5833333333333334, 'x[8] <= -1.617\\ngini = 0.496\\nsamples = 11\\nvalue = [0, 6, 5]'),\n",
              " Text(0.8265207702797086, 0.55, 'x[9] <= -1.254\\ngini = 0.375\\nsamples = 8\\nvalue = [0, 6, 2]'),\n",
              " Text(0.8222636112681677, 0.5166666666666667, 'x[5] <= -0.984\\ngini = 0.444\\nsamples = 3\\nvalue = [0, 1, 2]'),\n",
              " Text(0.8180064522566268, 0.48333333333333334, 'gini = 0.0\\nsamples = 1\\nvalue = [0, 1, 0]'),\n",
              " Text(0.8265207702797086, 0.48333333333333334, 'gini = 0.0\\nsamples = 2\\nvalue = [0, 0, 2]'),\n",
              " Text(0.8307779292912495, 0.5166666666666667, 'gini = 0.0\\nsamples = 5\\nvalue = [0, 5, 0]'),\n",
              " Text(0.8350350883027904, 0.55, 'gini = 0.0\\nsamples = 3\\nvalue = [0, 0, 3]'),\n",
              " Text(0.8158778727508564, 0.65, 'gini = 0.0\\nsamples = 1\\nvalue = [0, 0, 1]'),\n",
              " Text(0.8499351448431836, 0.6833333333333333, 'x[4] <= -0.888\\ngini = 0.053\\nsamples = 147\\nvalue = [2, 143, 2]'),\n",
              " Text(0.8456779858316427, 0.65, 'gini = 0.0\\nsamples = 1\\nvalue = [1, 0, 0]'),\n",
              " Text(0.8541923038547244, 0.65, 'x[5] <= -0.942\\ngini = 0.04\\nsamples = 146\\nvalue = [1, 143, 2]'),\n",
              " Text(0.8435494063258722, 0.6166666666666667, 'x[7] <= -1.111\\ngini = 0.5\\nsamples = 2\\nvalue = [1, 1, 0]'),\n",
              " Text(0.8392922473143313, 0.5833333333333334, 'gini = 0.0\\nsamples = 1\\nvalue = [1, 0, 0]'),\n",
              " Text(0.8478065653374132, 0.5833333333333334, 'gini = 0.0\\nsamples = 1\\nvalue = [0, 1, 0]'),\n",
              " Text(0.8648352013835767, 0.6166666666666667, 'x[11] <= 2.846\\ngini = 0.027\\nsamples = 144\\nvalue = [0, 142, 2]'),\n",
              " Text(0.8563208833604949, 0.5833333333333334, 'x[11] <= 2.169\\ngini = 0.014\\nsamples = 141\\nvalue = [0, 140, 1]'),\n",
              " Text(0.852063724348954, 0.55, 'gini = 0.0\\nsamples = 125\\nvalue = [0, 125, 0]'),\n",
              " Text(0.8605780423720358, 0.55, 'x[11] <= 2.254\\ngini = 0.117\\nsamples = 16\\nvalue = [0, 15, 1]'),\n",
              " Text(0.8563208833604949, 0.5166666666666667, 'x[6] <= -0.922\\ngini = 0.5\\nsamples = 2\\nvalue = [0, 1, 1]'),\n",
              " Text(0.852063724348954, 0.48333333333333334, 'gini = 0.0\\nsamples = 1\\nvalue = [0, 0, 1]'),\n",
              " Text(0.8605780423720358, 0.48333333333333334, 'gini = 0.0\\nsamples = 1\\nvalue = [0, 1, 0]'),\n",
              " Text(0.8648352013835767, 0.5166666666666667, 'gini = 0.0\\nsamples = 14\\nvalue = [0, 14, 0]'),\n",
              " Text(0.8733495194066585, 0.5833333333333334, 'x[6] <= -0.726\\ngini = 0.444\\nsamples = 3\\nvalue = [0, 2, 1]'),\n",
              " Text(0.8690923603951176, 0.55, 'gini = 0.0\\nsamples = 2\\nvalue = [0, 2, 0]'),\n",
              " Text(0.8776066784181994, 0.55, 'gini = 0.0\\nsamples = 1\\nvalue = [0, 0, 1]'),\n",
              " Text(0.8627066218778062, 0.7166666666666667, 'x[1] <= -0.326\\ngini = 0.5\\nsamples = 2\\nvalue = [0, 1, 1]'),\n",
              " Text(0.8584494628662653, 0.6833333333333333, 'gini = 0.0\\nsamples = 1\\nvalue = [0, 1, 0]'),\n",
              " Text(0.8669637808893471, 0.6833333333333333, 'gini = 0.0\\nsamples = 1\\nvalue = [0, 0, 1]'),\n",
              " Text(0.8595137526191505, 0.7833333333333333, 'x[7] <= -1.374\\ngini = 0.49\\nsamples = 7\\nvalue = [0, 4, 3]'),\n",
              " Text(0.8552565936076096, 0.75, 'gini = 0.0\\nsamples = 3\\nvalue = [0, 0, 3]'),\n",
              " Text(0.8637709116306914, 0.75, 'gini = 0.0\\nsamples = 4\\nvalue = [0, 4, 0]'),\n",
              " Text(0.8722852296537732, 0.8166666666666667, 'x[1] <= -1.055\\ngini = 0.5\\nsamples = 2\\nvalue = [1, 0, 1]'),\n",
              " Text(0.8680280706422323, 0.7833333333333333, 'gini = 0.0\\nsamples = 1\\nvalue = [0, 0, 1]'),\n",
              " Text(0.8765423886653141, 0.7833333333333333, 'gini = 0.0\\nsamples = 1\\nvalue = [1, 0, 0]'),\n",
              " Text(0.9149898559882929, 0.85, 'x[1] <= -1.286\\ngini = 0.288\\nsamples = 246\\nvalue = [0, 203, 43]'),\n",
              " Text(0.8935710247114776, 0.8166666666666667, 'x[2] <= 0.543\\ngini = 0.498\\nsamples = 17\\nvalue = [0, 9, 8]'),\n",
              " Text(0.8850567066883959, 0.7833333333333333, 'x[5] <= -0.97\\ngini = 0.397\\nsamples = 11\\nvalue = [0, 8, 3]'),\n",
              " Text(0.880799547676855, 0.75, 'gini = 0.0\\nsamples = 2\\nvalue = [0, 0, 2]'),\n",
              " Text(0.8893138656999368, 0.75, 'x[1] <= -2.13\\ngini = 0.198\\nsamples = 9\\nvalue = [0, 8, 1]'),\n",
              " Text(0.8850567066883959, 0.7166666666666667, 'gini = 0.0\\nsamples = 1\\nvalue = [0, 0, 1]'),\n",
              " Text(0.8935710247114776, 0.7166666666666667, 'gini = 0.0\\nsamples = 8\\nvalue = [0, 8, 0]'),\n",
              " Text(0.9020853427345595, 0.7833333333333333, 'x[8] <= -2.107\\ngini = 0.278\\nsamples = 6\\nvalue = [0, 1, 5]'),\n",
              " Text(0.8978281837230186, 0.75, 'gini = 0.0\\nsamples = 1\\nvalue = [0, 1, 0]'),\n",
              " Text(0.9063425017461004, 0.75, 'gini = 0.0\\nsamples = 5\\nvalue = [0, 0, 5]'),\n",
              " Text(0.936408687265108, 0.8166666666666667, 'x[8] <= -1.479\\ngini = 0.259\\nsamples = 229\\nvalue = [0, 194, 35]'),\n",
              " Text(0.9191139787807231, 0.7833333333333333, 'x[2] <= -1.05\\ngini = 0.102\\nsamples = 111\\nvalue = [0, 105, 6]'),\n",
              " Text(0.9148568197691822, 0.75, 'gini = 0.0\\nsamples = 1\\nvalue = [0, 0, 1]'),\n",
              " Text(0.923371137792264, 0.75, 'x[2] <= 1.564\\ngini = 0.087\\nsamples = 110\\nvalue = [0, 105, 5]'),\n",
              " Text(0.9191139787807231, 0.7166666666666667, 'x[3] <= 0.502\\ngini = 0.071\\nsamples = 109\\nvalue = [0, 105, 4]'),\n",
              " Text(0.9084710812518708, 0.6833333333333333, 'x[2] <= -0.99\\ngini = 0.04\\nsamples = 99\\nvalue = [0, 97, 2]'),\n",
              " Text(0.899956763228789, 0.65, 'x[4] <= -0.819\\ngini = 0.278\\nsamples = 6\\nvalue = [0, 5, 1]'),\n",
              " Text(0.8956996042172481, 0.6166666666666667, 'gini = 0.0\\nsamples = 1\\nvalue = [0, 0, 1]'),\n",
              " Text(0.9042139222403299, 0.6166666666666667, 'gini = 0.0\\nsamples = 5\\nvalue = [0, 5, 0]'),\n",
              " Text(0.9169853992749526, 0.65, 'x[4] <= -0.242\\ngini = 0.021\\nsamples = 93\\nvalue = [0, 92, 1]'),\n",
              " Text(0.9127282402634117, 0.6166666666666667, 'gini = 0.0\\nsamples = 85\\nvalue = [0, 85, 0]'),\n",
              " Text(0.9212425582864935, 0.6166666666666667, 'x[4] <= -0.21\\ngini = 0.219\\nsamples = 8\\nvalue = [0, 7, 1]'),\n",
              " Text(0.9169853992749526, 0.5833333333333334, 'gini = 0.0\\nsamples = 1\\nvalue = [0, 0, 1]'),\n",
              " Text(0.9254997172980344, 0.5833333333333334, 'gini = 0.0\\nsamples = 7\\nvalue = [0, 7, 0]'),\n",
              " Text(0.9297568763095753, 0.6833333333333333, 'x[5] <= -1.153\\ngini = 0.32\\nsamples = 10\\nvalue = [0, 8, 2]'),\n",
              " Text(0.9254997172980344, 0.65, 'gini = 0.0\\nsamples = 1\\nvalue = [0, 0, 1]'),\n",
              " Text(0.9340140353211162, 0.65, 'x[3] <= 0.641\\ngini = 0.198\\nsamples = 9\\nvalue = [0, 8, 1]'),\n",
              " Text(0.9297568763095753, 0.6166666666666667, 'gini = 0.0\\nsamples = 1\\nvalue = [0, 0, 1]'),\n",
              " Text(0.938271194332657, 0.6166666666666667, 'gini = 0.0\\nsamples = 8\\nvalue = [0, 8, 0]'),\n",
              " Text(0.9276282968038049, 0.7166666666666667, 'gini = 0.0\\nsamples = 1\\nvalue = [0, 0, 1]'),\n",
              " Text(0.9537033957494928, 0.7833333333333333, 'x[4] <= -0.83\\ngini = 0.371\\nsamples = 118\\nvalue = [0, 89, 29]'),\n",
              " Text(0.9430604982206405, 0.75, 'x[10] <= -0.647\\ngini = 0.375\\nsamples = 4\\nvalue = [0, 1, 3]'),\n",
              " Text(0.9388033392090996, 0.7166666666666667, 'gini = 0.0\\nsamples = 1\\nvalue = [0, 1, 0]'),\n",
              " Text(0.9473176572321814, 0.7166666666666667, 'gini = 0.0\\nsamples = 3\\nvalue = [0, 0, 3]'),\n",
              " Text(0.964346293278345, 0.75, 'x[10] <= -1.38\\ngini = 0.352\\nsamples = 114\\nvalue = [0, 88, 26]'),\n",
              " Text(0.9558319752552632, 0.7166666666666667, 'x[3] <= 0.085\\ngini = 0.49\\nsamples = 7\\nvalue = [0, 3, 4]'),\n",
              " Text(0.9515748162437223, 0.6833333333333333, 'gini = 0.0\\nsamples = 3\\nvalue = [0, 3, 0]'),\n",
              " Text(0.9600891342668041, 0.6833333333333333, 'gini = 0.0\\nsamples = 4\\nvalue = [0, 0, 4]'),\n",
              " Text(0.9728606113014268, 0.7166666666666667, 'x[4] <= -0.735\\ngini = 0.327\\nsamples = 107\\nvalue = [0, 85, 22]'),\n",
              " Text(0.9686034522898859, 0.6833333333333333, 'gini = 0.0\\nsamples = 14\\nvalue = [0, 14, 0]'),\n",
              " Text(0.9771177703129678, 0.6833333333333333, 'x[3] <= 1.163\\ngini = 0.361\\nsamples = 93\\nvalue = [0, 71, 22]'),\n",
              " Text(0.9627498586490172, 0.65, 'x[2] <= -0.089\\ngini = 0.328\\nsamples = 87\\nvalue = [0, 69, 18]'),\n",
              " Text(0.9467855123557388, 0.6166666666666667, 'x[8] <= -1.338\\ngini = 0.444\\nsamples = 42\\nvalue = [0, 28, 14]'),\n",
              " Text(0.9425283533441979, 0.5833333333333334, 'gini = 0.0\\nsamples = 4\\nvalue = [0, 0, 4]'),\n",
              " Text(0.9510426713672797, 0.5833333333333334, 'x[9] <= 0.805\\ngini = 0.388\\nsamples = 38\\nvalue = [0, 28, 10]'),\n",
              " Text(0.9403997738384275, 0.55, 'x[9] <= -0.793\\ngini = 0.327\\nsamples = 34\\nvalue = [0, 27, 7]'),\n",
              " Text(0.9318854558153458, 0.5166666666666667, 'x[2] <= -0.329\\ngini = 0.5\\nsamples = 12\\nvalue = [0, 6, 6]'),\n",
              " Text(0.9276282968038049, 0.48333333333333334, 'x[4] <= 0.619\\ngini = 0.375\\nsamples = 8\\nvalue = [0, 2, 6]'),\n",
              " Text(0.923371137792264, 0.45, 'gini = 0.0\\nsamples = 5\\nvalue = [0, 0, 5]'),\n",
              " Text(0.9318854558153458, 0.45, 'x[10] <= -1.014\\ngini = 0.444\\nsamples = 3\\nvalue = [0, 2, 1]'),\n",
              " Text(0.9276282968038049, 0.4166666666666667, 'gini = 0.0\\nsamples = 1\\nvalue = [0, 0, 1]'),\n",
              " Text(0.9361426148268867, 0.4166666666666667, 'gini = 0.0\\nsamples = 2\\nvalue = [0, 2, 0]'),\n",
              " Text(0.9361426148268867, 0.48333333333333334, 'gini = 0.0\\nsamples = 4\\nvalue = [0, 4, 0]'),\n",
              " Text(0.9489140918615093, 0.5166666666666667, 'x[5] <= -0.127\\ngini = 0.087\\nsamples = 22\\nvalue = [0, 21, 1]'),\n",
              " Text(0.9446569328499684, 0.48333333333333334, 'gini = 0.0\\nsamples = 20\\nvalue = [0, 20, 0]'),\n",
              " Text(0.9531712508730502, 0.48333333333333334, 'x[3] <= -0.576\\ngini = 0.5\\nsamples = 2\\nvalue = [0, 1, 1]'),\n",
              " Text(0.9489140918615093, 0.45, 'gini = 0.0\\nsamples = 1\\nvalue = [0, 1, 0]'),\n",
              " Text(0.9574284098845911, 0.45, 'gini = 0.0\\nsamples = 1\\nvalue = [0, 0, 1]'),\n",
              " Text(0.961685568896132, 0.55, 'x[10] <= 0.818\\ngini = 0.375\\nsamples = 4\\nvalue = [0, 1, 3]'),\n",
              " Text(0.9574284098845911, 0.5166666666666667, 'gini = 0.0\\nsamples = 3\\nvalue = [0, 0, 3]'),\n",
              " Text(0.9659427279076729, 0.5166666666666667, 'gini = 0.0\\nsamples = 1\\nvalue = [0, 1, 0]'),\n",
              " Text(0.9787142049422956, 0.6166666666666667, 'x[7] <= -1.216\\ngini = 0.162\\nsamples = 45\\nvalue = [0, 41, 4]'),\n",
              " Text(0.9744570459307547, 0.5833333333333334, 'gini = 0.0\\nsamples = 1\\nvalue = [0, 0, 1]'),\n",
              " Text(0.9829713639538364, 0.5833333333333334, 'x[4] <= -0.169\\ngini = 0.127\\nsamples = 44\\nvalue = [0, 41, 3]'),\n",
              " Text(0.9787142049422956, 0.55, 'x[4] <= -0.252\\ngini = 0.291\\nsamples = 17\\nvalue = [0, 14, 3]'),\n",
              " Text(0.9744570459307547, 0.5166666666666667, 'x[10] <= 0.718\\ngini = 0.124\\nsamples = 15\\nvalue = [0, 14, 1]'),\n",
              " Text(0.9701998869192138, 0.48333333333333334, 'gini = 0.0\\nsamples = 13\\nvalue = [0, 13, 0]'),\n",
              " Text(0.9787142049422956, 0.48333333333333334, 'x[4] <= -0.536\\ngini = 0.5\\nsamples = 2\\nvalue = [0, 1, 1]'),\n",
              " Text(0.9744570459307547, 0.45, 'gini = 0.0\\nsamples = 1\\nvalue = [0, 1, 0]'),\n",
              " Text(0.9829713639538364, 0.45, 'gini = 0.0\\nsamples = 1\\nvalue = [0, 0, 1]'),\n",
              " Text(0.9829713639538364, 0.5166666666666667, 'gini = 0.0\\nsamples = 2\\nvalue = [0, 0, 2]'),\n",
              " Text(0.9872285229653773, 0.55, 'gini = 0.0\\nsamples = 27\\nvalue = [0, 27, 0]'),\n",
              " Text(0.9914856819769182, 0.65, 'x[5] <= -0.408\\ngini = 0.444\\nsamples = 6\\nvalue = [0, 2, 4]'),\n",
              " Text(0.9872285229653773, 0.6166666666666667, 'gini = 0.0\\nsamples = 4\\nvalue = [0, 0, 4]'),\n",
              " Text(0.9957428409884591, 0.6166666666666667, 'gini = 0.0\\nsamples = 2\\nvalue = [0, 2, 0]'),\n",
              " Text(0.9491801642997306, 0.9166666666666666, 'x[5] <= -0.717\\ngini = 0.5\\nsamples = 14\\nvalue = [0, 7, 7]'),\n",
              " Text(0.9449230052881897, 0.8833333333333333, 'gini = 0.0\\nsamples = 4\\nvalue = [0, 0, 4]'),\n",
              " Text(0.9534373233112715, 0.8833333333333333, 'x[5] <= -0.549\\ngini = 0.42\\nsamples = 10\\nvalue = [0, 7, 3]'),\n",
              " Text(0.9491801642997306, 0.85, 'x[5] <= -0.633\\ngini = 0.5\\nsamples = 6\\nvalue = [0, 3, 3]'),\n",
              " Text(0.9449230052881897, 0.8166666666666667, 'gini = 0.0\\nsamples = 3\\nvalue = [0, 3, 0]'),\n",
              " Text(0.9534373233112715, 0.8166666666666667, 'gini = 0.0\\nsamples = 3\\nvalue = [0, 0, 3]'),\n",
              " Text(0.9576944823228124, 0.85, 'gini = 0.0\\nsamples = 4\\nvalue = [0, 4, 0]')]"
            ]
          },
          "metadata": {},
          "execution_count": 96
        },
        {
          "output_type": "display_data",
          "data": {
            "text/plain": [
              "<Figure size 1440x1080 with 1 Axes>"
            ],
            "image/png": "[encoded data removed]"
          },
          "metadata": {}
        }
      ]
    },
    {
      "cell_type": "code",
      "source": [
        "print(tree.export_text(model3))"
      ],
      "metadata": {
        "colab": {
          "base_uri": "https://localhost:8080/"
        },
        "id": "j4o-M6Av6WQM",
        "outputId": "f4ec922e-15c7-4d3c-f1bb-a7a4d7a32be1"
      },
      "id": "j4o-M6Av6WQM",
      "execution_count": null,
      "outputs": [
        {
          "output_type": "stream",
          "name": "stdout",
          "text": [
            "|--- feature_11 <= 1.51\n",
            "|   |--- feature_2 <= 3.14\n",
            "|   |   |--- feature_6 <= 5.85\n",
            "|   |   |   |--- feature_6 <= -0.89\n",
            "|   |   |   |   |--- feature_0 <= -0.59\n",
            "|   |   |   |   |   |--- feature_4 <= 1.37\n",
            "|   |   |   |   |   |   |--- feature_10 <= -1.01\n",
            "|   |   |   |   |   |   |   |--- class: 0\n",
            "|   |   |   |   |   |   |--- feature_10 >  -1.01\n",
            "|   |   |   |   |   |   |   |--- feature_2 <= 2.48\n",
            "|   |   |   |   |   |   |   |   |--- feature_11 <= -1.20\n",
            "|   |   |   |   |   |   |   |   |   |--- feature_10 <= -0.11\n",
            "|   |   |   |   |   |   |   |   |   |   |--- class: 0\n",
            "|   |   |   |   |   |   |   |   |   |--- feature_10 >  -0.11\n",
            "|   |   |   |   |   |   |   |   |   |   |--- feature_7 <= -1.24\n",
            "|   |   |   |   |   |   |   |   |   |   |   |--- truncated branch of depth 3\n",
            "|   |   |   |   |   |   |   |   |   |   |--- feature_7 >  -1.24\n",
            "|   |   |   |   |   |   |   |   |   |   |   |--- class: 0\n",
            "|   |   |   |   |   |   |   |   |--- feature_11 >  -1.20\n",
            "|   |   |   |   |   |   |   |   |   |--- feature_9 <= -2.05\n",
            "|   |   |   |   |   |   |   |   |   |   |--- feature_5 <= 0.62\n",
            "|   |   |   |   |   |   |   |   |   |   |   |--- class: 2\n",
            "|   |   |   |   |   |   |   |   |   |   |--- feature_5 >  0.62\n",
            "|   |   |   |   |   |   |   |   |   |   |   |--- class: 1\n",
            "|   |   |   |   |   |   |   |   |   |--- feature_9 >  -2.05\n",
            "|   |   |   |   |   |   |   |   |   |   |--- feature_10 <= 3.58\n",
            "|   |   |   |   |   |   |   |   |   |   |   |--- truncated branch of depth 13\n",
            "|   |   |   |   |   |   |   |   |   |   |--- feature_10 >  3.58\n",
            "|   |   |   |   |   |   |   |   |   |   |   |--- truncated branch of depth 3\n",
            "|   |   |   |   |   |   |   |--- feature_2 >  2.48\n",
            "|   |   |   |   |   |   |   |   |--- feature_7 <= -1.78\n",
            "|   |   |   |   |   |   |   |   |   |--- feature_2 <= 2.72\n",
            "|   |   |   |   |   |   |   |   |   |   |--- class: 0\n",
            "|   |   |   |   |   |   |   |   |   |--- feature_2 >  2.72\n",
            "|   |   |   |   |   |   |   |   |   |   |--- feature_11 <= 0.01\n",
            "|   |   |   |   |   |   |   |   |   |   |   |--- class: 1\n",
            "|   |   |   |   |   |   |   |   |   |   |--- feature_11 >  0.01\n",
            "|   |   |   |   |   |   |   |   |   |   |   |--- class: 0\n",
            "|   |   |   |   |   |   |   |   |--- feature_7 >  -1.78\n",
            "|   |   |   |   |   |   |   |   |   |--- feature_10 <= -0.15\n",
            "|   |   |   |   |   |   |   |   |   |   |--- feature_9 <= 0.96\n",
            "|   |   |   |   |   |   |   |   |   |   |   |--- class: 0\n",
            "|   |   |   |   |   |   |   |   |   |   |--- feature_9 >  0.96\n",
            "|   |   |   |   |   |   |   |   |   |   |   |--- class: 1\n",
            "|   |   |   |   |   |   |   |   |   |--- feature_10 >  -0.15\n",
            "|   |   |   |   |   |   |   |   |   |   |--- class: 1\n",
            "|   |   |   |   |   |--- feature_4 >  1.37\n",
            "|   |   |   |   |   |   |--- class: 0\n",
            "|   |   |   |   |--- feature_0 >  -0.59\n",
            "|   |   |   |   |   |--- feature_2 <= 1.05\n",
            "|   |   |   |   |   |   |--- feature_6 <= -1.17\n",
            "|   |   |   |   |   |   |   |--- feature_5 <= -0.01\n",
            "|   |   |   |   |   |   |   |   |--- feature_4 <= -0.16\n",
            "|   |   |   |   |   |   |   |   |   |--- feature_9 <= -0.95\n",
            "|   |   |   |   |   |   |   |   |   |   |--- feature_9 <= -1.38\n",
            "|   |   |   |   |   |   |   |   |   |   |   |--- truncated branch of depth 3\n",
            "|   |   |   |   |   |   |   |   |   |   |--- feature_9 >  -1.38\n",
            "|   |   |   |   |   |   |   |   |   |   |   |--- truncated branch of depth 2\n",
            "|   |   |   |   |   |   |   |   |   |--- feature_9 >  -0.95\n",
            "|   |   |   |   |   |   |   |   |   |   |--- feature_2 <= 0.39\n",
            "|   |   |   |   |   |   |   |   |   |   |   |--- truncated branch of depth 8\n",
            "|   |   |   |   |   |   |   |   |   |   |--- feature_2 >  0.39\n",
            "|   |   |   |   |   |   |   |   |   |   |   |--- class: 0\n",
            "|   |   |   |   |   |   |   |   |--- feature_4 >  -0.16\n",
            "|   |   |   |   |   |   |   |   |   |--- feature_7 <= 0.40\n",
            "|   |   |   |   |   |   |   |   |   |   |--- feature_8 <= -0.69\n",
            "|   |   |   |   |   |   |   |   |   |   |   |--- truncated branch of depth 2\n",
            "|   |   |   |   |   |   |   |   |   |   |--- feature_8 >  -0.69\n",
            "|   |   |   |   |   |   |   |   |   |   |   |--- class: 1\n",
            "|   |   |   |   |   |   |   |   |   |--- feature_7 >  0.40\n",
            "|   |   |   |   |   |   |   |   |   |   |--- class: 0\n",
            "|   |   |   |   |   |   |   |--- feature_5 >  -0.01\n",
            "|   |   |   |   |   |   |   |   |--- feature_1 <= -0.33\n",
            "|   |   |   |   |   |   |   |   |   |--- feature_8 <= -0.71\n",
            "|   |   |   |   |   |   |   |   |   |   |--- class: 1\n",
            "|   |   |   |   |   |   |   |   |   |--- feature_8 >  -0.71\n",
            "|   |   |   |   |   |   |   |   |   |   |--- class: 0\n",
            "|   |   |   |   |   |   |   |   |--- feature_1 >  -0.33\n",
            "|   |   |   |   |   |   |   |   |   |--- class: 1\n",
            "|   |   |   |   |   |   |--- feature_6 >  -1.17\n",
            "|   |   |   |   |   |   |   |--- feature_11 <= -1.22\n",
            "|   |   |   |   |   |   |   |   |--- feature_3 <= -0.37\n",
            "|   |   |   |   |   |   |   |   |   |--- class: 1\n",
            "|   |   |   |   |   |   |   |   |--- feature_3 >  -0.37\n",
            "|   |   |   |   |   |   |   |   |   |--- class: 0\n",
            "|   |   |   |   |   |   |   |--- feature_11 >  -1.22\n",
            "|   |   |   |   |   |   |   |   |--- feature_9 <= 1.45\n",
            "|   |   |   |   |   |   |   |   |   |--- feature_10 <= 1.92\n",
            "|   |   |   |   |   |   |   |   |   |   |--- feature_8 <= -0.34\n",
            "|   |   |   |   |   |   |   |   |   |   |   |--- truncated branch of depth 6\n",
            "|   |   |   |   |   |   |   |   |   |   |--- feature_8 >  -0.34\n",
            "|   |   |   |   |   |   |   |   |   |   |   |--- truncated branch of depth 6\n",
            "|   |   |   |   |   |   |   |   |   |--- feature_10 >  1.92\n",
            "|   |   |   |   |   |   |   |   |   |   |--- feature_1 <= -0.17\n",
            "|   |   |   |   |   |   |   |   |   |   |   |--- truncated branch of depth 2\n",
            "|   |   |   |   |   |   |   |   |   |   |--- feature_1 >  -0.17\n",
            "|   |   |   |   |   |   |   |   |   |   |   |--- class: 1\n",
            "|   |   |   |   |   |   |   |   |--- feature_9 >  1.45\n",
            "|   |   |   |   |   |   |   |   |   |--- feature_7 <= -0.69\n",
            "|   |   |   |   |   |   |   |   |   |   |--- feature_9 <= 1.91\n",
            "|   |   |   |   |   |   |   |   |   |   |   |--- class: 0\n",
            "|   |   |   |   |   |   |   |   |   |   |--- feature_9 >  1.91\n",
            "|   |   |   |   |   |   |   |   |   |   |   |--- class: 1\n",
            "|   |   |   |   |   |   |   |   |   |--- feature_7 >  -0.69\n",
            "|   |   |   |   |   |   |   |   |   |   |--- feature_8 <= -0.11\n",
            "|   |   |   |   |   |   |   |   |   |   |   |--- class: 1\n",
            "|   |   |   |   |   |   |   |   |   |   |--- feature_8 >  -0.11\n",
            "|   |   |   |   |   |   |   |   |   |   |   |--- truncated branch of depth 2\n",
            "|   |   |   |   |   |--- feature_2 >  1.05\n",
            "|   |   |   |   |   |   |--- feature_7 <= -0.60\n",
            "|   |   |   |   |   |   |   |--- feature_9 <= 1.02\n",
            "|   |   |   |   |   |   |   |   |--- class: 0\n",
            "|   |   |   |   |   |   |   |--- feature_9 >  1.02\n",
            "|   |   |   |   |   |   |   |   |--- feature_6 <= -1.23\n",
            "|   |   |   |   |   |   |   |   |   |--- class: 1\n",
            "|   |   |   |   |   |   |   |   |--- feature_6 >  -1.23\n",
            "|   |   |   |   |   |   |   |   |   |--- class: 0\n",
            "|   |   |   |   |   |   |--- feature_7 >  -0.60\n",
            "|   |   |   |   |   |   |   |--- feature_5 <= -0.30\n",
            "|   |   |   |   |   |   |   |   |--- class: 1\n",
            "|   |   |   |   |   |   |   |--- feature_5 >  -0.30\n",
            "|   |   |   |   |   |   |   |   |--- class: 0\n",
            "|   |   |   |--- feature_6 >  -0.89\n",
            "|   |   |   |   |--- feature_11 <= 0.84\n",
            "|   |   |   |   |   |--- feature_3 <= 3.84\n",
            "|   |   |   |   |   |   |--- feature_1 <= -2.21\n",
            "|   |   |   |   |   |   |   |--- class: 0\n",
            "|   |   |   |   |   |   |--- feature_1 >  -2.21\n",
            "|   |   |   |   |   |   |   |--- feature_7 <= 4.21\n",
            "|   |   |   |   |   |   |   |   |--- feature_4 <= -0.96\n",
            "|   |   |   |   |   |   |   |   |   |--- feature_2 <= -0.72\n",
            "|   |   |   |   |   |   |   |   |   |   |--- class: 1\n",
            "|   |   |   |   |   |   |   |   |   |--- feature_2 >  -0.72\n",
            "|   |   |   |   |   |   |   |   |   |   |--- feature_1 <= -0.98\n",
            "|   |   |   |   |   |   |   |   |   |   |   |--- class: 1\n",
            "|   |   |   |   |   |   |   |   |   |   |--- feature_1 >  -0.98\n",
            "|   |   |   |   |   |   |   |   |   |   |   |--- class: 0\n",
            "|   |   |   |   |   |   |   |   |--- feature_4 >  -0.96\n",
            "|   |   |   |   |   |   |   |   |   |--- feature_6 <= 4.07\n",
            "|   |   |   |   |   |   |   |   |   |   |--- feature_5 <= -0.10\n",
            "|   |   |   |   |   |   |   |   |   |   |   |--- truncated branch of depth 19\n",
            "|   |   |   |   |   |   |   |   |   |   |--- feature_5 >  -0.10\n",
            "|   |   |   |   |   |   |   |   |   |   |   |--- truncated branch of depth 15\n",
            "|   |   |   |   |   |   |   |   |   |--- feature_6 >  4.07\n",
            "|   |   |   |   |   |   |   |   |   |   |--- feature_4 <= -0.23\n",
            "|   |   |   |   |   |   |   |   |   |   |   |--- truncated branch of depth 2\n",
            "|   |   |   |   |   |   |   |   |   |   |--- feature_4 >  -0.23\n",
            "|   |   |   |   |   |   |   |   |   |   |   |--- class: 1\n",
            "|   |   |   |   |   |   |   |--- feature_7 >  4.21\n",
            "|   |   |   |   |   |   |   |   |--- class: 0\n",
            "|   |   |   |   |   |--- feature_3 >  3.84\n",
            "|   |   |   |   |   |   |--- feature_8 <= 1.64\n",
            "|   |   |   |   |   |   |   |--- class: 0\n",
            "|   |   |   |   |   |   |--- feature_8 >  1.64\n",
            "|   |   |   |   |   |   |   |--- class: 1\n",
            "|   |   |   |   |--- feature_11 >  0.84\n",
            "|   |   |   |   |   |--- feature_6 <= 2.05\n",
            "|   |   |   |   |   |   |--- feature_4 <= 0.97\n",
            "|   |   |   |   |   |   |   |--- feature_4 <= -0.91\n",
            "|   |   |   |   |   |   |   |   |--- feature_2 <= 0.00\n",
            "|   |   |   |   |   |   |   |   |   |--- feature_8 <= -1.22\n",
            "|   |   |   |   |   |   |   |   |   |   |--- class: 1\n",
            "|   |   |   |   |   |   |   |   |   |--- feature_8 >  -1.22\n",
            "|   |   |   |   |   |   |   |   |   |   |--- class: 2\n",
            "|   |   |   |   |   |   |   |   |--- feature_2 >  0.00\n",
            "|   |   |   |   |   |   |   |   |   |--- class: 2\n",
            "|   |   |   |   |   |   |   |--- feature_4 >  -0.91\n",
            "|   |   |   |   |   |   |   |   |--- feature_5 <= -1.17\n",
            "|   |   |   |   |   |   |   |   |   |--- feature_8 <= -1.30\n",
            "|   |   |   |   |   |   |   |   |   |   |--- class: 1\n",
            "|   |   |   |   |   |   |   |   |   |--- feature_8 >  -1.30\n",
            "|   |   |   |   |   |   |   |   |   |   |--- class: 0\n",
            "|   |   |   |   |   |   |   |   |--- feature_5 >  -1.17\n",
            "|   |   |   |   |   |   |   |   |   |--- feature_6 <= -0.17\n",
            "|   |   |   |   |   |   |   |   |   |   |--- feature_2 <= -1.31\n",
            "|   |   |   |   |   |   |   |   |   |   |   |--- truncated branch of depth 2\n",
            "|   |   |   |   |   |   |   |   |   |   |--- feature_2 >  -1.31\n",
            "|   |   |   |   |   |   |   |   |   |   |   |--- truncated branch of depth 3\n",
            "|   |   |   |   |   |   |   |   |   |--- feature_6 >  -0.17\n",
            "|   |   |   |   |   |   |   |   |   |   |--- feature_9 <= 0.16\n",
            "|   |   |   |   |   |   |   |   |   |   |   |--- truncated branch of depth 6\n",
            "|   |   |   |   |   |   |   |   |   |   |--- feature_9 >  0.16\n",
            "|   |   |   |   |   |   |   |   |   |   |   |--- truncated branch of depth 10\n",
            "|   |   |   |   |   |   |--- feature_4 >  0.97\n",
            "|   |   |   |   |   |   |   |--- feature_5 <= -0.32\n",
            "|   |   |   |   |   |   |   |   |--- feature_7 <= -0.82\n",
            "|   |   |   |   |   |   |   |   |   |--- class: 0\n",
            "|   |   |   |   |   |   |   |   |--- feature_7 >  -0.82\n",
            "|   |   |   |   |   |   |   |   |   |--- feature_2 <= -0.96\n",
            "|   |   |   |   |   |   |   |   |   |   |--- class: 2\n",
            "|   |   |   |   |   |   |   |   |   |--- feature_2 >  -0.96\n",
            "|   |   |   |   |   |   |   |   |   |   |--- feature_5 <= -0.84\n",
            "|   |   |   |   |   |   |   |   |   |   |   |--- class: 2\n",
            "|   |   |   |   |   |   |   |   |   |   |--- feature_5 >  -0.84\n",
            "|   |   |   |   |   |   |   |   |   |   |   |--- class: 1\n",
            "|   |   |   |   |   |   |   |--- feature_5 >  -0.32\n",
            "|   |   |   |   |   |   |   |   |--- feature_7 <= 0.76\n",
            "|   |   |   |   |   |   |   |   |   |--- class: 2\n",
            "|   |   |   |   |   |   |   |   |--- feature_7 >  0.76\n",
            "|   |   |   |   |   |   |   |   |   |--- class: 1\n",
            "|   |   |   |   |   |--- feature_6 >  2.05\n",
            "|   |   |   |   |   |   |--- feature_11 <= 1.20\n",
            "|   |   |   |   |   |   |   |--- feature_11 <= 0.90\n",
            "|   |   |   |   |   |   |   |   |--- class: 0\n",
            "|   |   |   |   |   |   |   |--- feature_11 >  0.90\n",
            "|   |   |   |   |   |   |   |   |--- class: 2\n",
            "|   |   |   |   |   |   |--- feature_11 >  1.20\n",
            "|   |   |   |   |   |   |   |--- class: 1\n",
            "|   |   |--- feature_6 >  5.85\n",
            "|   |   |   |--- class: 0\n",
            "|   |--- feature_2 >  3.14\n",
            "|   |   |--- feature_7 <= -1.83\n",
            "|   |   |   |--- feature_11 <= -0.12\n",
            "|   |   |   |   |--- feature_2 <= 3.32\n",
            "|   |   |   |   |   |--- class: 0\n",
            "|   |   |   |   |--- feature_2 >  3.32\n",
            "|   |   |   |   |   |--- class: 1\n",
            "|   |   |   |--- feature_11 >  -0.12\n",
            "|   |   |   |   |--- class: 0\n",
            "|   |   |--- feature_7 >  -1.83\n",
            "|   |   |   |--- feature_6 <= 0.14\n",
            "|   |   |   |   |--- feature_4 <= -0.49\n",
            "|   |   |   |   |   |--- feature_4 <= -0.68\n",
            "|   |   |   |   |   |   |--- feature_5 <= 0.08\n",
            "|   |   |   |   |   |   |   |--- class: 1\n",
            "|   |   |   |   |   |   |--- feature_5 >  0.08\n",
            "|   |   |   |   |   |   |   |--- feature_2 <= 4.24\n",
            "|   |   |   |   |   |   |   |   |--- feature_9 <= 0.16\n",
            "|   |   |   |   |   |   |   |   |   |--- class: 1\n",
            "|   |   |   |   |   |   |   |   |--- feature_9 >  0.16\n",
            "|   |   |   |   |   |   |   |   |   |--- feature_8 <= -0.24\n",
            "|   |   |   |   |   |   |   |   |   |   |--- class: 1\n",
            "|   |   |   |   |   |   |   |   |   |--- feature_8 >  -0.24\n",
            "|   |   |   |   |   |   |   |   |   |   |--- class: 0\n",
            "|   |   |   |   |   |   |   |--- feature_2 >  4.24\n",
            "|   |   |   |   |   |   |   |   |--- class: 1\n",
            "|   |   |   |   |   |--- feature_4 >  -0.68\n",
            "|   |   |   |   |   |   |--- class: 1\n",
            "|   |   |   |   |--- feature_4 >  -0.49\n",
            "|   |   |   |   |   |--- feature_3 <= -1.34\n",
            "|   |   |   |   |   |   |--- class: 0\n",
            "|   |   |   |   |   |--- feature_3 >  -1.34\n",
            "|   |   |   |   |   |   |--- feature_4 <= -0.38\n",
            "|   |   |   |   |   |   |   |--- class: 0\n",
            "|   |   |   |   |   |   |--- feature_4 >  -0.38\n",
            "|   |   |   |   |   |   |   |--- class: 1\n",
            "|   |   |   |--- feature_6 >  0.14\n",
            "|   |   |   |   |--- feature_5 <= 0.31\n",
            "|   |   |   |   |   |--- class: 0\n",
            "|   |   |   |   |--- feature_5 >  0.31\n",
            "|   |   |   |   |   |--- class: 1\n",
            "|--- feature_11 >  1.51\n",
            "|   |--- feature_6 <= 1.26\n",
            "|   |   |--- feature_2 <= -1.23\n",
            "|   |   |   |--- class: 2\n",
            "|   |   |--- feature_2 >  -1.23\n",
            "|   |   |   |--- feature_6 <= -0.22\n",
            "|   |   |   |   |--- feature_2 <= 2.96\n",
            "|   |   |   |   |   |--- feature_8 <= 0.81\n",
            "|   |   |   |   |   |   |--- feature_5 <= -1.18\n",
            "|   |   |   |   |   |   |   |--- class: 0\n",
            "|   |   |   |   |   |   |--- feature_5 >  -1.18\n",
            "|   |   |   |   |   |   |   |--- feature_7 <= 0.58\n",
            "|   |   |   |   |   |   |   |   |--- feature_8 <= -1.50\n",
            "|   |   |   |   |   |   |   |   |   |--- feature_9 <= 2.00\n",
            "|   |   |   |   |   |   |   |   |   |   |--- feature_6 <= -0.50\n",
            "|   |   |   |   |   |   |   |   |   |   |   |--- truncated branch of depth 3\n",
            "|   |   |   |   |   |   |   |   |   |   |--- feature_6 >  -0.50\n",
            "|   |   |   |   |   |   |   |   |   |   |   |--- truncated branch of depth 5\n",
            "|   |   |   |   |   |   |   |   |   |--- feature_9 >  2.00\n",
            "|   |   |   |   |   |   |   |   |   |   |--- class: 2\n",
            "|   |   |   |   |   |   |   |   |--- feature_8 >  -1.50\n",
            "|   |   |   |   |   |   |   |   |   |--- feature_4 <= -0.89\n",
            "|   |   |   |   |   |   |   |   |   |   |--- class: 0\n",
            "|   |   |   |   |   |   |   |   |   |--- feature_4 >  -0.89\n",
            "|   |   |   |   |   |   |   |   |   |   |--- feature_5 <= -0.94\n",
            "|   |   |   |   |   |   |   |   |   |   |   |--- truncated branch of depth 2\n",
            "|   |   |   |   |   |   |   |   |   |   |--- feature_5 >  -0.94\n",
            "|   |   |   |   |   |   |   |   |   |   |   |--- truncated branch of depth 5\n",
            "|   |   |   |   |   |   |   |--- feature_7 >  0.58\n",
            "|   |   |   |   |   |   |   |   |--- feature_1 <= -0.33\n",
            "|   |   |   |   |   |   |   |   |   |--- class: 1\n",
            "|   |   |   |   |   |   |   |   |--- feature_1 >  -0.33\n",
            "|   |   |   |   |   |   |   |   |   |--- class: 2\n",
            "|   |   |   |   |   |--- feature_8 >  0.81\n",
            "|   |   |   |   |   |   |--- feature_7 <= -1.37\n",
            "|   |   |   |   |   |   |   |--- class: 2\n",
            "|   |   |   |   |   |   |--- feature_7 >  -1.37\n",
            "|   |   |   |   |   |   |   |--- class: 1\n",
            "|   |   |   |   |--- feature_2 >  2.96\n",
            "|   |   |   |   |   |--- feature_1 <= -1.06\n",
            "|   |   |   |   |   |   |--- class: 2\n",
            "|   |   |   |   |   |--- feature_1 >  -1.06\n",
            "|   |   |   |   |   |   |--- class: 0\n",
            "|   |   |   |--- feature_6 >  -0.22\n",
            "|   |   |   |   |--- feature_1 <= -1.29\n",
            "|   |   |   |   |   |--- feature_2 <= 0.54\n",
            "|   |   |   |   |   |   |--- feature_5 <= -0.97\n",
            "|   |   |   |   |   |   |   |--- class: 2\n",
            "|   |   |   |   |   |   |--- feature_5 >  -0.97\n",
            "|   |   |   |   |   |   |   |--- feature_1 <= -2.13\n",
            "|   |   |   |   |   |   |   |   |--- class: 2\n",
            "|   |   |   |   |   |   |   |--- feature_1 >  -2.13\n",
            "|   |   |   |   |   |   |   |   |--- class: 1\n",
            "|   |   |   |   |   |--- feature_2 >  0.54\n",
            "|   |   |   |   |   |   |--- feature_8 <= -2.11\n",
            "|   |   |   |   |   |   |   |--- class: 1\n",
            "|   |   |   |   |   |   |--- feature_8 >  -2.11\n",
            "|   |   |   |   |   |   |   |--- class: 2\n",
            "|   |   |   |   |--- feature_1 >  -1.29\n",
            "|   |   |   |   |   |--- feature_8 <= -1.48\n",
            "|   |   |   |   |   |   |--- feature_2 <= -1.05\n",
            "|   |   |   |   |   |   |   |--- class: 2\n",
            "|   |   |   |   |   |   |--- feature_2 >  -1.05\n",
            "|   |   |   |   |   |   |   |--- feature_2 <= 1.56\n",
            "|   |   |   |   |   |   |   |   |--- feature_3 <= 0.50\n",
            "|   |   |   |   |   |   |   |   |   |--- feature_2 <= -0.99\n",
            "|   |   |   |   |   |   |   |   |   |   |--- feature_4 <= -0.82\n",
            "|   |   |   |   |   |   |   |   |   |   |   |--- class: 2\n",
            "|   |   |   |   |   |   |   |   |   |   |--- feature_4 >  -0.82\n",
            "|   |   |   |   |   |   |   |   |   |   |   |--- class: 1\n",
            "|   |   |   |   |   |   |   |   |   |--- feature_2 >  -0.99\n",
            "|   |   |   |   |   |   |   |   |   |   |--- feature_4 <= -0.24\n",
            "|   |   |   |   |   |   |   |   |   |   |   |--- class: 1\n",
            "|   |   |   |   |   |   |   |   |   |   |--- feature_4 >  -0.24\n",
            "|   |   |   |   |   |   |   |   |   |   |   |--- truncated branch of depth 2\n",
            "|   |   |   |   |   |   |   |   |--- feature_3 >  0.50\n",
            "|   |   |   |   |   |   |   |   |   |--- feature_5 <= -1.15\n",
            "|   |   |   |   |   |   |   |   |   |   |--- class: 2\n",
            "|   |   |   |   |   |   |   |   |   |--- feature_5 >  -1.15\n",
            "|   |   |   |   |   |   |   |   |   |   |--- feature_3 <= 0.64\n",
            "|   |   |   |   |   |   |   |   |   |   |   |--- class: 2\n",
            "|   |   |   |   |   |   |   |   |   |   |--- feature_3 >  0.64\n",
            "|   |   |   |   |   |   |   |   |   |   |   |--- class: 1\n",
            "|   |   |   |   |   |   |   |--- feature_2 >  1.56\n",
            "|   |   |   |   |   |   |   |   |--- class: 2\n",
            "|   |   |   |   |   |--- feature_8 >  -1.48\n",
            "|   |   |   |   |   |   |--- feature_4 <= -0.83\n",
            "|   |   |   |   |   |   |   |--- feature_10 <= -0.65\n",
            "|   |   |   |   |   |   |   |   |--- class: 1\n",
            "|   |   |   |   |   |   |   |--- feature_10 >  -0.65\n",
            "|   |   |   |   |   |   |   |   |--- class: 2\n",
            "|   |   |   |   |   |   |--- feature_4 >  -0.83\n",
            "|   |   |   |   |   |   |   |--- feature_10 <= -1.38\n",
            "|   |   |   |   |   |   |   |   |--- feature_3 <= 0.09\n",
            "|   |   |   |   |   |   |   |   |   |--- class: 1\n",
            "|   |   |   |   |   |   |   |   |--- feature_3 >  0.09\n",
            "|   |   |   |   |   |   |   |   |   |--- class: 2\n",
            "|   |   |   |   |   |   |   |--- feature_10 >  -1.38\n",
            "|   |   |   |   |   |   |   |   |--- feature_4 <= -0.74\n",
            "|   |   |   |   |   |   |   |   |   |--- class: 1\n",
            "|   |   |   |   |   |   |   |   |--- feature_4 >  -0.74\n",
            "|   |   |   |   |   |   |   |   |   |--- feature_3 <= 1.16\n",
            "|   |   |   |   |   |   |   |   |   |   |--- feature_2 <= -0.09\n",
            "|   |   |   |   |   |   |   |   |   |   |   |--- truncated branch of depth 7\n",
            "|   |   |   |   |   |   |   |   |   |   |--- feature_2 >  -0.09\n",
            "|   |   |   |   |   |   |   |   |   |   |   |--- truncated branch of depth 6\n",
            "|   |   |   |   |   |   |   |   |   |--- feature_3 >  1.16\n",
            "|   |   |   |   |   |   |   |   |   |   |--- feature_5 <= -0.41\n",
            "|   |   |   |   |   |   |   |   |   |   |   |--- class: 2\n",
            "|   |   |   |   |   |   |   |   |   |   |--- feature_5 >  -0.41\n",
            "|   |   |   |   |   |   |   |   |   |   |   |--- class: 1\n",
            "|   |--- feature_6 >  1.26\n",
            "|   |   |--- feature_5 <= -0.72\n",
            "|   |   |   |--- class: 2\n",
            "|   |   |--- feature_5 >  -0.72\n",
            "|   |   |   |--- feature_5 <= -0.55\n",
            "|   |   |   |   |--- feature_5 <= -0.63\n",
            "|   |   |   |   |   |--- class: 1\n",
            "|   |   |   |   |--- feature_5 >  -0.63\n",
            "|   |   |   |   |   |--- class: 2\n",
            "|   |   |   |--- feature_5 >  -0.55\n",
            "|   |   |   |   |--- class: 1\n",
            "\n"
          ]
        }
      ]
    },
    {
      "cell_type": "markdown",
      "source": [
        "# ***MODEL_4 [Random Forest]***"
      ],
      "metadata": {
        "id": "nCoTBA3h6eIF"
      },
      "id": "nCoTBA3h6eIF"
    },
    {
      "cell_type": "code",
      "source": [
        "from sklearn.ensemble import RandomForestClassifier\n",
        "model4=RandomForestClassifier(random_state=0)\n",
        "model4.fit(x_train, y_train)"
      ],
      "metadata": {
        "colab": {
          "base_uri": "https://localhost:8080/",
          "height": 74
        },
        "id": "RtVIXNQv6dU8",
        "outputId": "c34dfddd-65ad-480e-e591-d91bcfcc817b"
      },
      "id": "RtVIXNQv6dU8",
      "execution_count": null,
      "outputs": [
        {
          "output_type": "execute_result",
          "data": {
            "text/plain": [
              "RandomForestClassifier(random_state=0)"
            ],
            "text/html": [
              "<style>#sk-container-id-11 {color: black;background-color: white;}#sk-container-id-11 pre{padding: 0;}#sk-container-id-11 div.sk-toggleable {background-color: white;}#sk-container-id-11 label.sk-toggleable__label {cursor: pointer;display: block;width: 100%;margin-bottom: 0;padding: 0.3em;box-sizing: border-box;text-align: center;}#sk-container-id-11 label.sk-toggleable__label-arrow:before {content: \"▸\";float: left;margin-right: 0.25em;color: #696969;}#sk-container-id-11 label.sk-toggleable__label-arrow:hover:before {color: black;}#sk-container-id-11 div.sk-estimator:hover label.sk-toggleable__label-arrow:before {color: black;}#sk-container-id-11 div.sk-toggleable__content {max-height: 0;max-width: 0;overflow: hidden;text-align: left;background-color: #f0f8ff;}#sk-container-id-11 div.sk-toggleable__content pre {margin: 0.2em;color: black;border-radius: 0.25em;background-color: #f0f8ff;}#sk-container-id-11 input.sk-toggleable__control:checked~div.sk-toggleable__content {max-height: 200px;max-width: 100%;overflow: auto;}#sk-container-id-11 input.sk-toggleable__control:checked~label.sk-toggleable__label-arrow:before {content: \"▾\";}#sk-container-id-11 div.sk-estimator input.sk-toggleable__control:checked~label.sk-toggleable__label {background-color: #d4ebff;}#sk-container-id-11 div.sk-label input.sk-toggleable__control:checked~label.sk-toggleable__label {background-color: #d4ebff;}#sk-container-id-11 input.sk-hidden--visually {border: 0;clip: rect(1px 1px 1px 1px);clip: rect(1px, 1px, 1px, 1px);height: 1px;margin: -1px;overflow: hidden;padding: 0;position: absolute;width: 1px;}#sk-container-id-11 div.sk-estimator {font-family: monospace;background-color: #f0f8ff;border: 1px dotted black;border-radius: 0.25em;box-sizing: border-box;margin-bottom: 0.5em;}#sk-container-id-11 div.sk-estimator:hover {background-color: #d4ebff;}#sk-container-id-11 div.sk-parallel-item::after {content: \"\";width: 100%;border-bottom: 1px solid gray;flex-grow: 1;}#sk-container-id-11 div.sk-label:hover label.sk-toggleable__label {background-color: #d4ebff;}#sk-container-id-11 div.sk-serial::before {content: \"\";position: absolute;border-left: 1px solid gray;box-sizing: border-box;top: 0;bottom: 0;left: 50%;z-index: 0;}#sk-container-id-11 div.sk-serial {display: flex;flex-direction: column;align-items: center;background-color: white;padding-right: 0.2em;padding-left: 0.2em;position: relative;}#sk-container-id-11 div.sk-item {position: relative;z-index: 1;}#sk-container-id-11 div.sk-parallel {display: flex;align-items: stretch;justify-content: center;background-color: white;position: relative;}#sk-container-id-11 div.sk-item::before, #sk-container-id-11 div.sk-parallel-item::before {content: \"\";position: absolute;border-left: 1px solid gray;box-sizing: border-box;top: 0;bottom: 0;left: 50%;z-index: -1;}#sk-container-id-11 div.sk-parallel-item {display: flex;flex-direction: column;z-index: 1;position: relative;background-color: white;}#sk-container-id-11 div.sk-parallel-item:first-child::after {align-self: flex-end;width: 50%;}#sk-container-id-11 div.sk-parallel-item:last-child::after {align-self: flex-start;width: 50%;}#sk-container-id-11 div.sk-parallel-item:only-child::after {width: 0;}#sk-container-id-11 div.sk-dashed-wrapped {border: 1px dashed gray;margin: 0 0.4em 0.5em 0.4em;box-sizing: border-box;padding-bottom: 0.4em;background-color: white;}#sk-container-id-11 div.sk-label label {font-family: monospace;font-weight: bold;display: inline-block;line-height: 1.2em;}#sk-container-id-11 div.sk-label-container {text-align: center;}#sk-container-id-11 div.sk-container {/* jupyter's `normalize.less` sets `[hidden] { display: none; }` but bootstrap.min.css set `[hidden] { display: none !important; }` so we also need the `!important` here to be able to override the default hidden behavior on the sphinx rendered scikit-learn.org. See: https://github.com/scikit-learn/scikit-learn/issues/21755 */display: inline-block !important;position: relative;}#sk-container-id-11 div.sk-text-repr-fallback {display: none;}</style><div id=\"sk-container-id-11\" class=\"sk-top-container\"><div class=\"sk-text-repr-fallback\"><pre>RandomForestClassifier(random_state=0)</pre><b>In a Jupyter environment, please rerun this cell to show the HTML representation or trust the notebook. <br />On GitHub, the HTML representation is unable to render, please try loading this page with nbviewer.org.</b></div><div class=\"sk-container\" hidden><div class=\"sk-item\"><div class=\"sk-estimator sk-toggleable\"><input class=\"sk-toggleable__control sk-hidden--visually\" id=\"sk-estimator-id-11\" type=\"checkbox\" checked><label for=\"sk-estimator-id-11\" class=\"sk-toggleable__label sk-toggleable__label-arrow\">RandomForestClassifier</label><div class=\"sk-toggleable__content\"><pre>RandomForestClassifier(random_state=0)</pre></div></div></div></div></div>"
            ]
          },
          "metadata": {},
          "execution_count": 98
        }
      ]
    },
    {
      "cell_type": "code",
      "source": [
        "y_pred4=model4.predict(x_test)\n",
        "y_pred4"
      ],
      "metadata": {
        "colab": {
          "base_uri": "https://localhost:8080/"
        },
        "id": "yRHMJh086lYt",
        "outputId": "75d92e36-1636-48bf-96fa-d76e65a64521"
      },
      "id": "yRHMJh086lYt",
      "execution_count": null,
      "outputs": [
        {
          "output_type": "execute_result",
          "data": {
            "text/plain": [
              "array([1, 1, 1, ..., 1, 1, 1])"
            ]
          },
          "metadata": {},
          "execution_count": 99
        }
      ]
    },
    {
      "cell_type": "code",
      "source": [
        "model4.score(x_train,y_train)"
      ],
      "metadata": {
        "colab": {
          "base_uri": "https://localhost:8080/"
        },
        "id": "qAI3Mqlt6orc",
        "outputId": "39e9a65a-1ea8-41ef-840b-c2a8b1456f92"
      },
      "id": "qAI3Mqlt6orc",
      "execution_count": null,
      "outputs": [
        {
          "output_type": "execute_result",
          "data": {
            "text/plain": [
              "1.0"
            ]
          },
          "metadata": {},
          "execution_count": 100
        }
      ]
    },
    {
      "cell_type": "code",
      "source": [
        "e=model4.score(x_test,y_test)\n",
        "e"
      ],
      "metadata": {
        "colab": {
          "base_uri": "https://localhost:8080/"
        },
        "id": "wVPoygN26qUI",
        "outputId": "9653150e-bb70-4536-e839-bda063f12a18"
      },
      "id": "wVPoygN26qUI",
      "execution_count": null,
      "outputs": [
        {
          "output_type": "execute_result",
          "data": {
            "text/plain": [
              "0.9415384615384615"
            ]
          },
          "metadata": {},
          "execution_count": 101
        }
      ]
    },
    {
      "cell_type": "code",
      "source": [
        "from sklearn.metrics import confusion_matrix,accuracy_score\n",
        "cm=confusion_matrix(y_test,y_pred4)\n",
        "print(cm)\n",
        "accuracy_score(y_test,y_pred4)"
      ],
      "metadata": {
        "colab": {
          "base_uri": "https://localhost:8080/"
        },
        "id": "ql_Dus8J6sbZ",
        "outputId": "04e4469d-f563-4cdd-b99b-d55591f4d187"
      },
      "id": "ql_Dus8J6sbZ",
      "execution_count": null,
      "outputs": [
        {
          "output_type": "stream",
          "name": "stdout",
          "text": [
            "[[   6   60    0]\n",
            " [   1 1510    1]\n",
            " [   0   33   14]]\n"
          ]
        },
        {
          "output_type": "execute_result",
          "data": {
            "text/plain": [
              "0.9415384615384615"
            ]
          },
          "metadata": {},
          "execution_count": 102
        }
      ]
    },
    {
      "cell_type": "markdown",
      "source": [
        "# ***MODEL_5 [KNN]***"
      ],
      "metadata": {
        "id": "YC4kOmH74n67"
      },
      "id": "YC4kOmH74n67"
    },
    {
      "cell_type": "code",
      "source": [
        "from sklearn.neighbors import KNeighborsClassifier\n",
        "model5=KNeighborsClassifier()\n",
        "model5.fit(x_train,y_train)"
      ],
      "metadata": {
        "colab": {
          "base_uri": "https://localhost:8080/",
          "height": 74
        },
        "id": "hIKhXnJZ4mjz",
        "outputId": "79a60e76-a942-4a6a-8fa1-02aba07664e3"
      },
      "id": "hIKhXnJZ4mjz",
      "execution_count": null,
      "outputs": [
        {
          "output_type": "execute_result",
          "data": {
            "text/plain": [
              "KNeighborsClassifier()"
            ],
            "text/html": [
              "<style>#sk-container-id-12 {color: black;background-color: white;}#sk-container-id-12 pre{padding: 0;}#sk-container-id-12 div.sk-toggleable {background-color: white;}#sk-container-id-12 label.sk-toggleable__label {cursor: pointer;display: block;width: 100%;margin-bottom: 0;padding: 0.3em;box-sizing: border-box;text-align: center;}#sk-container-id-12 label.sk-toggleable__label-arrow:before {content: \"▸\";float: left;margin-right: 0.25em;color: #696969;}#sk-container-id-12 label.sk-toggleable__label-arrow:hover:before {color: black;}#sk-container-id-12 div.sk-estimator:hover label.sk-toggleable__label-arrow:before {color: black;}#sk-container-id-12 div.sk-toggleable__content {max-height: 0;max-width: 0;overflow: hidden;text-align: left;background-color: #f0f8ff;}#sk-container-id-12 div.sk-toggleable__content pre {margin: 0.2em;color: black;border-radius: 0.25em;background-color: #f0f8ff;}#sk-container-id-12 input.sk-toggleable__control:checked~div.sk-toggleable__content {max-height: 200px;max-width: 100%;overflow: auto;}#sk-container-id-12 input.sk-toggleable__control:checked~label.sk-toggleable__label-arrow:before {content: \"▾\";}#sk-container-id-12 div.sk-estimator input.sk-toggleable__control:checked~label.sk-toggleable__label {background-color: #d4ebff;}#sk-container-id-12 div.sk-label input.sk-toggleable__control:checked~label.sk-toggleable__label {background-color: #d4ebff;}#sk-container-id-12 input.sk-hidden--visually {border: 0;clip: rect(1px 1px 1px 1px);clip: rect(1px, 1px, 1px, 1px);height: 1px;margin: -1px;overflow: hidden;padding: 0;position: absolute;width: 1px;}#sk-container-id-12 div.sk-estimator {font-family: monospace;background-color: #f0f8ff;border: 1px dotted black;border-radius: 0.25em;box-sizing: border-box;margin-bottom: 0.5em;}#sk-container-id-12 div.sk-estimator:hover {background-color: #d4ebff;}#sk-container-id-12 div.sk-parallel-item::after {content: \"\";width: 100%;border-bottom: 1px solid gray;flex-grow: 1;}#sk-container-id-12 div.sk-label:hover label.sk-toggleable__label {background-color: #d4ebff;}#sk-container-id-12 div.sk-serial::before {content: \"\";position: absolute;border-left: 1px solid gray;box-sizing: border-box;top: 0;bottom: 0;left: 50%;z-index: 0;}#sk-container-id-12 div.sk-serial {display: flex;flex-direction: column;align-items: center;background-color: white;padding-right: 0.2em;padding-left: 0.2em;position: relative;}#sk-container-id-12 div.sk-item {position: relative;z-index: 1;}#sk-container-id-12 div.sk-parallel {display: flex;align-items: stretch;justify-content: center;background-color: white;position: relative;}#sk-container-id-12 div.sk-item::before, #sk-container-id-12 div.sk-parallel-item::before {content: \"\";position: absolute;border-left: 1px solid gray;box-sizing: border-box;top: 0;bottom: 0;left: 50%;z-index: -1;}#sk-container-id-12 div.sk-parallel-item {display: flex;flex-direction: column;z-index: 1;position: relative;background-color: white;}#sk-container-id-12 div.sk-parallel-item:first-child::after {align-self: flex-end;width: 50%;}#sk-container-id-12 div.sk-parallel-item:last-child::after {align-self: flex-start;width: 50%;}#sk-container-id-12 div.sk-parallel-item:only-child::after {width: 0;}#sk-container-id-12 div.sk-dashed-wrapped {border: 1px dashed gray;margin: 0 0.4em 0.5em 0.4em;box-sizing: border-box;padding-bottom: 0.4em;background-color: white;}#sk-container-id-12 div.sk-label label {font-family: monospace;font-weight: bold;display: inline-block;line-height: 1.2em;}#sk-container-id-12 div.sk-label-container {text-align: center;}#sk-container-id-12 div.sk-container {/* jupyter's `normalize.less` sets `[hidden] { display: none; }` but bootstrap.min.css set `[hidden] { display: none !important; }` so we also need the `!important` here to be able to override the default hidden behavior on the sphinx rendered scikit-learn.org. See: https://github.com/scikit-learn/scikit-learn/issues/21755 */display: inline-block !important;position: relative;}#sk-container-id-12 div.sk-text-repr-fallback {display: none;}</style><div id=\"sk-container-id-12\" class=\"sk-top-container\"><div class=\"sk-text-repr-fallback\"><pre>KNeighborsClassifier()</pre><b>In a Jupyter environment, please rerun this cell to show the HTML representation or trust the notebook. <br />On GitHub, the HTML representation is unable to render, please try loading this page with nbviewer.org.</b></div><div class=\"sk-container\" hidden><div class=\"sk-item\"><div class=\"sk-estimator sk-toggleable\"><input class=\"sk-toggleable__control sk-hidden--visually\" id=\"sk-estimator-id-12\" type=\"checkbox\" checked><label for=\"sk-estimator-id-12\" class=\"sk-toggleable__label sk-toggleable__label-arrow\">KNeighborsClassifier</label><div class=\"sk-toggleable__content\"><pre>KNeighborsClassifier()</pre></div></div></div></div></div>"
            ]
          },
          "metadata": {},
          "execution_count": 103
        }
      ]
    },
    {
      "cell_type": "code",
      "source": [
        "y_pred5=model5.predict(x_test)\n",
        "y_pred5"
      ],
      "metadata": {
        "colab": {
          "base_uri": "https://localhost:8080/"
        },
        "id": "KJ1z1BA_4wm3",
        "outputId": "1a471b5f-2d84-452a-8087-6ed174830292"
      },
      "id": "KJ1z1BA_4wm3",
      "execution_count": null,
      "outputs": [
        {
          "output_type": "execute_result",
          "data": {
            "text/plain": [
              "array([1, 1, 1, ..., 1, 1, 1])"
            ]
          },
          "metadata": {},
          "execution_count": 104
        }
      ]
    },
    {
      "cell_type": "code",
      "source": [
        "model5.score(x_train,y_train)"
      ],
      "metadata": {
        "colab": {
          "base_uri": "https://localhost:8080/"
        },
        "id": "rs7XeOKY4z-s",
        "outputId": "63f37b76-2adc-45fa-e26e-b82fdc595188"
      },
      "id": "rs7XeOKY4z-s",
      "execution_count": null,
      "outputs": [
        {
          "output_type": "execute_result",
          "data": {
            "text/plain": [
              "0.9406814449917899"
            ]
          },
          "metadata": {},
          "execution_count": 105
        }
      ]
    },
    {
      "cell_type": "code",
      "source": [
        "f=model5.score(x_test,y_test)\n",
        "f"
      ],
      "metadata": {
        "colab": {
          "base_uri": "https://localhost:8080/"
        },
        "id": "vKR84nQ840pU",
        "outputId": "293edb0b-1d7a-4e5a-c1f8-6e4a41f260fc"
      },
      "id": "vKR84nQ840pU",
      "execution_count": null,
      "outputs": [
        {
          "output_type": "execute_result",
          "data": {
            "text/plain": [
              "0.931076923076923"
            ]
          },
          "metadata": {},
          "execution_count": 106
        }
      ]
    },
    {
      "cell_type": "code",
      "source": [
        "from sklearn.metrics import confusion_matrix,accuracy_score\n",
        "cm=confusion_matrix(y_test,y_pred5)\n",
        "print(cm)\n",
        "accuracy_score(y_test,y_pred5)"
      ],
      "metadata": {
        "colab": {
          "base_uri": "https://localhost:8080/"
        },
        "id": "TShdiDBw432b",
        "outputId": "d5207341-dae5-4a5e-84a3-bc158b44386a"
      },
      "id": "TShdiDBw432b",
      "execution_count": null,
      "outputs": [
        {
          "output_type": "stream",
          "name": "stdout",
          "text": [
            "[[   3   63    0]\n",
            " [   4 1505    3]\n",
            " [   0   42    5]]\n"
          ]
        },
        {
          "output_type": "execute_result",
          "data": {
            "text/plain": [
              "0.931076923076923"
            ]
          },
          "metadata": {},
          "execution_count": 107
        }
      ]
    },
    {
      "cell_type": "code",
      "source": [
        "Testscores = pd.Series([b,c,d,e,f], \n",
        "                        index=['Logistic Regression','Support Vector Machine','Decision Tree','Random Forest','K-Nearest Neighbour']) \n",
        "print(Testscores)"
      ],
      "metadata": {
        "colab": {
          "base_uri": "https://localhost:8080/"
        },
        "id": "jmETBBiR7Toz",
        "outputId": "89e69b7b-954e-41e5-b7cc-c78a7b1e2dc7"
      },
      "id": "jmETBBiR7Toz",
      "execution_count": null,
      "outputs": [
        {
          "output_type": "stream",
          "name": "stdout",
          "text": [
            "Logistic Regression       0.931077\n",
            "Support Vector Machine    0.930462\n",
            "Decision Tree             0.879385\n",
            "Random Forest             0.941538\n",
            "K-Nearest Neighbour       0.931077\n",
            "dtype: float64\n"
          ]
        }
      ]
    },
    {
      "cell_type": "markdown",
      "source": [
        "# ***ACCURACY OF MODELS***"
      ],
      "metadata": {
        "id": "rI3P2vBH68_r"
      },
      "id": "rI3P2vBH68_r"
    },
    {
      "cell_type": "code",
      "source": [
        "model=['Logistic Regression','Support Vector Machine','Decision Tree','Random Forest','K-Nearest Neighbour']\n",
        "accuracy=[b,c,d,e,f]\n",
        "plt.figure(figsize=(10,8))\n",
        "col = ['blue','green','yellow','purple','blue','orange']\n",
        "plt.bar(model,accuracy,align='center',color=col)\n",
        "plt.xlabel(\"Accuracy\")\n",
        "plt.ylabel(\"Regression Models\")\n",
        "plt.title(\"Regression Model Scores\")"
      ],
      "metadata": {
        "colab": {
          "base_uri": "https://localhost:8080/",
          "height": 535
        },
        "id": "cuXzePmE7pk0",
        "outputId": "baa96714-209a-42fd-82f3-4a7bf510ad19"
      },
      "id": "cuXzePmE7pk0",
      "execution_count": null,
      "outputs": [
        {
          "output_type": "execute_result",
          "data": {
            "text/plain": [
              "Text(0.5, 1.0, 'Regression Model Scores')"
            ]
          },
          "metadata": {},
          "execution_count": 109
        },
        {
          "output_type": "display_data",
          "data": {
            "text/plain": [
              "<Figure size 720x576 with 1 Axes>"
            ],
            "image/png": "[encoded data removed]"
          },
          "metadata": {}
        }
      ]
    },
    {
      "cell_type": "code",
      "source": [
        "import plotly.graph_objs as go\n",
        "accuracy=[b,c,d,e,f]\n",
        "colors = ['green','yellow','purple','blue','orange']\n",
        "fig=go.Figure([go.Bar(x=model,y=accuracy)])\n",
        "fig.show()"
      ],
      "metadata": {
        "colab": {
          "base_uri": "https://localhost:8080/",
          "height": 542
        },
        "id": "_XP4Xfnt7HMM",
        "outputId": "f3d272d5-0145-4289-a303-42db82a905a9"
      },
      "id": "_XP4Xfnt7HMM",
      "execution_count": null,
      "outputs": [
        {
          "output_type": "display_data",
          "data": {
            "text/html": [
              "<html>\n",
              "<head><meta charset=\"utf-8\" /></head>\n",
              "<body>\n",
              "    <div>            <script src=\"https://cdnjs.cloudflare.com/ajax/libs/mathjax/2.7.5/MathJax.js?config=TeX-AMS-MML_SVG\"></script><script type=\"text/javascript\">if (window.MathJax && window.MathJax.Hub && window.MathJax.Hub.Config) {window.MathJax.Hub.Config({SVG: {font: \"STIX-Web\"}});}</script>                <script type=\"text/javascript\">window.PlotlyConfig = {MathJaxConfig: 'local'};</script>\n",
              "        <script src=\"https://cdn.plot.ly/plotly-2.18.2.min.js\"></script>                <div id=\"25661564-d9c5-434a-8d94-763b808bf2b3\" class=\"plotly-graph-div\" style=\"height:525px; width:100%;\"></div>            <script type=\"text/javascript\">                                    window.PLOTLYENV=window.PLOTLYENV || {};                                    if (document.getElementById(\"25661564-d9c5-434a-8d94-763b808bf2b3\")) {                    Plotly.newPlot(                        \"25661564-d9c5-434a-8d94-763b808bf2b3\",                        [{\"x\":[\"Logistic Regression\",\"Support Vector Machine\",\"Decision Tree\",\"Random Forest\",\"K-Nearest Neighbour\"],\"y\":[0.931076923076923,0.9304615384615385,0.8793846153846154,0.9415384615384615,0.931076923076923],\"type\":\"bar\"}],                        {\"template\":{\"data\":{\"histogram2dcontour\":[{\"type\":\"histogram2dcontour\",\"colorbar\":{\"outlinewidth\":0,\"ticks\":\"\"},\"colorscale\":[[0.0,\"#0d0887\"],[0.1111111111111111,\"#46039f\"],[0.2222222222222222,\"#7201a8\"],[0.3333333333333333,\"#9c179e\"],[0.4444444444444444,\"#bd3786\"],[0.5555555555555556,\"#d8576b\"],[0.6666666666666666,\"#ed7953\"],[0.7777777777777778,\"#fb9f3a\"],[0.8888888888888888,\"#fdca26\"],[1.0,\"#f0f921\"]]}],\"choropleth\":[{\"type\":\"choropleth\",\"colorbar\":{\"outlinewidth\":0,\"ticks\":\"\"}}],\"histogram2d\":[{\"type\":\"histogram2d\",\"colorbar\":{\"outlinewidth\":0,\"ticks\":\"\"},\"colorscale\":[[0.0,\"#0d0887\"],[0.1111111111111111,\"#46039f\"],[0.2222222222222222,\"#7201a8\"],[0.3333333333333333,\"#9c179e\"],[0.4444444444444444,\"#bd3786\"],[0.5555555555555556,\"#d8576b\"],[0.6666666666666666,\"#ed7953\"],[0.7777777777777778,\"#fb9f3a\"],[0.8888888888888888,\"#fdca26\"],[1.0,\"#f0f921\"]]}],\"heatmap\":[{\"type\":\"heatmap\",\"colorbar\":{\"outlinewidth\":0,\"ticks\":\"\"},\"colorscale\":[[0.0,\"#0d0887\"],[0.1111111111111111,\"#46039f\"],[0.2222222222222222,\"#7201a8\"],[0.3333333333333333,\"#9c179e\"],[0.4444444444444444,\"#bd3786\"],[0.5555555555555556,\"#d8576b\"],[0.6666666666666666,\"#ed7953\"],[0.7777777777777778,\"#fb9f3a\"],[0.8888888888888888,\"#fdca26\"],[1.0,\"#f0f921\"]]}],\"heatmapgl\":[{\"type\":\"heatmapgl\",\"colorbar\":{\"outlinewidth\":0,\"ticks\":\"\"},\"colorscale\":[[0.0,\"#0d0887\"],[0.1111111111111111,\"#46039f\"],[0.2222222222222222,\"#7201a8\"],[0.3333333333333333,\"#9c179e\"],[0.4444444444444444,\"#bd3786\"],[0.5555555555555556,\"#d8576b\"],[0.6666666666666666,\"#ed7953\"],[0.7777777777777778,\"#fb9f3a\"],[0.8888888888888888,\"#fdca26\"],[1.0,\"#f0f921\"]]}],\"contourcarpet\":[{\"type\":\"contourcarpet\",\"colorbar\":{\"outlinewidth\":0,\"ticks\":\"\"}}],\"contour\":[{\"type\":\"contour\",\"colorbar\":{\"outlinewidth\":0,\"ticks\":\"\"},\"colorscale\":[[0.0,\"#0d0887\"],[0.1111111111111111,\"#46039f\"],[0.2222222222222222,\"#7201a8\"],[0.3333333333333333,\"#9c179e\"],[0.4444444444444444,\"#bd3786\"],[0.5555555555555556,\"#d8576b\"],[0.6666666666666666,\"#ed7953\"],[0.7777777777777778,\"#fb9f3a\"],[0.8888888888888888,\"#fdca26\"],[1.0,\"#f0f921\"]]}],\"surface\":[{\"type\":\"surface\",\"colorbar\":{\"outlinewidth\":0,\"ticks\":\"\"},\"colorscale\":[[0.0,\"#0d0887\"],[0.1111111111111111,\"#46039f\"],[0.2222222222222222,\"#7201a8\"],[0.3333333333333333,\"#9c179e\"],[0.4444444444444444,\"#bd3786\"],[0.5555555555555556,\"#d8576b\"],[0.6666666666666666,\"#ed7953\"],[0.7777777777777778,\"#fb9f3a\"],[0.8888888888888888,\"#fdca26\"],[1.0,\"#f0f921\"]]}],\"mesh3d\":[{\"type\":\"mesh3d\",\"colorbar\":{\"outlinewidth\":0,\"ticks\":\"\"}}],\"scatter\":[{\"fillpattern\":{\"fillmode\":\"overlay\",\"size\":10,\"solidity\":0.2},\"type\":\"scatter\"}],\"parcoords\":[{\"type\":\"parcoords\",\"line\":{\"colorbar\":{\"outlinewidth\":0,\"ticks\":\"\"}}}],\"scatterpolargl\":[{\"type\":\"scatterpolargl\",\"marker\":{\"colorbar\":{\"outlinewidth\":0,\"ticks\":\"\"}}}],\"bar\":[{\"error_x\":{\"color\":\"#2a3f5f\"},\"error_y\":{\"color\":\"#2a3f5f\"},\"marker\":{\"line\":{\"color\":\"#E5ECF6\",\"width\":0.5},\"pattern\":{\"fillmode\":\"overlay\",\"size\":10,\"solidity\":0.2}},\"type\":\"bar\"}],\"scattergeo\":[{\"type\":\"scattergeo\",\"marker\":{\"colorbar\":{\"outlinewidth\":0,\"ticks\":\"\"}}}],\"scatterpolar\":[{\"type\":\"scatterpolar\",\"marker\":{\"colorbar\":{\"outlinewidth\":0,\"ticks\":\"\"}}}],\"histogram\":[{\"marker\":{\"pattern\":{\"fillmode\":\"overlay\",\"size\":10,\"solidity\":0.2}},\"type\":\"histogram\"}],\"scattergl\":[{\"type\":\"scattergl\",\"marker\":{\"colorbar\":{\"outlinewidth\":0,\"ticks\":\"\"}}}],\"scatter3d\":[{\"type\":\"scatter3d\",\"line\":{\"colorbar\":{\"outlinewidth\":0,\"ticks\":\"\"}},\"marker\":{\"colorbar\":{\"outlinewidth\":0,\"ticks\":\"\"}}}],\"scattermapbox\":[{\"type\":\"scattermapbox\",\"marker\":{\"colorbar\":{\"outlinewidth\":0,\"ticks\":\"\"}}}],\"scatterternary\":[{\"type\":\"scatterternary\",\"marker\":{\"colorbar\":{\"outlinewidth\":0,\"ticks\":\"\"}}}],\"scattercarpet\":[{\"type\":\"scattercarpet\",\"marker\":{\"colorbar\":{\"outlinewidth\":0,\"ticks\":\"\"}}}],\"carpet\":[{\"aaxis\":{\"endlinecolor\":\"#2a3f5f\",\"gridcolor\":\"white\",\"linecolor\":\"white\",\"minorgridcolor\":\"white\",\"startlinecolor\":\"#2a3f5f\"},\"baxis\":{\"endlinecolor\":\"#2a3f5f\",\"gridcolor\":\"white\",\"linecolor\":\"white\",\"minorgridcolor\":\"white\",\"startlinecolor\":\"#2a3f5f\"},\"type\":\"carpet\"}],\"table\":[{\"cells\":{\"fill\":{\"color\":\"#EBF0F8\"},\"line\":{\"color\":\"white\"}},\"header\":{\"fill\":{\"color\":\"#C8D4E3\"},\"line\":{\"color\":\"white\"}},\"type\":\"table\"}],\"barpolar\":[{\"marker\":{\"line\":{\"color\":\"#E5ECF6\",\"width\":0.5},\"pattern\":{\"fillmode\":\"overlay\",\"size\":10,\"solidity\":0.2}},\"type\":\"barpolar\"}],\"pie\":[{\"automargin\":true,\"type\":\"pie\"}]},\"layout\":{\"autotypenumbers\":\"strict\",\"colorway\":[\"#636efa\",\"#EF553B\",\"#00cc96\",\"#ab63fa\",\"#FFA15A\",\"#19d3f3\",\"#FF6692\",\"#B6E880\",\"#FF97FF\",\"#FECB52\"],\"font\":{\"color\":\"#2a3f5f\"},\"hovermode\":\"closest\",\"hoverlabel\":{\"align\":\"left\"},\"paper_bgcolor\":\"white\",\"plot_bgcolor\":\"#E5ECF6\",\"polar\":{\"bgcolor\":\"#E5ECF6\",\"angularaxis\":{\"gridcolor\":\"white\",\"linecolor\":\"white\",\"ticks\":\"\"},\"radialaxis\":{\"gridcolor\":\"white\",\"linecolor\":\"white\",\"ticks\":\"\"}},\"ternary\":{\"bgcolor\":\"#E5ECF6\",\"aaxis\":{\"gridcolor\":\"white\",\"linecolor\":\"white\",\"ticks\":\"\"},\"baxis\":{\"gridcolor\":\"white\",\"linecolor\":\"white\",\"ticks\":\"\"},\"caxis\":{\"gridcolor\":\"white\",\"linecolor\":\"white\",\"ticks\":\"\"}},\"coloraxis\":{\"colorbar\":{\"outlinewidth\":0,\"ticks\":\"\"}},\"colorscale\":{\"sequential\":[[0.0,\"#0d0887\"],[0.1111111111111111,\"#46039f\"],[0.2222222222222222,\"#7201a8\"],[0.3333333333333333,\"#9c179e\"],[0.4444444444444444,\"#bd3786\"],[0.5555555555555556,\"#d8576b\"],[0.6666666666666666,\"#ed7953\"],[0.7777777777777778,\"#fb9f3a\"],[0.8888888888888888,\"#fdca26\"],[1.0,\"#f0f921\"]],\"sequentialminus\":[[0.0,\"#0d0887\"],[0.1111111111111111,\"#46039f\"],[0.2222222222222222,\"#7201a8\"],[0.3333333333333333,\"#9c179e\"],[0.4444444444444444,\"#bd3786\"],[0.5555555555555556,\"#d8576b\"],[0.6666666666666666,\"#ed7953\"],[0.7777777777777778,\"#fb9f3a\"],[0.8888888888888888,\"#fdca26\"],[1.0,\"#f0f921\"]],\"diverging\":[[0,\"#8e0152\"],[0.1,\"#c51b7d\"],[0.2,\"#de77ae\"],[0.3,\"#f1b6da\"],[0.4,\"#fde0ef\"],[0.5,\"#f7f7f7\"],[0.6,\"#e6f5d0\"],[0.7,\"#b8e186\"],[0.8,\"#7fbc41\"],[0.9,\"#4d9221\"],[1,\"#276419\"]]},\"xaxis\":{\"gridcolor\":\"white\",\"linecolor\":\"white\",\"ticks\":\"\",\"title\":{\"standoff\":15},\"zerolinecolor\":\"white\",\"automargin\":true,\"zerolinewidth\":2},\"yaxis\":{\"gridcolor\":\"white\",\"linecolor\":\"white\",\"ticks\":\"\",\"title\":{\"standoff\":15},\"zerolinecolor\":\"white\",\"automargin\":true,\"zerolinewidth\":2},\"scene\":{\"xaxis\":{\"backgroundcolor\":\"#E5ECF6\",\"gridcolor\":\"white\",\"linecolor\":\"white\",\"showbackground\":true,\"ticks\":\"\",\"zerolinecolor\":\"white\",\"gridwidth\":2},\"yaxis\":{\"backgroundcolor\":\"#E5ECF6\",\"gridcolor\":\"white\",\"linecolor\":\"white\",\"showbackground\":true,\"ticks\":\"\",\"zerolinecolor\":\"white\",\"gridwidth\":2},\"zaxis\":{\"backgroundcolor\":\"#E5ECF6\",\"gridcolor\":\"white\",\"linecolor\":\"white\",\"showbackground\":true,\"ticks\":\"\",\"zerolinecolor\":\"white\",\"gridwidth\":2}},\"shapedefaults\":{\"line\":{\"color\":\"#2a3f5f\"}},\"annotationdefaults\":{\"arrowcolor\":\"#2a3f5f\",\"arrowhead\":0,\"arrowwidth\":1},\"geo\":{\"bgcolor\":\"white\",\"landcolor\":\"#E5ECF6\",\"subunitcolor\":\"white\",\"showland\":true,\"showlakes\":true,\"lakecolor\":\"white\"},\"title\":{\"x\":0.05},\"mapbox\":{\"style\":\"light\"}}}},                        {\"responsive\": true}                    ).then(function(){\n",
              "                            \n",
              "var gd = document.getElementById('25661564-d9c5-434a-8d94-763b808bf2b3');\n",
              "var x = new MutationObserver(function (mutations, observer) {{\n",
              "        var display = window.getComputedStyle(gd).display;\n",
              "        if (!display || display === 'none') {{\n",
              "            console.log([gd, 'removed!']);\n",
              "            Plotly.purge(gd);\n",
              "            observer.disconnect();\n",
              "        }}\n",
              "}});\n",
              "\n",
              "// Listen for the removal of the full notebook cells\n",
              "var notebookContainer = gd.closest('#notebook-container');\n",
              "if (notebookContainer) {{\n",
              "    x.observe(notebookContainer, {childList: true});\n",
              "}}\n",
              "\n",
              "// Listen for the clearing of the current output cell\n",
              "var outputEl = gd.closest('.output');\n",
              "if (outputEl) {{\n",
              "    x.observe(outputEl, {childList: true});\n",
              "}}\n",
              "\n",
              "                        })                };                            </script>        </div>\n",
              "</body>\n",
              "</html>"
            ]
          },
          "metadata": {}
        }
      ]
    },
    {
      "cell_type": "code",
      "execution_count": null,
      "metadata": {
        "id": "e061174b"
      },
      "outputs": [],
      "source": [
        "import pickle\n",
        "with open('wine_quality.pkl','wb') as f:\n",
        "    pickle.dump(model4,f)"
      ],
      "id": "e061174b"
    },
    {
      "cell_type": "code",
      "execution_count": null,
      "metadata": {
        "colab": {
          "base_uri": "https://localhost:8080/"
        },
        "id": "4d9512ce",
        "outputId": "9aa681cb-990e-43f0-fddb-08750f671b11"
      },
      "outputs": [
        {
          "output_type": "stream",
          "name": "stdout",
          "text": [
            "low\n"
          ]
        }
      ],
      "source": [
        "rf_model=pickle.load(open('wine_quality.pkl','rb'))\n",
        "wine_quality=rf_model.predict([[1,\t6.0,\t0.310,\t0.47,\t3.6,\t0.067,\t18.0,\t42.0,\t0.99549,\t3.39,\t0.660000,\t11.0]])[0]\n",
        "if wine_quality==0:\n",
        "  print(\"low\")\n",
        "elif wine_quality==1:\n",
        "  print(\"medium\")\n",
        "else:\n",
        "  print(\"high\")"
      ],
      "id": "4d9512ce"
    }
  ],
  "metadata": {
    "kernelspec": {
      "display_name": "Python 3 (ipykernel)",
      "language": "python",
      "name": "python3"
    },
    "language_info": {
      "codemirror_mode": {
        "name": "ipython",
        "version": 3
      },
      "file_extension": ".py",
      "mimetype": "text/x-python",
      "name": "python",
      "nbconvert_exporter": "python",
      "pygments_lexer": "ipython3",
      "version": "3.9.7"
    },
    "colab": {
      "provenance": []
    }
  },
  "nbformat": 4,
  "nbformat_minor": 5
}